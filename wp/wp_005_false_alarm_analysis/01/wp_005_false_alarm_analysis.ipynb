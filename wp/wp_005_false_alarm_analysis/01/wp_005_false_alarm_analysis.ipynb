{
 "cells": [
  {
   "cell_type": "code",
   "execution_count": 2,
   "metadata": {
    "collapsed": true
   },
   "outputs": [],
   "source": [
    "import psycopg2\n",
    "\n",
    "from sqlalchemy import create_engine\n",
    "from sqlalchemy import text\n",
    "\n",
    "import pandas as pd\n",
    "import seaborn as sns\n",
    "import numpy as np\n",
    "import matplotlib.pyplot as plt\n",
    "import seaborn as sns\n",
    "%matplotlib inline"
   ]
  },
  {
   "cell_type": "code",
   "execution_count": 3,
   "metadata": {
    "collapsed": true
   },
   "outputs": [],
   "source": [
    "database_host='10.152.29.90'"
   ]
  },
  {
   "cell_type": "code",
   "execution_count": 4,
   "metadata": {
    "collapsed": true
   },
   "outputs": [],
   "source": [
    "def get_connection(host = \"localhost\",schema=\"\" ):\n",
    "    \n",
    "    conn = psycopg2.connect(\"dbname='proj001_lfb' user='postgres' \"\n",
    "                            \"host=\" + host )\n",
    "    if schema:\n",
    "        cur = conn.cursor()\n",
    "        query = \"SET search_path TO {}\".format(schema)\n",
    "        cur.execute(query)\n",
    "\n",
    "    return conn"
   ]
  },
  {
   "cell_type": "markdown",
   "metadata": {},
   "source": [
    "# Create a feature dataset"
   ]
  },
  {
   "cell_type": "markdown",
   "metadata": {},
   "source": [
    "## Incidents"
   ]
  },
  {
   "cell_type": "code",
   "execution_count": 5,
   "metadata": {},
   "outputs": [
    {
     "data": {
      "text/html": [
       "<div>\n",
       "<table border=\"1\" class=\"dataframe\">\n",
       "  <thead>\n",
       "    <tr style=\"text-align: right;\">\n",
       "      <th></th>\n",
       "      <th>id</th>\n",
       "      <th>incidentnumber_cln</th>\n",
       "      <th>dateofcall_cln</th>\n",
       "      <th>id_incident_type</th>\n",
       "      <th>id_property</th>\n",
       "      <th>id_postcode</th>\n",
       "      <th>incident_station_ground</th>\n",
       "      <th>incidentgroup</th>\n",
       "      <th>stopcodedescription</th>\n",
       "    </tr>\n",
       "  </thead>\n",
       "  <tbody>\n",
       "    <tr>\n",
       "      <th>0</th>\n",
       "      <td>1</td>\n",
       "      <td>79398141</td>\n",
       "      <td>2014-06-22 10:21:15</td>\n",
       "      <td>2</td>\n",
       "      <td>21</td>\n",
       "      <td>108386</td>\n",
       "      <td>OVERTHEBORDER</td>\n",
       "      <td>False Alarm</td>\n",
       "      <td>False alarm - Good intent</td>\n",
       "    </tr>\n",
       "    <tr>\n",
       "      <th>1</th>\n",
       "      <td>2</td>\n",
       "      <td>168174131</td>\n",
       "      <td>2013-12-07 04:29:07</td>\n",
       "      <td>6</td>\n",
       "      <td>21</td>\n",
       "      <td>108387</td>\n",
       "      <td>OVERTHEBORDER</td>\n",
       "      <td>Fire</td>\n",
       "      <td>Primary Fire</td>\n",
       "    </tr>\n",
       "    <tr>\n",
       "      <th>2</th>\n",
       "      <td>3</td>\n",
       "      <td>167600111</td>\n",
       "      <td>2011-10-14 11:58:03</td>\n",
       "      <td>1</td>\n",
       "      <td>21</td>\n",
       "      <td>108388</td>\n",
       "      <td>BROMLEY</td>\n",
       "      <td>False Alarm</td>\n",
       "      <td>AFA</td>\n",
       "    </tr>\n",
       "    <tr>\n",
       "      <th>3</th>\n",
       "      <td>4</td>\n",
       "      <td>107752141</td>\n",
       "      <td>2014-08-12 16:48:29</td>\n",
       "      <td>6</td>\n",
       "      <td>30</td>\n",
       "      <td>108388</td>\n",
       "      <td>BROMLEY</td>\n",
       "      <td>Fire</td>\n",
       "      <td>Primary Fire</td>\n",
       "    </tr>\n",
       "    <tr>\n",
       "      <th>4</th>\n",
       "      <td>5</td>\n",
       "      <td>61181121</td>\n",
       "      <td>2012-05-03 19:53:30</td>\n",
       "      <td>1</td>\n",
       "      <td>18</td>\n",
       "      <td>108388</td>\n",
       "      <td>BROMLEY</td>\n",
       "      <td>False Alarm</td>\n",
       "      <td>AFA</td>\n",
       "    </tr>\n",
       "  </tbody>\n",
       "</table>\n",
       "</div>"
      ],
      "text/plain": [
       "   id incidentnumber_cln      dateofcall_cln  id_incident_type  id_property  \\\n",
       "0   1           79398141 2014-06-22 10:21:15                 2           21   \n",
       "1   2          168174131 2013-12-07 04:29:07                 6           21   \n",
       "2   3          167600111 2011-10-14 11:58:03                 1           21   \n",
       "3   4          107752141 2014-08-12 16:48:29                 6           30   \n",
       "4   5           61181121 2012-05-03 19:53:30                 1           18   \n",
       "\n",
       "   id_postcode incident_station_ground incidentgroup  \\\n",
       "0       108386           OVERTHEBORDER   False Alarm   \n",
       "1       108387           OVERTHEBORDER          Fire   \n",
       "2       108388                 BROMLEY   False Alarm   \n",
       "3       108388                 BROMLEY          Fire   \n",
       "4       108388                 BROMLEY   False Alarm   \n",
       "\n",
       "         stopcodedescription  \n",
       "0  False alarm - Good intent  \n",
       "1               Primary Fire  \n",
       "2                        AFA  \n",
       "3               Primary Fire  \n",
       "4                        AFA  "
      ]
     },
     "execution_count": 5,
     "metadata": {},
     "output_type": "execute_result"
    }
   ],
   "source": [
    "conn = get_connection(host=database_host)\n",
    "qry = (\"select incidents.*, types.incidentgroup, types.stopcodedescription \"\n",
    "          \"from proj001_lfb_1_0_0.l3_incidents incidents \"\n",
    "           \"left join \"\n",
    "           \"proj001_lfb_1_0_0.l3_incident_types types \"\n",
    "           \"on \"\n",
    "           \"incidents.id_incident_type = types.id\"\n",
    "          \";\")\n",
    "#data = pd.read_sql(qry, conn).drop(['store_no','store_type'], axis=1)  \n",
    "df_incidents = pd.read_sql(qry, conn)  \n",
    "conn.close()\n",
    "\n",
    "# drop some columns that won't be features\n",
    "df_incidents.drop(['num_stations_with_pumps_attending', 'num_pumps_attending'], axis =1 ,inplace=True)\n",
    "df_incidents.head()"
   ]
  },
  {
   "cell_type": "markdown",
   "metadata": {},
   "source": [
    "## Postcodes"
   ]
  },
  {
   "cell_type": "code",
   "execution_count": 17,
   "metadata": {},
   "outputs": [
    {
     "data": {
      "text/html": [
       "<div>\n",
       "<table border=\"1\" class=\"dataframe\">\n",
       "  <thead>\n",
       "    <tr style=\"text-align: right;\">\n",
       "      <th></th>\n",
       "      <th>id</th>\n",
       "      <th>postcode_full</th>\n",
       "      <th>postcode_district</th>\n",
       "      <th>incgeo_boroughname</th>\n",
       "      <th>incgeo_wardname</th>\n",
       "      <th>incgeo_wardnamenew</th>\n",
       "      <th>frs</th>\n",
       "    </tr>\n",
       "  </thead>\n",
       "  <tbody>\n",
       "    <tr>\n",
       "      <th>0</th>\n",
       "      <td>1</td>\n",
       "      <td>AL1 3EA</td>\n",
       "      <td>AL1</td>\n",
       "      <td>NOT GEO-CODED</td>\n",
       "      <td>NOT GEO-CODED</td>\n",
       "      <td>NOT GEO-CODED</td>\n",
       "      <td>OVERTHEBORDER</td>\n",
       "    </tr>\n",
       "    <tr>\n",
       "      <th>1</th>\n",
       "      <td>2</td>\n",
       "      <td>AL2 1QY</td>\n",
       "      <td>AL2</td>\n",
       "      <td>NOT GEO-CODED</td>\n",
       "      <td>NOT GEO-CODED</td>\n",
       "      <td>NOT GEO-CODED</td>\n",
       "      <td>OVERTHEBORDER</td>\n",
       "    </tr>\n",
       "    <tr>\n",
       "      <th>2</th>\n",
       "      <td>3</td>\n",
       "      <td>AL8 7QA</td>\n",
       "      <td>AL8</td>\n",
       "      <td>NOT GEO-CODED</td>\n",
       "      <td>NOT GEO-CODED</td>\n",
       "      <td>NOT GEO-CODED</td>\n",
       "      <td>OVERTHEBORDER</td>\n",
       "    </tr>\n",
       "    <tr>\n",
       "      <th>3</th>\n",
       "      <td>4</td>\n",
       "      <td>BR1 1AB</td>\n",
       "      <td>BR1</td>\n",
       "      <td>BROMLEY</td>\n",
       "      <td>BROMLEY TOWN</td>\n",
       "      <td>BROMLEY TOWN</td>\n",
       "      <td>LONDON</td>\n",
       "    </tr>\n",
       "    <tr>\n",
       "      <th>4</th>\n",
       "      <td>5</td>\n",
       "      <td>BR1 1AE</td>\n",
       "      <td>BR1</td>\n",
       "      <td>BROMLEY</td>\n",
       "      <td>BROMLEY TOWN</td>\n",
       "      <td>BROMLEY TOWN</td>\n",
       "      <td>LONDON</td>\n",
       "    </tr>\n",
       "  </tbody>\n",
       "</table>\n",
       "</div>"
      ],
      "text/plain": [
       "   id postcode_full postcode_district incgeo_boroughname incgeo_wardname  \\\n",
       "0   1       AL1 3EA               AL1      NOT GEO-CODED   NOT GEO-CODED   \n",
       "1   2       AL2 1QY               AL2      NOT GEO-CODED   NOT GEO-CODED   \n",
       "2   3       AL8 7QA               AL8      NOT GEO-CODED   NOT GEO-CODED   \n",
       "3   4       BR1 1AB               BR1            BROMLEY    BROMLEY TOWN   \n",
       "4   5       BR1 1AE               BR1            BROMLEY    BROMLEY TOWN   \n",
       "\n",
       "  incgeo_wardnamenew            frs  \n",
       "0      NOT GEO-CODED  OVERTHEBORDER  \n",
       "1      NOT GEO-CODED  OVERTHEBORDER  \n",
       "2      NOT GEO-CODED  OVERTHEBORDER  \n",
       "3       BROMLEY TOWN         LONDON  \n",
       "4       BROMLEY TOWN         LONDON  "
      ]
     },
     "execution_count": 17,
     "metadata": {},
     "output_type": "execute_result"
    }
   ],
   "source": [
    "conn = get_connection(host=database_host)\n",
    "qry = ('select *'\n",
    "          'from proj001_lfb_1_0_0.l3_postcodes '\n",
    "          ';')\n",
    "#data = pd.read_sql(qry, conn).drop(['store_no','store_type'], axis=1)  \n",
    "df_postcodes = pd.read_sql(qry, conn)  \n",
    "conn.close()\n",
    "df_postcodes.head()"
   ]
  },
  {
   "cell_type": "markdown",
   "metadata": {},
   "source": [
    "Here we discover that fields may need to be stripped of trailing spaces in the pipeline code and that a proportion of the postcodes are unlabelled."
   ]
  },
  {
   "cell_type": "code",
   "execution_count": 13,
   "metadata": {},
   "outputs": [
    {
     "name": "stdout",
     "output_type": "stream",
     "text": [
      "Unlabeled postcodes: 1669\n",
      "Total postcodes: 110157\n"
     ]
    }
   ],
   "source": [
    "df_empty_pcodes = df_postcodes[df_postcodes['incgeo_boroughname']\n",
    "             .map(lambda x: x.strip()) == 'NOT GEO-CODED'][['postcode_full','incgeo_boroughname']]['postcode_full'].unique()\n",
    "print(\"Unlabeled postcodes: \" + str(len(pd.DataFrame(df_empty_pcodes)) ))\n",
    "print(\"Total postcodes: \" + str(len(df_postcodes) ))"
   ]
  },
  {
   "cell_type": "code",
   "execution_count": 18,
   "metadata": {},
   "outputs": [
    {
     "data": {
      "text/html": [
       "<div>\n",
       "<table border=\"1\" class=\"dataframe\">\n",
       "  <thead>\n",
       "    <tr style=\"text-align: right;\">\n",
       "      <th></th>\n",
       "      <th>id</th>\n",
       "      <th>postcode_full</th>\n",
       "      <th>incgeo_boroughname</th>\n",
       "      <th>frs</th>\n",
       "    </tr>\n",
       "  </thead>\n",
       "  <tbody>\n",
       "    <tr>\n",
       "      <th>0</th>\n",
       "      <td>1</td>\n",
       "      <td>AL1 3EA</td>\n",
       "      <td>NOT GEO-CODED</td>\n",
       "      <td>OVERTHEBORDER</td>\n",
       "    </tr>\n",
       "    <tr>\n",
       "      <th>1</th>\n",
       "      <td>2</td>\n",
       "      <td>AL2 1QY</td>\n",
       "      <td>NOT GEO-CODED</td>\n",
       "      <td>OVERTHEBORDER</td>\n",
       "    </tr>\n",
       "  </tbody>\n",
       "</table>\n",
       "</div>"
      ],
      "text/plain": [
       "   id postcode_full incgeo_boroughname            frs\n",
       "0   1       AL1 3EA      NOT GEO-CODED  OVERTHEBORDER\n",
       "1   2       AL2 1QY      NOT GEO-CODED  OVERTHEBORDER"
      ]
     },
     "execution_count": 18,
     "metadata": {},
     "output_type": "execute_result"
    }
   ],
   "source": [
    "df_postcodes.drop(['postcode_district','incgeo_wardname','incgeo_wardnamenew'], inplace=True, axis =1 )\n",
    "df_postcodes.head(2)"
   ]
  },
  {
   "cell_type": "markdown",
   "metadata": {},
   "source": [
    "## Property details"
   ]
  },
  {
   "cell_type": "code",
   "execution_count": 21,
   "metadata": {},
   "outputs": [
    {
     "data": {
      "text/html": [
       "<div>\n",
       "<table border=\"1\" class=\"dataframe\">\n",
       "  <thead>\n",
       "    <tr style=\"text-align: right;\">\n",
       "      <th></th>\n",
       "      <th>id</th>\n",
       "      <th>propertycategory</th>\n",
       "      <th>propertytype</th>\n",
       "    </tr>\n",
       "  </thead>\n",
       "  <tbody>\n",
       "    <tr>\n",
       "      <th>0</th>\n",
       "      <td>1</td>\n",
       "      <td>Aircraft</td>\n",
       "      <td>Freight plane</td>\n",
       "    </tr>\n",
       "    <tr>\n",
       "      <th>1</th>\n",
       "      <td>2</td>\n",
       "      <td>Aircraft</td>\n",
       "      <td>Helicopter</td>\n",
       "    </tr>\n",
       "    <tr>\n",
       "      <th>2</th>\n",
       "      <td>3</td>\n",
       "      <td>Aircraft</td>\n",
       "      <td>Light aircraft</td>\n",
       "    </tr>\n",
       "  </tbody>\n",
       "</table>\n",
       "</div>"
      ],
      "text/plain": [
       "   id propertycategory     propertytype\n",
       "0   1         Aircraft   Freight plane \n",
       "1   2         Aircraft      Helicopter \n",
       "2   3         Aircraft  Light aircraft "
      ]
     },
     "execution_count": 21,
     "metadata": {},
     "output_type": "execute_result"
    }
   ],
   "source": [
    "conn = get_connection(host=database_host)\n",
    "qry = ('select *'\n",
    "          'from proj001_lfb_1_0_0.l3_property '\n",
    "          ';')\n",
    "#data = pd.read_sql(qry, conn).drop(['store_no','store_type'], axis=1)  \n",
    "df_property = pd.read_sql(qry, conn)  \n",
    "conn.close()\n",
    "df_property.head(3)"
   ]
  },
  {
   "cell_type": "markdown",
   "metadata": {},
   "source": [
    "# Features dataset"
   ]
  },
  {
   "cell_type": "code",
   "execution_count": 22,
   "metadata": {},
   "outputs": [
    {
     "data": {
      "text/plain": [
       "id                                  int64\n",
       "incidentnumber_cln                 object\n",
       "dateofcall_cln             datetime64[ns]\n",
       "id_incident_type                    int64\n",
       "id_property                         int64\n",
       "id_postcode                         int64\n",
       "incident_station_ground            object\n",
       "incidentgroup                      object\n",
       "stopcodedescription                object\n",
       "dtype: object"
      ]
     },
     "execution_count": 22,
     "metadata": {},
     "output_type": "execute_result"
    }
   ],
   "source": [
    "df_incidents.dtypes"
   ]
  }
 ],
 "metadata": {
  "kernelspec": {
   "display_name": "Python 3",
   "language": "python",
   "name": "python3"
  },
  "language_info": {
   "codemirror_mode": {
    "name": "ipython",
    "version": 3
   },
   "file_extension": ".py",
   "mimetype": "text/x-python",
   "name": "python",
   "nbconvert_exporter": "python",
   "pygments_lexer": "ipython3",
   "version": "3.5.4"
  }
 },
 "nbformat": 4,
 "nbformat_minor": 1
}
