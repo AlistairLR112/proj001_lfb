{
 "cells": [
  {
   "cell_type": "code",
   "execution_count": 2,
   "metadata": {
    "ExecuteTime": {
     "end_time": "2018-04-08T16:38:08.550010Z",
     "start_time": "2018-04-08T16:38:04.323033Z"
    }
   },
   "outputs": [],
   "source": [
    "import psycopg2\n",
    "\n",
    "from sqlalchemy import create_engine\n",
    "from sqlalchemy import text\n",
    "\n",
    "import pandas as pd\n",
    "import seaborn as sns\n",
    "import numpy as np\n",
    "import matplotlib.pyplot as plt\n",
    "import seaborn as sns\n",
    "%matplotlib inline"
   ]
  },
  {
   "cell_type": "code",
   "execution_count": 2,
   "metadata": {
    "ExecuteTime": {
     "end_time": "2018-04-08T10:21:11.792160Z",
     "start_time": "2018-04-08T10:21:11.786017Z"
    },
    "collapsed": true
   },
   "outputs": [],
   "source": [
    "database_host='localhost'"
   ]
  },
  {
   "cell_type": "code",
   "execution_count": 3,
   "metadata": {
    "ExecuteTime": {
     "end_time": "2018-04-08T10:21:14.609631Z",
     "start_time": "2018-04-08T10:21:14.593512Z"
    },
    "collapsed": true
   },
   "outputs": [],
   "source": [
    "def get_connection(host = \"localhost\",schema=\"\" ):\n",
    "    \n",
    "    conn = psycopg2.connect(\"dbname='proj001_lfb' user='postgres' \"\n",
    "                            \"host=\" + host )\n",
    "    if schema:\n",
    "        cur = conn.cursor()\n",
    "        query = \"SET search_path TO {}\".format(schema)\n",
    "        cur.execute(query)\n",
    "\n",
    "    return conn"
   ]
  },
  {
   "cell_type": "markdown",
   "metadata": {},
   "source": [
    "# Create a feature dataset"
   ]
  },
  {
   "cell_type": "markdown",
   "metadata": {},
   "source": [
    "## Incidents"
   ]
  },
  {
   "cell_type": "code",
   "execution_count": 4,
   "metadata": {
    "ExecuteTime": {
     "end_time": "2018-04-08T10:21:22.728592Z",
     "start_time": "2018-04-08T10:21:16.951476Z"
    }
   },
   "outputs": [
    {
     "data": {
      "text/html": [
       "<div>\n",
       "<style>\n",
       "    .dataframe thead tr:only-child th {\n",
       "        text-align: right;\n",
       "    }\n",
       "\n",
       "    .dataframe thead th {\n",
       "        text-align: left;\n",
       "    }\n",
       "\n",
       "    .dataframe tbody tr th {\n",
       "        vertical-align: top;\n",
       "    }\n",
       "</style>\n",
       "<table border=\"1\" class=\"dataframe\">\n",
       "  <thead>\n",
       "    <tr style=\"text-align: right;\">\n",
       "      <th></th>\n",
       "      <th>id</th>\n",
       "      <th>incidentnumber_cln</th>\n",
       "      <th>dateofcall_cln</th>\n",
       "      <th>id_incident_type</th>\n",
       "      <th>id_property</th>\n",
       "      <th>id_postcode</th>\n",
       "      <th>incident_station_ground</th>\n",
       "      <th>incidentgroup</th>\n",
       "      <th>stopcodedescription</th>\n",
       "    </tr>\n",
       "  </thead>\n",
       "  <tbody>\n",
       "    <tr>\n",
       "      <th>0</th>\n",
       "      <td>1</td>\n",
       "      <td>79398141</td>\n",
       "      <td>2014-06-22 10:21:15</td>\n",
       "      <td>2</td>\n",
       "      <td>24</td>\n",
       "      <td>108386</td>\n",
       "      <td>OVERTHEBORDER</td>\n",
       "      <td>False Alarm</td>\n",
       "      <td>False alarm - Good intent</td>\n",
       "    </tr>\n",
       "    <tr>\n",
       "      <th>1</th>\n",
       "      <td>2</td>\n",
       "      <td>168174131</td>\n",
       "      <td>2013-12-07 04:29:07</td>\n",
       "      <td>6</td>\n",
       "      <td>24</td>\n",
       "      <td>108387</td>\n",
       "      <td>OVERTHEBORDER</td>\n",
       "      <td>Fire</td>\n",
       "      <td>Primary Fire</td>\n",
       "    </tr>\n",
       "    <tr>\n",
       "      <th>2</th>\n",
       "      <td>3</td>\n",
       "      <td>168954111</td>\n",
       "      <td>2011-10-16 12:20:54</td>\n",
       "      <td>1</td>\n",
       "      <td>32</td>\n",
       "      <td>108388</td>\n",
       "      <td>BROMLEY</td>\n",
       "      <td>False Alarm</td>\n",
       "      <td>AFA</td>\n",
       "    </tr>\n",
       "    <tr>\n",
       "      <th>3</th>\n",
       "      <td>4</td>\n",
       "      <td>168866-17122017</td>\n",
       "      <td>2017-12-17 13:06:19</td>\n",
       "      <td>1</td>\n",
       "      <td>29</td>\n",
       "      <td>108388</td>\n",
       "      <td>BROMLEY</td>\n",
       "      <td>False Alarm</td>\n",
       "      <td>AFA</td>\n",
       "    </tr>\n",
       "    <tr>\n",
       "      <th>4</th>\n",
       "      <td>5</td>\n",
       "      <td>167600111</td>\n",
       "      <td>2011-10-14 11:58:03</td>\n",
       "      <td>1</td>\n",
       "      <td>24</td>\n",
       "      <td>108388</td>\n",
       "      <td>BROMLEY</td>\n",
       "      <td>False Alarm</td>\n",
       "      <td>AFA</td>\n",
       "    </tr>\n",
       "  </tbody>\n",
       "</table>\n",
       "</div>"
      ],
      "text/plain": [
       "   id incidentnumber_cln      dateofcall_cln  id_incident_type  id_property  \\\n",
       "0   1           79398141 2014-06-22 10:21:15                 2           24   \n",
       "1   2          168174131 2013-12-07 04:29:07                 6           24   \n",
       "2   3          168954111 2011-10-16 12:20:54                 1           32   \n",
       "3   4    168866-17122017 2017-12-17 13:06:19                 1           29   \n",
       "4   5          167600111 2011-10-14 11:58:03                 1           24   \n",
       "\n",
       "   id_postcode incident_station_ground incidentgroup  \\\n",
       "0       108386           OVERTHEBORDER   False Alarm   \n",
       "1       108387           OVERTHEBORDER          Fire   \n",
       "2       108388                 BROMLEY   False Alarm   \n",
       "3       108388                 BROMLEY   False Alarm   \n",
       "4       108388                 BROMLEY   False Alarm   \n",
       "\n",
       "         stopcodedescription  \n",
       "0  False alarm - Good intent  \n",
       "1               Primary Fire  \n",
       "2                        AFA  \n",
       "3                        AFA  \n",
       "4                        AFA  "
      ]
     },
     "execution_count": 4,
     "metadata": {},
     "output_type": "execute_result"
    }
   ],
   "source": [
    "conn = get_connection(host=database_host)\n",
    "qry = (\"select incidents.*, types.incidentgroup, types.stopcodedescription \"\n",
    "          \"from proj001_lfb_1_0_0.l3_incidents incidents \"\n",
    "           \"left join \"\n",
    "           \"proj001_lfb_1_0_0.l3_incident_types types \"\n",
    "           \"on \"\n",
    "           \"incidents.id_incident_type = types.id\"\n",
    "          \";\")\n",
    "#data = pd.read_sql(qry, conn).drop(['store_no','store_type'], axis=1)  \n",
    "df_incidents = pd.read_sql(qry, conn)  \n",
    "conn.close()\n",
    "\n",
    "# drop some columns that won't be features\n",
    "df_incidents.drop(['num_stations_with_pumps_attending', 'num_pumps_attending'], axis =1 ,inplace=True)\n",
    "df_incidents.head()"
   ]
  },
  {
   "cell_type": "markdown",
   "metadata": {},
   "source": [
    "## Postcodes"
   ]
  },
  {
   "cell_type": "code",
   "execution_count": 44,
   "metadata": {
    "ExecuteTime": {
     "end_time": "2018-04-08T10:50:21.878329Z",
     "start_time": "2018-04-08T10:50:20.626545Z"
    }
   },
   "outputs": [
    {
     "name": "stdout",
     "output_type": "stream",
     "text": [
      "   id postcode_full postcode_district incgeo_boroughname incgeo_wardname  \\\n",
      "0   1       AL1 3EA               AL1      NOT GEO-CODED   NOT GEO-CODED   \n",
      "1   2       AL2 1QY               AL2      NOT GEO-CODED   NOT GEO-CODED   \n",
      "2   3       AL8 7QA               AL8      NOT GEO-CODED   NOT GEO-CODED   \n",
      "3   4       BR1 1AB               BR1            BROMLEY    BROMLEY TOWN   \n",
      "4   5       BR1 1AE               BR1            BROMLEY    BROMLEY TOWN   \n",
      "\n",
      "  incgeo_wardnamenew            frs  \n",
      "0      NOT GEO-CODED  OVERTHEBORDER  \n",
      "1      NOT GEO-CODED  OVERTHEBORDER  \n",
      "2      NOT GEO-CODED  OVERTHEBORDER  \n",
      "3       BROMLEY TOWN         LONDON  \n",
      "4       BROMLEY TOWN         LONDON  \n"
     ]
    }
   ],
   "source": [
    "conn = get_connection(host=database_host)\n",
    "qry = ('select *'\n",
    "          'from proj001_lfb_1_0_0.l3_postcodes '\n",
    "          ';')\n",
    "#data = pd.read_sql(qry, conn).drop(['store_no','store_type'], axis=1)  \n",
    "df_postcodes = pd.read_sql(qry, conn)  \n",
    "conn.close()\n",
    "print(df_postcodes.head())\n"
   ]
  },
  {
   "cell_type": "markdown",
   "metadata": {},
   "source": [
    "Here we discover that fields may need to be stripped of trailing spaces in the pipeline code and that a proportion of the postcodes are unlabelled."
   ]
  },
  {
   "cell_type": "code",
   "execution_count": 6,
   "metadata": {
    "ExecuteTime": {
     "end_time": "2018-04-08T10:21:56.764907Z",
     "start_time": "2018-04-08T10:21:56.655914Z"
    }
   },
   "outputs": [
    {
     "name": "stdout",
     "output_type": "stream",
     "text": [
      "Unlabeled postcodes: 1669\n",
      "Total postcodes: 110157\n"
     ]
    }
   ],
   "source": [
    "df_empty_pcodes = df_postcodes[df_postcodes['incgeo_boroughname']\n",
    "             .map(lambda x: x.strip()) == 'NOT GEO-CODED'][['postcode_full','incgeo_boroughname']]['postcode_full'].unique()\n",
    "print(\"Unlabeled postcodes: \" + str(len(pd.DataFrame(df_empty_pcodes)) ))\n",
    "print(\"Total postcodes: \" + str(len(df_postcodes) ))"
   ]
  },
  {
   "cell_type": "code",
   "execution_count": 45,
   "metadata": {
    "ExecuteTime": {
     "end_time": "2018-04-08T10:50:34.279158Z",
     "start_time": "2018-04-08T10:50:34.256240Z"
    }
   },
   "outputs": [
    {
     "data": {
      "text/html": [
       "<div>\n",
       "<style>\n",
       "    .dataframe thead tr:only-child th {\n",
       "        text-align: right;\n",
       "    }\n",
       "\n",
       "    .dataframe thead th {\n",
       "        text-align: left;\n",
       "    }\n",
       "\n",
       "    .dataframe tbody tr th {\n",
       "        vertical-align: top;\n",
       "    }\n",
       "</style>\n",
       "<table border=\"1\" class=\"dataframe\">\n",
       "  <thead>\n",
       "    <tr style=\"text-align: right;\">\n",
       "      <th></th>\n",
       "      <th>id</th>\n",
       "      <th>postcode_full</th>\n",
       "      <th>postcode_district</th>\n",
       "      <th>incgeo_boroughname</th>\n",
       "      <th>incgeo_wardname</th>\n",
       "      <th>incgeo_wardnamenew</th>\n",
       "      <th>frs</th>\n",
       "    </tr>\n",
       "  </thead>\n",
       "  <tbody>\n",
       "    <tr>\n",
       "      <th>0</th>\n",
       "      <td>1</td>\n",
       "      <td>AL1 3EA</td>\n",
       "      <td>AL1</td>\n",
       "      <td>NOT GEO-CODED</td>\n",
       "      <td>NOT GEO-CODED</td>\n",
       "      <td>NOT GEO-CODED</td>\n",
       "      <td>OVERTHEBORDER</td>\n",
       "    </tr>\n",
       "    <tr>\n",
       "      <th>1</th>\n",
       "      <td>2</td>\n",
       "      <td>AL2 1QY</td>\n",
       "      <td>AL2</td>\n",
       "      <td>NOT GEO-CODED</td>\n",
       "      <td>NOT GEO-CODED</td>\n",
       "      <td>NOT GEO-CODED</td>\n",
       "      <td>OVERTHEBORDER</td>\n",
       "    </tr>\n",
       "    <tr>\n",
       "      <th>2</th>\n",
       "      <td>3</td>\n",
       "      <td>AL8 7QA</td>\n",
       "      <td>AL8</td>\n",
       "      <td>NOT GEO-CODED</td>\n",
       "      <td>NOT GEO-CODED</td>\n",
       "      <td>NOT GEO-CODED</td>\n",
       "      <td>OVERTHEBORDER</td>\n",
       "    </tr>\n",
       "    <tr>\n",
       "      <th>3</th>\n",
       "      <td>4</td>\n",
       "      <td>BR1 1AB</td>\n",
       "      <td>BR1</td>\n",
       "      <td>BROMLEY</td>\n",
       "      <td>BROMLEY TOWN</td>\n",
       "      <td>BROMLEY TOWN</td>\n",
       "      <td>LONDON</td>\n",
       "    </tr>\n",
       "    <tr>\n",
       "      <th>4</th>\n",
       "      <td>5</td>\n",
       "      <td>BR1 1AE</td>\n",
       "      <td>BR1</td>\n",
       "      <td>BROMLEY</td>\n",
       "      <td>BROMLEY TOWN</td>\n",
       "      <td>BROMLEY TOWN</td>\n",
       "      <td>LONDON</td>\n",
       "    </tr>\n",
       "  </tbody>\n",
       "</table>\n",
       "</div>"
      ],
      "text/plain": [
       "   id postcode_full postcode_district incgeo_boroughname incgeo_wardname  \\\n",
       "0   1       AL1 3EA               AL1      NOT GEO-CODED   NOT GEO-CODED   \n",
       "1   2       AL2 1QY               AL2      NOT GEO-CODED   NOT GEO-CODED   \n",
       "2   3       AL8 7QA               AL8      NOT GEO-CODED   NOT GEO-CODED   \n",
       "3   4       BR1 1AB               BR1            BROMLEY    BROMLEY TOWN   \n",
       "4   5       BR1 1AE               BR1            BROMLEY    BROMLEY TOWN   \n",
       "\n",
       "  incgeo_wardnamenew            frs  \n",
       "0      NOT GEO-CODED  OVERTHEBORDER  \n",
       "1      NOT GEO-CODED  OVERTHEBORDER  \n",
       "2      NOT GEO-CODED  OVERTHEBORDER  \n",
       "3       BROMLEY TOWN         LONDON  \n",
       "4       BROMLEY TOWN         LONDON  "
      ]
     },
     "execution_count": 45,
     "metadata": {},
     "output_type": "execute_result"
    }
   ],
   "source": [
    "df_postcodes.head(5)"
   ]
  },
  {
   "cell_type": "code",
   "execution_count": 8,
   "metadata": {
    "ExecuteTime": {
     "end_time": "2018-04-08T10:21:59.030132Z",
     "start_time": "2018-04-08T10:21:58.998849Z"
    },
    "collapsed": true
   },
   "outputs": [],
   "source": [
    "df_postcodes.drop(['incgeo_wardname','incgeo_wardnamenew'], inplace=True, axis =1 )"
   ]
  },
  {
   "cell_type": "markdown",
   "metadata": {},
   "source": [
    "## Property details"
   ]
  },
  {
   "cell_type": "code",
   "execution_count": 9,
   "metadata": {
    "ExecuteTime": {
     "end_time": "2018-04-08T10:22:00.454219Z",
     "start_time": "2018-04-08T10:22:00.414986Z"
    }
   },
   "outputs": [
    {
     "data": {
      "text/html": [
       "<div>\n",
       "<style>\n",
       "    .dataframe thead tr:only-child th {\n",
       "        text-align: right;\n",
       "    }\n",
       "\n",
       "    .dataframe thead th {\n",
       "        text-align: left;\n",
       "    }\n",
       "\n",
       "    .dataframe tbody tr th {\n",
       "        vertical-align: top;\n",
       "    }\n",
       "</style>\n",
       "<table border=\"1\" class=\"dataframe\">\n",
       "  <thead>\n",
       "    <tr style=\"text-align: right;\">\n",
       "      <th></th>\n",
       "      <th>id</th>\n",
       "      <th>propertycategory</th>\n",
       "      <th>propertytype</th>\n",
       "    </tr>\n",
       "  </thead>\n",
       "  <tbody>\n",
       "    <tr>\n",
       "      <th>0</th>\n",
       "      <td>1</td>\n",
       "      <td>Aircraft</td>\n",
       "      <td>Freight plane</td>\n",
       "    </tr>\n",
       "    <tr>\n",
       "      <th>1</th>\n",
       "      <td>2</td>\n",
       "      <td>Aircraft</td>\n",
       "      <td>Helicopter</td>\n",
       "    </tr>\n",
       "    <tr>\n",
       "      <th>2</th>\n",
       "      <td>3</td>\n",
       "      <td>Aircraft</td>\n",
       "      <td>Light aircraft</td>\n",
       "    </tr>\n",
       "  </tbody>\n",
       "</table>\n",
       "</div>"
      ],
      "text/plain": [
       "   id propertycategory     propertytype\n",
       "0   1         Aircraft   Freight plane \n",
       "1   2         Aircraft      Helicopter \n",
       "2   3         Aircraft  Light aircraft "
      ]
     },
     "execution_count": 9,
     "metadata": {},
     "output_type": "execute_result"
    }
   ],
   "source": [
    "conn = get_connection(host=database_host)\n",
    "qry = ('select *'\n",
    "          'from proj001_lfb_1_0_0.l3_property '\n",
    "          ';')\n",
    "#data = pd.read_sql(qry, conn).drop(['store_no','store_type'], axis=1)  \n",
    "df_property = pd.read_sql(qry, conn)  \n",
    "conn.close()\n",
    "df_property.head(3)"
   ]
  },
  {
   "cell_type": "markdown",
   "metadata": {},
   "source": [
    "# Features dataset\n",
    "Join together the relevant datasets and drop unnecessary columns."
   ]
  },
  {
   "cell_type": "code",
   "execution_count": 46,
   "metadata": {
    "ExecuteTime": {
     "end_time": "2018-04-08T10:50:55.508092Z",
     "start_time": "2018-04-08T10:50:46.206810Z"
    }
   },
   "outputs": [
    {
     "data": {
      "text/html": [
       "<div>\n",
       "<style>\n",
       "    .dataframe thead tr:only-child th {\n",
       "        text-align: right;\n",
       "    }\n",
       "\n",
       "    .dataframe thead th {\n",
       "        text-align: left;\n",
       "    }\n",
       "\n",
       "    .dataframe tbody tr th {\n",
       "        vertical-align: top;\n",
       "    }\n",
       "</style>\n",
       "<table border=\"1\" class=\"dataframe\">\n",
       "  <thead>\n",
       "    <tr style=\"text-align: right;\">\n",
       "      <th></th>\n",
       "      <th>id_x</th>\n",
       "      <th>incidentnumber_cln</th>\n",
       "      <th>dateofcall_cln</th>\n",
       "      <th>id_incident_type</th>\n",
       "      <th>id_property</th>\n",
       "      <th>id_postcode</th>\n",
       "      <th>incident_station_ground</th>\n",
       "      <th>incidentgroup</th>\n",
       "      <th>stopcodedescription</th>\n",
       "      <th>postcode_full</th>\n",
       "      <th>postcode_district</th>\n",
       "      <th>incgeo_boroughname</th>\n",
       "      <th>incgeo_wardname</th>\n",
       "      <th>incgeo_wardnamenew</th>\n",
       "      <th>frs</th>\n",
       "      <th>propertycategory</th>\n",
       "      <th>propertytype</th>\n",
       "    </tr>\n",
       "  </thead>\n",
       "  <tbody>\n",
       "    <tr>\n",
       "      <th>0</th>\n",
       "      <td>1</td>\n",
       "      <td>79398141</td>\n",
       "      <td>2014-06-22 10:21:15</td>\n",
       "      <td>2</td>\n",
       "      <td>24</td>\n",
       "      <td>108386</td>\n",
       "      <td>OVERTHEBORDER</td>\n",
       "      <td>False Alarm</td>\n",
       "      <td>False alarm - Good intent</td>\n",
       "      <td>None</td>\n",
       "      <td>AL7</td>\n",
       "      <td>NOT GEO-CODED</td>\n",
       "      <td>NOT GEO-CODED</td>\n",
       "      <td>NOT GEO-CODED</td>\n",
       "      <td>OVERTHEBORDER</td>\n",
       "      <td>Dwelling</td>\n",
       "      <td>House - single occupancy</td>\n",
       "    </tr>\n",
       "    <tr>\n",
       "      <th>1</th>\n",
       "      <td>2</td>\n",
       "      <td>168174131</td>\n",
       "      <td>2013-12-07 04:29:07</td>\n",
       "      <td>6</td>\n",
       "      <td>24</td>\n",
       "      <td>108387</td>\n",
       "      <td>OVERTHEBORDER</td>\n",
       "      <td>Fire</td>\n",
       "      <td>Primary Fire</td>\n",
       "      <td>None</td>\n",
       "      <td>AL8</td>\n",
       "      <td>NOT GEO-CODED</td>\n",
       "      <td>NOT GEO-CODED</td>\n",
       "      <td>NOT GEO-CODED</td>\n",
       "      <td>OVERTHEBORDER</td>\n",
       "      <td>Dwelling</td>\n",
       "      <td>House - single occupancy</td>\n",
       "    </tr>\n",
       "    <tr>\n",
       "      <th>2</th>\n",
       "      <td>3</td>\n",
       "      <td>168954111</td>\n",
       "      <td>2011-10-16 12:20:54</td>\n",
       "      <td>1</td>\n",
       "      <td>32</td>\n",
       "      <td>108388</td>\n",
       "      <td>BROMLEY</td>\n",
       "      <td>False Alarm</td>\n",
       "      <td>AFA</td>\n",
       "      <td>None</td>\n",
       "      <td>BR1</td>\n",
       "      <td>BROMLEY</td>\n",
       "      <td>BICKLEY</td>\n",
       "      <td>BICKLEY</td>\n",
       "      <td>LONDON</td>\n",
       "      <td>Dwelling</td>\n",
       "      <td>Self contained Sheltered Housing</td>\n",
       "    </tr>\n",
       "    <tr>\n",
       "      <th>3</th>\n",
       "      <td>4</td>\n",
       "      <td>168866-17122017</td>\n",
       "      <td>2017-12-17 13:06:19</td>\n",
       "      <td>1</td>\n",
       "      <td>29</td>\n",
       "      <td>108388</td>\n",
       "      <td>BROMLEY</td>\n",
       "      <td>False Alarm</td>\n",
       "      <td>AFA</td>\n",
       "      <td>None</td>\n",
       "      <td>BR1</td>\n",
       "      <td>BROMLEY</td>\n",
       "      <td>BICKLEY</td>\n",
       "      <td>BICKLEY</td>\n",
       "      <td>LONDON</td>\n",
       "      <td>Dwelling</td>\n",
       "      <td>Purpose Built Flats/Maisonettes - 4 to 9 storeys</td>\n",
       "    </tr>\n",
       "    <tr>\n",
       "      <th>4</th>\n",
       "      <td>5</td>\n",
       "      <td>167600111</td>\n",
       "      <td>2011-10-14 11:58:03</td>\n",
       "      <td>1</td>\n",
       "      <td>24</td>\n",
       "      <td>108388</td>\n",
       "      <td>BROMLEY</td>\n",
       "      <td>False Alarm</td>\n",
       "      <td>AFA</td>\n",
       "      <td>None</td>\n",
       "      <td>BR1</td>\n",
       "      <td>BROMLEY</td>\n",
       "      <td>BICKLEY</td>\n",
       "      <td>BICKLEY</td>\n",
       "      <td>LONDON</td>\n",
       "      <td>Dwelling</td>\n",
       "      <td>House - single occupancy</td>\n",
       "    </tr>\n",
       "  </tbody>\n",
       "</table>\n",
       "</div>"
      ],
      "text/plain": [
       "   id_x incidentnumber_cln      dateofcall_cln  id_incident_type  id_property  \\\n",
       "0     1           79398141 2014-06-22 10:21:15                 2           24   \n",
       "1     2          168174131 2013-12-07 04:29:07                 6           24   \n",
       "2     3          168954111 2011-10-16 12:20:54                 1           32   \n",
       "3     4    168866-17122017 2017-12-17 13:06:19                 1           29   \n",
       "4     5          167600111 2011-10-14 11:58:03                 1           24   \n",
       "\n",
       "   id_postcode incident_station_ground incidentgroup  \\\n",
       "0       108386           OVERTHEBORDER   False Alarm   \n",
       "1       108387           OVERTHEBORDER          Fire   \n",
       "2       108388                 BROMLEY   False Alarm   \n",
       "3       108388                 BROMLEY   False Alarm   \n",
       "4       108388                 BROMLEY   False Alarm   \n",
       "\n",
       "         stopcodedescription postcode_full postcode_district  \\\n",
       "0  False alarm - Good intent          None               AL7   \n",
       "1               Primary Fire          None               AL8   \n",
       "2                        AFA          None               BR1   \n",
       "3                        AFA          None               BR1   \n",
       "4                        AFA          None               BR1   \n",
       "\n",
       "  incgeo_boroughname incgeo_wardname incgeo_wardnamenew            frs  \\\n",
       "0      NOT GEO-CODED   NOT GEO-CODED      NOT GEO-CODED  OVERTHEBORDER   \n",
       "1      NOT GEO-CODED   NOT GEO-CODED      NOT GEO-CODED  OVERTHEBORDER   \n",
       "2            BROMLEY         BICKLEY            BICKLEY         LONDON   \n",
       "3            BROMLEY         BICKLEY            BICKLEY         LONDON   \n",
       "4            BROMLEY         BICKLEY            BICKLEY         LONDON   \n",
       "\n",
       "  propertycategory                                       propertytype  \n",
       "0         Dwelling                          House - single occupancy   \n",
       "1         Dwelling                          House - single occupancy   \n",
       "2         Dwelling                  Self contained Sheltered Housing   \n",
       "3         Dwelling  Purpose Built Flats/Maisonettes - 4 to 9 storeys   \n",
       "4         Dwelling                          House - single occupancy   "
      ]
     },
     "execution_count": 46,
     "metadata": {},
     "output_type": "execute_result"
    }
   ],
   "source": [
    "df_features = pd.merge(pd.merge(df_incidents,df_postcodes,left_on='id_postcode',right_on='id', how='left') , \n",
    "                       df_property,left_on='id_property',right_on='id',how='left')\n",
    "df_features.drop(['id','id_y'], inplace=True, axis =1)\n",
    "df_features.head()"
   ]
  },
  {
   "cell_type": "markdown",
   "metadata": {},
   "source": [
    "Reorder columns into tidydata format"
   ]
  },
  {
   "cell_type": "code",
   "execution_count": 49,
   "metadata": {
    "ExecuteTime": {
     "end_time": "2018-04-08T10:52:00.752925Z",
     "start_time": "2018-04-08T10:52:00.526430Z"
    }
   },
   "outputs": [
    {
     "data": {
      "text/html": [
       "<div>\n",
       "<style>\n",
       "    .dataframe thead tr:only-child th {\n",
       "        text-align: right;\n",
       "    }\n",
       "\n",
       "    .dataframe thead th {\n",
       "        text-align: left;\n",
       "    }\n",
       "\n",
       "    .dataframe tbody tr th {\n",
       "        vertical-align: top;\n",
       "    }\n",
       "</style>\n",
       "<table border=\"1\" class=\"dataframe\">\n",
       "  <thead>\n",
       "    <tr style=\"text-align: right;\">\n",
       "      <th></th>\n",
       "      <th>id_x</th>\n",
       "      <th>dateofcall_cln</th>\n",
       "      <th>incidentnumber_cln</th>\n",
       "      <th>id_incident_type</th>\n",
       "      <th>id_property</th>\n",
       "      <th>id_postcode</th>\n",
       "      <th>incident_station_ground</th>\n",
       "      <th>postcode_full</th>\n",
       "      <th>postcode_district</th>\n",
       "      <th>incgeo_boroughname</th>\n",
       "      <th>frs</th>\n",
       "      <th>propertycategory</th>\n",
       "      <th>propertytype</th>\n",
       "      <th>incidentgroup</th>\n",
       "      <th>stopcodedescription</th>\n",
       "    </tr>\n",
       "  </thead>\n",
       "  <tbody>\n",
       "    <tr>\n",
       "      <th>0</th>\n",
       "      <td>1</td>\n",
       "      <td>2014-06-22 10:21:15</td>\n",
       "      <td>79398141</td>\n",
       "      <td>2</td>\n",
       "      <td>24</td>\n",
       "      <td>108386</td>\n",
       "      <td>OVERTHEBORDER</td>\n",
       "      <td>None</td>\n",
       "      <td>AL7</td>\n",
       "      <td>NOT GEO-CODED</td>\n",
       "      <td>OVERTHEBORDER</td>\n",
       "      <td>Dwelling</td>\n",
       "      <td>House - single occupancy</td>\n",
       "      <td>False Alarm</td>\n",
       "      <td>False alarm - Good intent</td>\n",
       "    </tr>\n",
       "    <tr>\n",
       "      <th>1</th>\n",
       "      <td>2</td>\n",
       "      <td>2013-12-07 04:29:07</td>\n",
       "      <td>168174131</td>\n",
       "      <td>6</td>\n",
       "      <td>24</td>\n",
       "      <td>108387</td>\n",
       "      <td>OVERTHEBORDER</td>\n",
       "      <td>None</td>\n",
       "      <td>AL8</td>\n",
       "      <td>NOT GEO-CODED</td>\n",
       "      <td>OVERTHEBORDER</td>\n",
       "      <td>Dwelling</td>\n",
       "      <td>House - single occupancy</td>\n",
       "      <td>Fire</td>\n",
       "      <td>Primary Fire</td>\n",
       "    </tr>\n",
       "    <tr>\n",
       "      <th>2</th>\n",
       "      <td>3</td>\n",
       "      <td>2011-10-16 12:20:54</td>\n",
       "      <td>168954111</td>\n",
       "      <td>1</td>\n",
       "      <td>32</td>\n",
       "      <td>108388</td>\n",
       "      <td>BROMLEY</td>\n",
       "      <td>None</td>\n",
       "      <td>BR1</td>\n",
       "      <td>BROMLEY</td>\n",
       "      <td>LONDON</td>\n",
       "      <td>Dwelling</td>\n",
       "      <td>Self contained Sheltered Housing</td>\n",
       "      <td>False Alarm</td>\n",
       "      <td>AFA</td>\n",
       "    </tr>\n",
       "    <tr>\n",
       "      <th>3</th>\n",
       "      <td>4</td>\n",
       "      <td>2017-12-17 13:06:19</td>\n",
       "      <td>168866-17122017</td>\n",
       "      <td>1</td>\n",
       "      <td>29</td>\n",
       "      <td>108388</td>\n",
       "      <td>BROMLEY</td>\n",
       "      <td>None</td>\n",
       "      <td>BR1</td>\n",
       "      <td>BROMLEY</td>\n",
       "      <td>LONDON</td>\n",
       "      <td>Dwelling</td>\n",
       "      <td>Purpose Built Flats/Maisonettes - 4 to 9 storeys</td>\n",
       "      <td>False Alarm</td>\n",
       "      <td>AFA</td>\n",
       "    </tr>\n",
       "    <tr>\n",
       "      <th>4</th>\n",
       "      <td>5</td>\n",
       "      <td>2011-10-14 11:58:03</td>\n",
       "      <td>167600111</td>\n",
       "      <td>1</td>\n",
       "      <td>24</td>\n",
       "      <td>108388</td>\n",
       "      <td>BROMLEY</td>\n",
       "      <td>None</td>\n",
       "      <td>BR1</td>\n",
       "      <td>BROMLEY</td>\n",
       "      <td>LONDON</td>\n",
       "      <td>Dwelling</td>\n",
       "      <td>House - single occupancy</td>\n",
       "      <td>False Alarm</td>\n",
       "      <td>AFA</td>\n",
       "    </tr>\n",
       "  </tbody>\n",
       "</table>\n",
       "</div>"
      ],
      "text/plain": [
       "   id_x      dateofcall_cln incidentnumber_cln  id_incident_type  id_property  \\\n",
       "0     1 2014-06-22 10:21:15           79398141                 2           24   \n",
       "1     2 2013-12-07 04:29:07          168174131                 6           24   \n",
       "2     3 2011-10-16 12:20:54          168954111                 1           32   \n",
       "3     4 2017-12-17 13:06:19    168866-17122017                 1           29   \n",
       "4     5 2011-10-14 11:58:03          167600111                 1           24   \n",
       "\n",
       "   id_postcode incident_station_ground postcode_full postcode_district  \\\n",
       "0       108386           OVERTHEBORDER          None               AL7   \n",
       "1       108387           OVERTHEBORDER          None               AL8   \n",
       "2       108388                 BROMLEY          None               BR1   \n",
       "3       108388                 BROMLEY          None               BR1   \n",
       "4       108388                 BROMLEY          None               BR1   \n",
       "\n",
       "  incgeo_boroughname            frs propertycategory  \\\n",
       "0      NOT GEO-CODED  OVERTHEBORDER         Dwelling   \n",
       "1      NOT GEO-CODED  OVERTHEBORDER         Dwelling   \n",
       "2            BROMLEY         LONDON         Dwelling   \n",
       "3            BROMLEY         LONDON         Dwelling   \n",
       "4            BROMLEY         LONDON         Dwelling   \n",
       "\n",
       "                                        propertytype incidentgroup  \\\n",
       "0                          House - single occupancy    False Alarm   \n",
       "1                          House - single occupancy           Fire   \n",
       "2                  Self contained Sheltered Housing    False Alarm   \n",
       "3  Purpose Built Flats/Maisonettes - 4 to 9 storeys    False Alarm   \n",
       "4                          House - single occupancy    False Alarm   \n",
       "\n",
       "         stopcodedescription  \n",
       "0  False alarm - Good intent  \n",
       "1               Primary Fire  \n",
       "2                        AFA  \n",
       "3                        AFA  \n",
       "4                        AFA  "
      ]
     },
     "execution_count": 49,
     "metadata": {},
     "output_type": "execute_result"
    }
   ],
   "source": [
    "df_features.columns.tolist\n",
    "cols = ['id_x', 'dateofcall_cln','incidentnumber_cln', 'id_incident_type',\n",
    "       'id_property', 'id_postcode', 'incident_station_ground',\n",
    "     'postcode_full'\n",
    "        ,'postcode_district'\n",
    "       ,'incgeo_boroughname', 'frs', 'propertycategory', 'propertytype', 'incidentgroup','stopcodedescription']\n",
    "df_features=df_features[cols]\n",
    "df_features.head()"
   ]
  },
  {
   "cell_type": "markdown",
   "metadata": {},
   "source": [
    "# Create the event label\n",
    "First let's look at the different types of false alarms. AFA is an automatic alarm system. "
   ]
  },
  {
   "cell_type": "code",
   "execution_count": 50,
   "metadata": {
    "ExecuteTime": {
     "end_time": "2018-04-08T10:52:16.940600Z",
     "start_time": "2018-04-08T10:52:16.634530Z"
    },
    "scrolled": true
   },
   "outputs": [
    {
     "data": {
      "text/html": [
       "<div>\n",
       "<style>\n",
       "    .dataframe thead tr:only-child th {\n",
       "        text-align: right;\n",
       "    }\n",
       "\n",
       "    .dataframe thead th {\n",
       "        text-align: left;\n",
       "    }\n",
       "\n",
       "    .dataframe tbody tr th {\n",
       "        vertical-align: top;\n",
       "    }\n",
       "</style>\n",
       "<table border=\"1\" class=\"dataframe\">\n",
       "  <thead>\n",
       "    <tr style=\"text-align: right;\">\n",
       "      <th></th>\n",
       "      <th>incidentgroup</th>\n",
       "      <th>stopcodedescription</th>\n",
       "    </tr>\n",
       "  </thead>\n",
       "  <tbody>\n",
       "    <tr>\n",
       "      <th>0</th>\n",
       "      <td>False Alarm</td>\n",
       "      <td>False alarm - Good intent</td>\n",
       "    </tr>\n",
       "    <tr>\n",
       "      <th>2</th>\n",
       "      <td>False Alarm</td>\n",
       "      <td>AFA</td>\n",
       "    </tr>\n",
       "    <tr>\n",
       "      <th>65</th>\n",
       "      <td>False Alarm</td>\n",
       "      <td>False alarm - Malicious</td>\n",
       "    </tr>\n",
       "    <tr>\n",
       "      <th>1</th>\n",
       "      <td>Fire</td>\n",
       "      <td>Primary Fire</td>\n",
       "    </tr>\n",
       "    <tr>\n",
       "      <th>14</th>\n",
       "      <td>Fire</td>\n",
       "      <td>Chimney Fire</td>\n",
       "    </tr>\n",
       "    <tr>\n",
       "      <th>571</th>\n",
       "      <td>Fire</td>\n",
       "      <td>Secondary Fire</td>\n",
       "    </tr>\n",
       "    <tr>\n",
       "      <th>3127</th>\n",
       "      <td>Fire</td>\n",
       "      <td>Late Call</td>\n",
       "    </tr>\n",
       "    <tr>\n",
       "      <th>452853</th>\n",
       "      <td>NULL</td>\n",
       "      <td>NULL</td>\n",
       "    </tr>\n",
       "    <tr>\n",
       "      <th>11</th>\n",
       "      <td>Special Service</td>\n",
       "      <td>Special Service</td>\n",
       "    </tr>\n",
       "    <tr>\n",
       "      <th>42</th>\n",
       "      <td>Special Service</td>\n",
       "      <td>Flood call attended - Batch mobilised</td>\n",
       "    </tr>\n",
       "    <tr>\n",
       "      <th>36700</th>\n",
       "      <td>Special Service</td>\n",
       "      <td>Use of Special Operations Room</td>\n",
       "    </tr>\n",
       "  </tbody>\n",
       "</table>\n",
       "</div>"
      ],
      "text/plain": [
       "          incidentgroup                    stopcodedescription\n",
       "0           False Alarm              False alarm - Good intent\n",
       "2           False Alarm                                    AFA\n",
       "65          False Alarm                False alarm - Malicious\n",
       "1                  Fire                           Primary Fire\n",
       "14                 Fire                           Chimney Fire\n",
       "571                Fire                         Secondary Fire\n",
       "3127               Fire                              Late Call\n",
       "452853             NULL                                   NULL\n",
       "11      Special Service                        Special Service\n",
       "42      Special Service  Flood call attended - Batch mobilised\n",
       "36700   Special Service         Use of Special Operations Room"
      ]
     },
     "execution_count": 50,
     "metadata": {},
     "output_type": "execute_result"
    }
   ],
   "source": [
    "df_features[['incidentgroup','stopcodedescription']].drop_duplicates().sort_values(by='incidentgroup')"
   ]
  },
  {
   "cell_type": "markdown",
   "metadata": {},
   "source": [
    "NULL alarm types are not significant so we will drop them"
   ]
  },
  {
   "cell_type": "code",
   "execution_count": 51,
   "metadata": {
    "ExecuteTime": {
     "end_time": "2018-04-08T10:52:23.849490Z",
     "start_time": "2018-04-08T10:52:22.481895Z"
    }
   },
   "outputs": [
    {
     "name": "stdout",
     "output_type": "stream",
     "text": [
      "Rows before drop: 993030\n",
      "Rows after drop: 993027\n"
     ]
    }
   ],
   "source": [
    "df_null_incidents=df_features.groupby(['incidentgroup','stopcodedescription']).count().reset_index()\n",
    "print(\"Rows before drop: \" + str(len(df_features)))\n",
    "df_features=df_features.drop(df_features[df_features['incidentgroup'] == 'NULL'].index)\n",
    "print(\"Rows after drop: \" + str(len(df_features)))"
   ]
  },
  {
   "cell_type": "markdown",
   "metadata": {},
   "source": [
    "Create the label variable"
   ]
  },
  {
   "cell_type": "code",
   "execution_count": 52,
   "metadata": {
    "ExecuteTime": {
     "end_time": "2018-04-08T10:52:26.312741Z",
     "start_time": "2018-04-08T10:52:25.752835Z"
    },
    "scrolled": true
   },
   "outputs": [
    {
     "data": {
      "text/html": [
       "<div>\n",
       "<style>\n",
       "    .dataframe thead tr:only-child th {\n",
       "        text-align: right;\n",
       "    }\n",
       "\n",
       "    .dataframe thead th {\n",
       "        text-align: left;\n",
       "    }\n",
       "\n",
       "    .dataframe tbody tr th {\n",
       "        vertical-align: top;\n",
       "    }\n",
       "</style>\n",
       "<table border=\"1\" class=\"dataframe\">\n",
       "  <thead>\n",
       "    <tr style=\"text-align: right;\">\n",
       "      <th></th>\n",
       "      <th>incidentgroup</th>\n",
       "      <th>stopcodedescription</th>\n",
       "      <th>is_malicious_false_alarm</th>\n",
       "    </tr>\n",
       "  </thead>\n",
       "  <tbody>\n",
       "    <tr>\n",
       "      <th>0</th>\n",
       "      <td>False Alarm</td>\n",
       "      <td>False alarm - Good intent</td>\n",
       "      <td>0</td>\n",
       "    </tr>\n",
       "    <tr>\n",
       "      <th>2</th>\n",
       "      <td>False Alarm</td>\n",
       "      <td>AFA</td>\n",
       "      <td>0</td>\n",
       "    </tr>\n",
       "    <tr>\n",
       "      <th>65</th>\n",
       "      <td>False Alarm</td>\n",
       "      <td>False alarm - Malicious</td>\n",
       "      <td>1</td>\n",
       "    </tr>\n",
       "    <tr>\n",
       "      <th>1</th>\n",
       "      <td>Fire</td>\n",
       "      <td>Primary Fire</td>\n",
       "      <td>0</td>\n",
       "    </tr>\n",
       "    <tr>\n",
       "      <th>14</th>\n",
       "      <td>Fire</td>\n",
       "      <td>Chimney Fire</td>\n",
       "      <td>0</td>\n",
       "    </tr>\n",
       "    <tr>\n",
       "      <th>571</th>\n",
       "      <td>Fire</td>\n",
       "      <td>Secondary Fire</td>\n",
       "      <td>0</td>\n",
       "    </tr>\n",
       "    <tr>\n",
       "      <th>3127</th>\n",
       "      <td>Fire</td>\n",
       "      <td>Late Call</td>\n",
       "      <td>0</td>\n",
       "    </tr>\n",
       "    <tr>\n",
       "      <th>11</th>\n",
       "      <td>Special Service</td>\n",
       "      <td>Special Service</td>\n",
       "      <td>0</td>\n",
       "    </tr>\n",
       "    <tr>\n",
       "      <th>42</th>\n",
       "      <td>Special Service</td>\n",
       "      <td>Flood call attended - Batch mobilised</td>\n",
       "      <td>0</td>\n",
       "    </tr>\n",
       "    <tr>\n",
       "      <th>36700</th>\n",
       "      <td>Special Service</td>\n",
       "      <td>Use of Special Operations Room</td>\n",
       "      <td>0</td>\n",
       "    </tr>\n",
       "  </tbody>\n",
       "</table>\n",
       "</div>"
      ],
      "text/plain": [
       "         incidentgroup                    stopcodedescription  \\\n",
       "0          False Alarm              False alarm - Good intent   \n",
       "2          False Alarm                                    AFA   \n",
       "65         False Alarm                False alarm - Malicious   \n",
       "1                 Fire                           Primary Fire   \n",
       "14                Fire                           Chimney Fire   \n",
       "571               Fire                         Secondary Fire   \n",
       "3127              Fire                              Late Call   \n",
       "11     Special Service                        Special Service   \n",
       "42     Special Service  Flood call attended - Batch mobilised   \n",
       "36700  Special Service         Use of Special Operations Room   \n",
       "\n",
       "       is_malicious_false_alarm  \n",
       "0                             0  \n",
       "2                             0  \n",
       "65                            1  \n",
       "1                             0  \n",
       "14                            0  \n",
       "571                           0  \n",
       "3127                          0  \n",
       "11                            0  \n",
       "42                            0  \n",
       "36700                         0  "
      ]
     },
     "execution_count": 52,
     "metadata": {},
     "output_type": "execute_result"
    }
   ],
   "source": [
    "df_features['is_malicious_false_alarm'] = np.where(df_features['stopcodedescription'] == 'False alarm - Malicious', 1,0)\n",
    "df_features[['incidentgroup','stopcodedescription','is_malicious_false_alarm']].drop_duplicates().sort_values(by='incidentgroup')\n"
   ]
  },
  {
   "cell_type": "markdown",
   "metadata": {},
   "source": [
    "Look at whether this is an imbalanced class or not"
   ]
  },
  {
   "cell_type": "code",
   "execution_count": 15,
   "metadata": {
    "ExecuteTime": {
     "end_time": "2018-04-08T10:22:13.329425Z",
     "start_time": "2018-04-08T10:22:13.296349Z"
    }
   },
   "outputs": [
    {
     "data": {
      "text/plain": [
       "is_malicious_false_alarm\n",
       "0    977237\n",
       "1     15790\n",
       "dtype: int64"
      ]
     },
     "execution_count": 15,
     "metadata": {},
     "output_type": "execute_result"
    }
   ],
   "source": [
    "# df_features.groupby(['is_malicious_false_alarm']).agg([ 'count'])\n",
    "df_features.groupby(['is_malicious_false_alarm']).size()"
   ]
  },
  {
   "cell_type": "markdown",
   "metadata": {},
   "source": [
    "# Create derived variables"
   ]
  },
  {
   "cell_type": "code",
   "execution_count": 53,
   "metadata": {
    "ExecuteTime": {
     "end_time": "2018-04-08T10:55:51.536052Z",
     "start_time": "2018-04-08T10:52:54.450809Z"
    }
   },
   "outputs": [
    {
     "name": "stdout",
     "output_type": "stream",
     "text": [
      "id_x                                 int64\n",
      "dateofcall_cln              datetime64[ns]\n",
      "incidentnumber_cln                  object\n",
      "id_incident_type                     int64\n",
      "id_property                          int64\n",
      "id_postcode                          int64\n",
      "incident_station_ground             object\n",
      "postcode_full                       object\n",
      "postcode_district                   object\n",
      "incgeo_boroughname                  object\n",
      "frs                                 object\n",
      "propertycategory                    object\n",
      "propertytype                        object\n",
      "incidentgroup                       object\n",
      "stopcodedescription                 object\n",
      "is_malicious_false_alarm             int64\n",
      "incident_month                       int64\n",
      "incident_year                        int64\n",
      "incident_hour                        int64\n",
      "incident_day                         int64\n",
      "is_weekend                           int64\n",
      "dtype: object\n"
     ]
    },
    {
     "data": {
      "text/html": [
       "<div>\n",
       "<style>\n",
       "    .dataframe thead tr:only-child th {\n",
       "        text-align: right;\n",
       "    }\n",
       "\n",
       "    .dataframe thead th {\n",
       "        text-align: left;\n",
       "    }\n",
       "\n",
       "    .dataframe tbody tr th {\n",
       "        vertical-align: top;\n",
       "    }\n",
       "</style>\n",
       "<table border=\"1\" class=\"dataframe\">\n",
       "  <thead>\n",
       "    <tr style=\"text-align: right;\">\n",
       "      <th></th>\n",
       "      <th>id_x</th>\n",
       "      <th>dateofcall_cln</th>\n",
       "      <th>incidentnumber_cln</th>\n",
       "      <th>id_incident_type</th>\n",
       "      <th>id_property</th>\n",
       "      <th>id_postcode</th>\n",
       "      <th>incident_station_ground</th>\n",
       "      <th>postcode_full</th>\n",
       "      <th>postcode_district</th>\n",
       "      <th>incgeo_boroughname</th>\n",
       "      <th>...</th>\n",
       "      <th>propertycategory</th>\n",
       "      <th>propertytype</th>\n",
       "      <th>incidentgroup</th>\n",
       "      <th>stopcodedescription</th>\n",
       "      <th>is_malicious_false_alarm</th>\n",
       "      <th>incident_month</th>\n",
       "      <th>incident_year</th>\n",
       "      <th>incident_hour</th>\n",
       "      <th>incident_day</th>\n",
       "      <th>is_weekend</th>\n",
       "    </tr>\n",
       "  </thead>\n",
       "  <tbody>\n",
       "    <tr>\n",
       "      <th>0</th>\n",
       "      <td>1</td>\n",
       "      <td>2014-06-22 10:21:15</td>\n",
       "      <td>79398141</td>\n",
       "      <td>2</td>\n",
       "      <td>24</td>\n",
       "      <td>108386</td>\n",
       "      <td>OVERTHEBORDER</td>\n",
       "      <td>None</td>\n",
       "      <td>AL7</td>\n",
       "      <td>NOT GEO-CODED</td>\n",
       "      <td>...</td>\n",
       "      <td>Dwelling</td>\n",
       "      <td>House - single occupancy</td>\n",
       "      <td>False Alarm</td>\n",
       "      <td>False alarm - Good intent</td>\n",
       "      <td>0</td>\n",
       "      <td>6</td>\n",
       "      <td>2014</td>\n",
       "      <td>10</td>\n",
       "      <td>6</td>\n",
       "      <td>1</td>\n",
       "    </tr>\n",
       "    <tr>\n",
       "      <th>1</th>\n",
       "      <td>2</td>\n",
       "      <td>2013-12-07 04:29:07</td>\n",
       "      <td>168174131</td>\n",
       "      <td>6</td>\n",
       "      <td>24</td>\n",
       "      <td>108387</td>\n",
       "      <td>OVERTHEBORDER</td>\n",
       "      <td>None</td>\n",
       "      <td>AL8</td>\n",
       "      <td>NOT GEO-CODED</td>\n",
       "      <td>...</td>\n",
       "      <td>Dwelling</td>\n",
       "      <td>House - single occupancy</td>\n",
       "      <td>Fire</td>\n",
       "      <td>Primary Fire</td>\n",
       "      <td>0</td>\n",
       "      <td>12</td>\n",
       "      <td>2013</td>\n",
       "      <td>4</td>\n",
       "      <td>5</td>\n",
       "      <td>1</td>\n",
       "    </tr>\n",
       "    <tr>\n",
       "      <th>2</th>\n",
       "      <td>3</td>\n",
       "      <td>2011-10-16 12:20:54</td>\n",
       "      <td>168954111</td>\n",
       "      <td>1</td>\n",
       "      <td>32</td>\n",
       "      <td>108388</td>\n",
       "      <td>BROMLEY</td>\n",
       "      <td>None</td>\n",
       "      <td>BR1</td>\n",
       "      <td>BROMLEY</td>\n",
       "      <td>...</td>\n",
       "      <td>Dwelling</td>\n",
       "      <td>Self contained Sheltered Housing</td>\n",
       "      <td>False Alarm</td>\n",
       "      <td>AFA</td>\n",
       "      <td>0</td>\n",
       "      <td>10</td>\n",
       "      <td>2011</td>\n",
       "      <td>12</td>\n",
       "      <td>6</td>\n",
       "      <td>1</td>\n",
       "    </tr>\n",
       "    <tr>\n",
       "      <th>3</th>\n",
       "      <td>4</td>\n",
       "      <td>2017-12-17 13:06:19</td>\n",
       "      <td>168866-17122017</td>\n",
       "      <td>1</td>\n",
       "      <td>29</td>\n",
       "      <td>108388</td>\n",
       "      <td>BROMLEY</td>\n",
       "      <td>None</td>\n",
       "      <td>BR1</td>\n",
       "      <td>BROMLEY</td>\n",
       "      <td>...</td>\n",
       "      <td>Dwelling</td>\n",
       "      <td>Purpose Built Flats/Maisonettes - 4 to 9 storeys</td>\n",
       "      <td>False Alarm</td>\n",
       "      <td>AFA</td>\n",
       "      <td>0</td>\n",
       "      <td>12</td>\n",
       "      <td>2017</td>\n",
       "      <td>13</td>\n",
       "      <td>6</td>\n",
       "      <td>1</td>\n",
       "    </tr>\n",
       "    <tr>\n",
       "      <th>4</th>\n",
       "      <td>5</td>\n",
       "      <td>2011-10-14 11:58:03</td>\n",
       "      <td>167600111</td>\n",
       "      <td>1</td>\n",
       "      <td>24</td>\n",
       "      <td>108388</td>\n",
       "      <td>BROMLEY</td>\n",
       "      <td>None</td>\n",
       "      <td>BR1</td>\n",
       "      <td>BROMLEY</td>\n",
       "      <td>...</td>\n",
       "      <td>Dwelling</td>\n",
       "      <td>House - single occupancy</td>\n",
       "      <td>False Alarm</td>\n",
       "      <td>AFA</td>\n",
       "      <td>0</td>\n",
       "      <td>10</td>\n",
       "      <td>2011</td>\n",
       "      <td>11</td>\n",
       "      <td>4</td>\n",
       "      <td>0</td>\n",
       "    </tr>\n",
       "  </tbody>\n",
       "</table>\n",
       "<p>5 rows × 21 columns</p>\n",
       "</div>"
      ],
      "text/plain": [
       "   id_x      dateofcall_cln incidentnumber_cln  id_incident_type  id_property  \\\n",
       "0     1 2014-06-22 10:21:15           79398141                 2           24   \n",
       "1     2 2013-12-07 04:29:07          168174131                 6           24   \n",
       "2     3 2011-10-16 12:20:54          168954111                 1           32   \n",
       "3     4 2017-12-17 13:06:19    168866-17122017                 1           29   \n",
       "4     5 2011-10-14 11:58:03          167600111                 1           24   \n",
       "\n",
       "   id_postcode incident_station_ground postcode_full postcode_district  \\\n",
       "0       108386           OVERTHEBORDER          None               AL7   \n",
       "1       108387           OVERTHEBORDER          None               AL8   \n",
       "2       108388                 BROMLEY          None               BR1   \n",
       "3       108388                 BROMLEY          None               BR1   \n",
       "4       108388                 BROMLEY          None               BR1   \n",
       "\n",
       "  incgeo_boroughname     ...     propertycategory  \\\n",
       "0      NOT GEO-CODED     ...             Dwelling   \n",
       "1      NOT GEO-CODED     ...             Dwelling   \n",
       "2            BROMLEY     ...             Dwelling   \n",
       "3            BROMLEY     ...             Dwelling   \n",
       "4            BROMLEY     ...             Dwelling   \n",
       "\n",
       "                                        propertytype incidentgroup  \\\n",
       "0                          House - single occupancy    False Alarm   \n",
       "1                          House - single occupancy           Fire   \n",
       "2                  Self contained Sheltered Housing    False Alarm   \n",
       "3  Purpose Built Flats/Maisonettes - 4 to 9 storeys    False Alarm   \n",
       "4                          House - single occupancy    False Alarm   \n",
       "\n",
       "         stopcodedescription is_malicious_false_alarm  incident_month  \\\n",
       "0  False alarm - Good intent                        0               6   \n",
       "1               Primary Fire                        0              12   \n",
       "2                        AFA                        0              10   \n",
       "3                        AFA                        0              12   \n",
       "4                        AFA                        0              10   \n",
       "\n",
       "   incident_year  incident_hour  incident_day  is_weekend  \n",
       "0           2014             10             6           1  \n",
       "1           2013              4             5           1  \n",
       "2           2011             12             6           1  \n",
       "3           2017             13             6           1  \n",
       "4           2011             11             4           0  \n",
       "\n",
       "[5 rows x 21 columns]"
      ]
     },
     "execution_count": 53,
     "metadata": {},
     "output_type": "execute_result"
    }
   ],
   "source": [
    "df_features['incident_month']=df_features['dateofcall_cln'].dt.month\n",
    "df_features['incident_year']=df_features['dateofcall_cln'].dt.year\n",
    "df_features['incident_hour']=df_features['dateofcall_cln'].dt.hour\n",
    "df_features['incident_day']=df_features['dateofcall_cln'].dt.dayofweek\n",
    "\n",
    "def is_weekend(df):\n",
    "    \"\"\"Determine if a callout was at the weekend. By weekend we really mean from Friday evening onwards\"\"\"\n",
    "    \n",
    "    if df['incident_day'] == 6 or df['incident_day'] == 5:\n",
    "        return 1\n",
    "    elif df['incident_day'] == 4 and df['incident_hour']>=18:\n",
    "        return 1 \n",
    "    else:\n",
    "        return 0\n",
    "    \n",
    "df_features['is_weekend'] = df_features.apply(is_weekend,axis =1)\n",
    "print(df_features.dtypes)\n",
    "df_features.head()"
   ]
  },
  {
   "cell_type": "markdown",
   "metadata": {},
   "source": [
    "Weekends or particular times of night might be a good predictor of malicious false alarms."
   ]
  },
  {
   "cell_type": "code",
   "execution_count": 54,
   "metadata": {
    "ExecuteTime": {
     "end_time": "2018-04-08T11:27:06.814744Z",
     "start_time": "2018-04-08T11:27:06.219473Z"
    }
   },
   "outputs": [
    {
     "name": "stdout",
     "output_type": "stream",
     "text": [
      "is_malicious_false_alarm  incident_day\n",
      "0                         0               137478\n",
      "                          1               138124\n",
      "                          2               136820\n",
      "                          3               139160\n",
      "                          4               141587\n",
      "                          5               146109\n",
      "                          6               137959\n",
      "1                         0                 2112\n",
      "                          1                 2143\n",
      "                          2                 2081\n",
      "                          3                 2216\n",
      "                          4                 2275\n",
      "                          5                 2542\n",
      "                          6                 2421\n",
      "Name: is_malicious_false_alarm, dtype: int64\n"
     ]
    }
   ],
   "source": [
    "df_events=df_features.groupby(['is_malicious_false_alarm','incident_day'])['is_malicious_false_alarm'].count()\n",
    "print(df_events)\n"
   ]
  },
  {
   "cell_type": "markdown",
   "metadata": {},
   "source": [
    "Here is a sample of when malicious false alarms happen. There seem to be more malicious calls on weekends than during the week."
   ]
  },
  {
   "cell_type": "code",
   "execution_count": 18,
   "metadata": {},
   "outputs": [
    {
     "name": "stdout",
     "output_type": "stream",
     "text": [
      "65     0\n",
      "105    0\n",
      "141    3\n",
      "212    0\n",
      "247    1\n",
      "Name: incident_day, dtype: int64\n"
     ]
    },
    {
     "data": {
      "image/png": "[encoded data removed]",
      "text/plain": [
       "<matplotlib.figure.Figure at 0x7f8ec47fcf98>"
      ]
     },
     "metadata": {},
     "output_type": "display_data"
    }
   ],
   "source": [
    "df_plot=df_features.loc[ df_features['is_malicious_false_alarm']==1 ]['incident_day']\n",
    "print(df_plot.head())\n",
    "\n",
    "chosen_idx = np.random.choice(len(df_plot), replace=False, size=1000)\n",
    "df_plot = df_plot.iloc[chosen_idx]\n",
    "\n",
    "sns.distplot(df_plot, hist=True, rug=False,bins=7);"
   ]
  },
  {
   "cell_type": "code",
   "execution_count": 19,
   "metadata": {},
   "outputs": [
    {
     "name": "stdout",
     "output_type": "stream",
     "text": [
      "0    6\n",
      "1    5\n",
      "2    6\n",
      "3    6\n",
      "4    4\n",
      "Name: incident_day, dtype: int64\n"
     ]
    },
    {
     "data": {
      "image/png": "[encoded data removed]",
      "text/plain": [
       "<matplotlib.figure.Figure at 0x7f8ed228f588>"
      ]
     },
     "metadata": {},
     "output_type": "display_data"
    }
   ],
   "source": [
    "df_plot=df_features.loc[ df_features['is_malicious_false_alarm']==0 ]['incident_day']\n",
    "print(df_plot.head())\n",
    "\n",
    "chosen_idx = np.random.choice(len(df_plot), replace=False, size=1000)\n",
    "df_plot = df_plot.iloc[chosen_idx]\n",
    "\n",
    "sns.distplot(df_plot, hist=True, rug=False,bins=7);"
   ]
  },
  {
   "cell_type": "markdown",
   "metadata": {},
   "source": [
    "# Is hour of day a good predictor?\n",
    "It doesn't seem like hour of day is a good predictor"
   ]
  },
  {
   "cell_type": "code",
   "execution_count": 19,
   "metadata": {},
   "outputs": [
    {
     "name": "stdout",
     "output_type": "stream",
     "text": [
      "65      2\n",
      "105    16\n",
      "141    19\n",
      "212    16\n",
      "247     2\n",
      "Name: incident_hour, dtype: int64\n"
     ]
    },
    {
     "data": {
      "text/plain": [
       "<matplotlib.text.Text at 0x7fe27c8c03c8>"
      ]
     },
     "execution_count": 19,
     "metadata": {},
     "output_type": "execute_result"
    },
    {
     "data": {
      "image/png": "[encoded data removed]",
      "text/plain": [
       "<matplotlib.figure.Figure at 0x7fe27c15b0f0>"
      ]
     },
     "metadata": {},
     "output_type": "display_data"
    }
   ],
   "source": [
    "df_plot=df_features.loc[ df_features['is_malicious_false_alarm']==1 ]['incident_hour']\n",
    "print(df_plot.head())\n",
    "\n",
    "chosen_idx = np.random.choice(len(df_plot), replace=False, size=1000)\n",
    "df_plot = df_plot.iloc[chosen_idx]\n",
    "\n",
    "plt=sns.distplot(df_plot, bins=24,hist=True, rug=False);\n",
    "plt.set_title('Malicious False Alarms')"
   ]
  },
  {
   "cell_type": "code",
   "execution_count": 20,
   "metadata": {},
   "outputs": [
    {
     "name": "stdout",
     "output_type": "stream",
     "text": [
      "0    10\n",
      "1     4\n",
      "2    12\n",
      "3    13\n",
      "4    11\n",
      "Name: incident_hour, dtype: int64\n"
     ]
    },
    {
     "data": {
      "text/plain": [
       "<matplotlib.text.Text at 0x7fe27ce0dbe0>"
      ]
     },
     "execution_count": 20,
     "metadata": {},
     "output_type": "execute_result"
    },
    {
     "data": {
      "image/png": "[encoded data removed]",
      "text/plain": [
       "<matplotlib.figure.Figure at 0x7fe27c15b8d0>"
      ]
     },
     "metadata": {},
     "output_type": "display_data"
    }
   ],
   "source": [
    "df_plot=df_features.loc[ df_features['is_malicious_false_alarm']==0 ]['incident_hour']\n",
    "print(df_plot.head())\n",
    "\n",
    "chosen_idx = np.random.choice(len(df_plot), replace=False, size=1000)\n",
    "df_plot = df_plot.iloc[chosen_idx]\n",
    "\n",
    "plt=sns.distplot(df_plot, bins=24,hist=True, rug=False);\n",
    "plt.set_title('Not Malicious False Alarms')"
   ]
  },
  {
   "cell_type": "markdown",
   "metadata": {},
   "source": [
    "# Save features dataset\n",
    "This dataset was time consuming to create. We might like to pick up our work from here so let's save the dataset to the workproduct namespace. \n",
    "Note that the namespace for these datasets is the same as the workproduct ID and version number. "
   ]
  },
  {
   "cell_type": "code",
   "execution_count": 55,
   "metadata": {
    "ExecuteTime": {
     "end_time": "2018-04-08T11:27:17.274593Z",
     "start_time": "2018-04-08T11:27:17.252377Z"
    },
    "collapsed": true
   },
   "outputs": [],
   "source": [
    "import psycopg2\n",
    "import sqlalchemy\n",
    "\n",
    "database_host='localhost'\n",
    "engine = create_engine('postgresql://postgres@'+database_host+':5432/proj001_lfb')"
   ]
  },
  {
   "cell_type": "markdown",
   "metadata": {},
   "source": [
    "The following code may take several minutes depending on your database performance. "
   ]
  },
  {
   "cell_type": "code",
   "execution_count": 20,
   "metadata": {
    "ExecuteTime": {
     "end_time": "2018-04-08T10:33:02.204118Z",
     "start_time": "2018-04-08T10:27:25.202933Z"
    }
   },
   "outputs": [
    {
     "name": "stdout",
     "output_type": "stream",
     "text": [
      "993027\n"
     ]
    }
   ],
   "source": [
    "print(len(df_features))\n",
    "\n",
    "conn = engine.connect()\n",
    "sql = text('drop schema if exists wp_005_false_alarm_analysis_01 cascade;')\n",
    "conn.execute(sql)\n",
    "\n",
    "sql = text('create schema if not exists wp_005_false_alarm_analysis_01;' )\n",
    "conn.execute(sql)\n",
    "\n",
    "df_features.to_sql(\n",
    "    name='df_features'\n",
    "    ,con= conn\n",
    "    ,schema ='wp_005_false_alarm_analysis_01'\n",
    "    ,if_exists = 'replace'\n",
    "    ,index = False                 # do not write the dataframe index into a column\n",
    "    ,chunksize = 50000             # process in chunks to avoid memory issues\n",
    ")\n",
    "\n",
    "conn.close()"
   ]
  },
  {
   "cell_type": "markdown",
   "metadata": {},
   "source": [
    "# Prepare data for algorithm"
   ]
  },
  {
   "cell_type": "markdown",
   "metadata": {},
   "source": [
    "First retrieve the features dataset from our datastore\n",
    "\n",
    "*Note:* something wrong when dataset is read back in. Algortihm fitting and tuning seems to fail"
   ]
  },
  {
   "cell_type": "code",
   "execution_count": 25,
   "metadata": {
    "ExecuteTime": {
     "end_time": "2018-04-08T10:38:36.327842Z",
     "start_time": "2018-04-08T10:38:36.320314Z"
    },
    "collapsed": true
   },
   "outputs": [],
   "source": [
    "engine = create_engine('postgresql://postgres@'+database_host+':5432/proj001_lfb')\n"
   ]
  },
  {
   "cell_type": "code",
   "execution_count": 32,
   "metadata": {
    "ExecuteTime": {
     "end_time": "2018-04-08T10:41:54.961379Z",
     "start_time": "2018-04-08T10:41:40.044629Z"
    }
   },
   "outputs": [
    {
     "name": "stdout",
     "output_type": "stream",
     "text": [
      "   id_x      dateofcall_cln incidentnumber_cln  id_incident_type  id_property  \\\n",
      "0  3797 2015-12-13 21:01:16    171716-13122015                26           30   \n",
      "1  3798 2015-12-14 07:16:25    171841-14122015                26           24   \n",
      "2  3799 2017-12-25 13:38:41    172459-25122017                 1           32   \n",
      "3  3800 2011-12-22 11:44:21          204378111                 1           32   \n",
      "4  3801 2011-12-25 00:09:27          205619111                 1           24   \n",
      "\n",
      "   id_postcode incident_station_ground postcode_full incgeo_boroughname  \\\n",
      "0       108400                 BROMLEY          None            BROMLEY   \n",
      "1       108400                 BROMLEY          None            BROMLEY   \n",
      "2       108400                 BROMLEY          None            BROMLEY   \n",
      "3       108400                 BROMLEY          None            BROMLEY   \n",
      "4       108400                 BROMLEY          None            BROMLEY   \n",
      "\n",
      "      frs propertycategory                                       propertytype  \\\n",
      "0  LONDON         Dwelling  Purpose Built Flats/Maisonettes - Up to 3 stor...   \n",
      "1  LONDON         Dwelling                          House - single occupancy    \n",
      "2  LONDON         Dwelling                  Self contained Sheltered Housing    \n",
      "3  LONDON         Dwelling                  Self contained Sheltered Housing    \n",
      "4  LONDON         Dwelling                          House - single occupancy    \n",
      "\n",
      "     incidentgroup stopcodedescription  is_malicious_false_alarm  \\\n",
      "0  Special Service     Special Service                         0   \n",
      "1  Special Service     Special Service                         0   \n",
      "2      False Alarm                 AFA                         0   \n",
      "3      False Alarm                 AFA                         0   \n",
      "4      False Alarm                 AFA                         0   \n",
      "\n",
      "   incident_month  incident_year  incident_hour  incident_day  is_weekend  \n",
      "0              12           2015             21             6           1  \n",
      "1              12           2015              7             0           0  \n",
      "2              12           2017             13             0           0  \n",
      "3              12           2011             11             3           0  \n",
      "4              12           2011              0             6           1  \n"
     ]
    }
   ],
   "source": [
    "conn = engine.connect()\n",
    "sql = \"select * from wp_005_false_alarm_analysis_01.df_features;\"\n",
    "\n",
    "df_features = pd.read_sql(\n",
    "    sql\n",
    "    ,conn\n",
    "    #,chunksize=50000\n",
    ")\n",
    "\n",
    "print(df_features.head())\n",
    "#print(df_features.dtypes)\n",
    "conn.close()"
   ]
  },
  {
   "cell_type": "code",
   "execution_count": 36,
   "metadata": {
    "ExecuteTime": {
     "end_time": "2018-04-08T10:43:29.837115Z",
     "start_time": "2018-04-08T10:43:29.731726Z"
    }
   },
   "outputs": [
    {
     "ename": "KeyError",
     "evalue": "'id_x'",
     "output_type": "error",
     "traceback": [
      "\u001b[0;31m---------------------------------------------------------------------------\u001b[0m",
      "\u001b[0;31mKeyError\u001b[0m                                  Traceback (most recent call last)",
      "\u001b[0;32m/app/software/anaconda3/lib/python3.6/site-packages/pandas/core/indexes/base.py\u001b[0m in \u001b[0;36mget_loc\u001b[0;34m(self, key, method, tolerance)\u001b[0m\n\u001b[1;32m   2392\u001b[0m             \u001b[0;32mtry\u001b[0m\u001b[0;34m:\u001b[0m\u001b[0;34m\u001b[0m\u001b[0m\n\u001b[0;32m-> 2393\u001b[0;31m                 \u001b[0;32mreturn\u001b[0m \u001b[0mself\u001b[0m\u001b[0;34m.\u001b[0m\u001b[0m_engine\u001b[0m\u001b[0;34m.\u001b[0m\u001b[0mget_loc\u001b[0m\u001b[0;34m(\u001b[0m\u001b[0mkey\u001b[0m\u001b[0;34m)\u001b[0m\u001b[0;34m\u001b[0m\u001b[0m\n\u001b[0m\u001b[1;32m   2394\u001b[0m             \u001b[0;32mexcept\u001b[0m \u001b[0mKeyError\u001b[0m\u001b[0;34m:\u001b[0m\u001b[0;34m\u001b[0m\u001b[0m\n",
      "\u001b[0;32mpandas/_libs/index.pyx\u001b[0m in \u001b[0;36mpandas._libs.index.IndexEngine.get_loc (pandas/_libs/index.c:5239)\u001b[0;34m()\u001b[0m\n",
      "\u001b[0;32mpandas/_libs/index.pyx\u001b[0m in \u001b[0;36mpandas._libs.index.IndexEngine.get_loc (pandas/_libs/index.c:5085)\u001b[0;34m()\u001b[0m\n",
      "\u001b[0;32mpandas/_libs/hashtable_class_helper.pxi\u001b[0m in \u001b[0;36mpandas._libs.hashtable.PyObjectHashTable.get_item (pandas/_libs/hashtable.c:20405)\u001b[0;34m()\u001b[0m\n",
      "\u001b[0;32mpandas/_libs/hashtable_class_helper.pxi\u001b[0m in \u001b[0;36mpandas._libs.hashtable.PyObjectHashTable.get_item (pandas/_libs/hashtable.c:20359)\u001b[0;34m()\u001b[0m\n",
      "\u001b[0;31mKeyError\u001b[0m: 'id_x'",
      "\nDuring handling of the above exception, another exception occurred:\n",
      "\u001b[0;31mKeyError\u001b[0m                                  Traceback (most recent call last)",
      "\u001b[0;32m<ipython-input-36-a8f79fcda0fc>\u001b[0m in \u001b[0;36m<module>\u001b[0;34m()\u001b[0m\n\u001b[0;32m----> 1\u001b[0;31m \u001b[0mdf_features\u001b[0m\u001b[0;34m.\u001b[0m\u001b[0mset_index\u001b[0m\u001b[0;34m(\u001b[0m\u001b[0;34m'id_x'\u001b[0m\u001b[0;34m,\u001b[0m\u001b[0minplace\u001b[0m\u001b[0;34m=\u001b[0m\u001b[0;32mTrue\u001b[0m\u001b[0;34m)\u001b[0m\u001b[0;34m\u001b[0m\u001b[0m\n\u001b[0m\u001b[1;32m      2\u001b[0m \u001b[0mprint\u001b[0m\u001b[0;34m(\u001b[0m\u001b[0mlen\u001b[0m\u001b[0;34m(\u001b[0m\u001b[0mdf_features\u001b[0m\u001b[0;34m)\u001b[0m\u001b[0;34m)\u001b[0m\u001b[0;34m\u001b[0m\u001b[0m\n\u001b[1;32m      3\u001b[0m \u001b[0mprint\u001b[0m\u001b[0;34m(\u001b[0m\u001b[0mdf_features\u001b[0m\u001b[0;34m.\u001b[0m\u001b[0mdtypes\u001b[0m\u001b[0;34m)\u001b[0m\u001b[0;34m\u001b[0m\u001b[0m\n\u001b[1;32m      4\u001b[0m \u001b[0mdf_features\u001b[0m\u001b[0;34m.\u001b[0m\u001b[0mhead\u001b[0m\u001b[0;34m(\u001b[0m\u001b[0;36m10\u001b[0m\u001b[0;34m)\u001b[0m\u001b[0;34m\u001b[0m\u001b[0m\n",
      "\u001b[0;32m/app/software/anaconda3/lib/python3.6/site-packages/pandas/core/frame.py\u001b[0m in \u001b[0;36mset_index\u001b[0;34m(self, keys, drop, append, inplace, verify_integrity)\u001b[0m\n\u001b[1;32m   2926\u001b[0m                 \u001b[0mnames\u001b[0m\u001b[0;34m.\u001b[0m\u001b[0mappend\u001b[0m\u001b[0;34m(\u001b[0m\u001b[0;32mNone\u001b[0m\u001b[0;34m)\u001b[0m\u001b[0;34m\u001b[0m\u001b[0m\n\u001b[1;32m   2927\u001b[0m             \u001b[0;32melse\u001b[0m\u001b[0;34m:\u001b[0m\u001b[0;34m\u001b[0m\u001b[0m\n\u001b[0;32m-> 2928\u001b[0;31m                 \u001b[0mlevel\u001b[0m \u001b[0;34m=\u001b[0m \u001b[0mframe\u001b[0m\u001b[0;34m[\u001b[0m\u001b[0mcol\u001b[0m\u001b[0;34m]\u001b[0m\u001b[0;34m.\u001b[0m\u001b[0m_values\u001b[0m\u001b[0;34m\u001b[0m\u001b[0m\n\u001b[0m\u001b[1;32m   2929\u001b[0m                 \u001b[0mnames\u001b[0m\u001b[0;34m.\u001b[0m\u001b[0mappend\u001b[0m\u001b[0;34m(\u001b[0m\u001b[0mcol\u001b[0m\u001b[0;34m)\u001b[0m\u001b[0;34m\u001b[0m\u001b[0m\n\u001b[1;32m   2930\u001b[0m                 \u001b[0;32mif\u001b[0m \u001b[0mdrop\u001b[0m\u001b[0;34m:\u001b[0m\u001b[0;34m\u001b[0m\u001b[0m\n",
      "\u001b[0;32m/app/software/anaconda3/lib/python3.6/site-packages/pandas/core/frame.py\u001b[0m in \u001b[0;36m__getitem__\u001b[0;34m(self, key)\u001b[0m\n\u001b[1;32m   2060\u001b[0m             \u001b[0;32mreturn\u001b[0m \u001b[0mself\u001b[0m\u001b[0;34m.\u001b[0m\u001b[0m_getitem_multilevel\u001b[0m\u001b[0;34m(\u001b[0m\u001b[0mkey\u001b[0m\u001b[0;34m)\u001b[0m\u001b[0;34m\u001b[0m\u001b[0m\n\u001b[1;32m   2061\u001b[0m         \u001b[0;32melse\u001b[0m\u001b[0;34m:\u001b[0m\u001b[0;34m\u001b[0m\u001b[0m\n\u001b[0;32m-> 2062\u001b[0;31m             \u001b[0;32mreturn\u001b[0m \u001b[0mself\u001b[0m\u001b[0;34m.\u001b[0m\u001b[0m_getitem_column\u001b[0m\u001b[0;34m(\u001b[0m\u001b[0mkey\u001b[0m\u001b[0;34m)\u001b[0m\u001b[0;34m\u001b[0m\u001b[0m\n\u001b[0m\u001b[1;32m   2063\u001b[0m \u001b[0;34m\u001b[0m\u001b[0m\n\u001b[1;32m   2064\u001b[0m     \u001b[0;32mdef\u001b[0m \u001b[0m_getitem_column\u001b[0m\u001b[0;34m(\u001b[0m\u001b[0mself\u001b[0m\u001b[0;34m,\u001b[0m \u001b[0mkey\u001b[0m\u001b[0;34m)\u001b[0m\u001b[0;34m:\u001b[0m\u001b[0;34m\u001b[0m\u001b[0m\n",
      "\u001b[0;32m/app/software/anaconda3/lib/python3.6/site-packages/pandas/core/frame.py\u001b[0m in \u001b[0;36m_getitem_column\u001b[0;34m(self, key)\u001b[0m\n\u001b[1;32m   2067\u001b[0m         \u001b[0;31m# get column\u001b[0m\u001b[0;34m\u001b[0m\u001b[0;34m\u001b[0m\u001b[0m\n\u001b[1;32m   2068\u001b[0m         \u001b[0;32mif\u001b[0m \u001b[0mself\u001b[0m\u001b[0;34m.\u001b[0m\u001b[0mcolumns\u001b[0m\u001b[0;34m.\u001b[0m\u001b[0mis_unique\u001b[0m\u001b[0;34m:\u001b[0m\u001b[0;34m\u001b[0m\u001b[0m\n\u001b[0;32m-> 2069\u001b[0;31m             \u001b[0;32mreturn\u001b[0m \u001b[0mself\u001b[0m\u001b[0;34m.\u001b[0m\u001b[0m_get_item_cache\u001b[0m\u001b[0;34m(\u001b[0m\u001b[0mkey\u001b[0m\u001b[0;34m)\u001b[0m\u001b[0;34m\u001b[0m\u001b[0m\n\u001b[0m\u001b[1;32m   2070\u001b[0m \u001b[0;34m\u001b[0m\u001b[0m\n\u001b[1;32m   2071\u001b[0m         \u001b[0;31m# duplicate columns & possible reduce dimensionality\u001b[0m\u001b[0;34m\u001b[0m\u001b[0;34m\u001b[0m\u001b[0m\n",
      "\u001b[0;32m/app/software/anaconda3/lib/python3.6/site-packages/pandas/core/generic.py\u001b[0m in \u001b[0;36m_get_item_cache\u001b[0;34m(self, item)\u001b[0m\n\u001b[1;32m   1532\u001b[0m         \u001b[0mres\u001b[0m \u001b[0;34m=\u001b[0m \u001b[0mcache\u001b[0m\u001b[0;34m.\u001b[0m\u001b[0mget\u001b[0m\u001b[0;34m(\u001b[0m\u001b[0mitem\u001b[0m\u001b[0;34m)\u001b[0m\u001b[0;34m\u001b[0m\u001b[0m\n\u001b[1;32m   1533\u001b[0m         \u001b[0;32mif\u001b[0m \u001b[0mres\u001b[0m \u001b[0;32mis\u001b[0m \u001b[0;32mNone\u001b[0m\u001b[0;34m:\u001b[0m\u001b[0;34m\u001b[0m\u001b[0m\n\u001b[0;32m-> 1534\u001b[0;31m             \u001b[0mvalues\u001b[0m \u001b[0;34m=\u001b[0m \u001b[0mself\u001b[0m\u001b[0;34m.\u001b[0m\u001b[0m_data\u001b[0m\u001b[0;34m.\u001b[0m\u001b[0mget\u001b[0m\u001b[0;34m(\u001b[0m\u001b[0mitem\u001b[0m\u001b[0;34m)\u001b[0m\u001b[0;34m\u001b[0m\u001b[0m\n\u001b[0m\u001b[1;32m   1535\u001b[0m             \u001b[0mres\u001b[0m \u001b[0;34m=\u001b[0m \u001b[0mself\u001b[0m\u001b[0;34m.\u001b[0m\u001b[0m_box_item_values\u001b[0m\u001b[0;34m(\u001b[0m\u001b[0mitem\u001b[0m\u001b[0;34m,\u001b[0m \u001b[0mvalues\u001b[0m\u001b[0;34m)\u001b[0m\u001b[0;34m\u001b[0m\u001b[0m\n\u001b[1;32m   1536\u001b[0m             \u001b[0mcache\u001b[0m\u001b[0;34m[\u001b[0m\u001b[0mitem\u001b[0m\u001b[0;34m]\u001b[0m \u001b[0;34m=\u001b[0m \u001b[0mres\u001b[0m\u001b[0;34m\u001b[0m\u001b[0m\n",
      "\u001b[0;32m/app/software/anaconda3/lib/python3.6/site-packages/pandas/core/internals.py\u001b[0m in \u001b[0;36mget\u001b[0;34m(self, item, fastpath)\u001b[0m\n\u001b[1;32m   3588\u001b[0m \u001b[0;34m\u001b[0m\u001b[0m\n\u001b[1;32m   3589\u001b[0m             \u001b[0;32mif\u001b[0m \u001b[0;32mnot\u001b[0m \u001b[0misnull\u001b[0m\u001b[0;34m(\u001b[0m\u001b[0mitem\u001b[0m\u001b[0;34m)\u001b[0m\u001b[0;34m:\u001b[0m\u001b[0;34m\u001b[0m\u001b[0m\n\u001b[0;32m-> 3590\u001b[0;31m                 \u001b[0mloc\u001b[0m \u001b[0;34m=\u001b[0m \u001b[0mself\u001b[0m\u001b[0;34m.\u001b[0m\u001b[0mitems\u001b[0m\u001b[0;34m.\u001b[0m\u001b[0mget_loc\u001b[0m\u001b[0;34m(\u001b[0m\u001b[0mitem\u001b[0m\u001b[0;34m)\u001b[0m\u001b[0;34m\u001b[0m\u001b[0m\n\u001b[0m\u001b[1;32m   3591\u001b[0m             \u001b[0;32melse\u001b[0m\u001b[0;34m:\u001b[0m\u001b[0;34m\u001b[0m\u001b[0m\n\u001b[1;32m   3592\u001b[0m                 \u001b[0mindexer\u001b[0m \u001b[0;34m=\u001b[0m \u001b[0mnp\u001b[0m\u001b[0;34m.\u001b[0m\u001b[0marange\u001b[0m\u001b[0;34m(\u001b[0m\u001b[0mlen\u001b[0m\u001b[0;34m(\u001b[0m\u001b[0mself\u001b[0m\u001b[0;34m.\u001b[0m\u001b[0mitems\u001b[0m\u001b[0;34m)\u001b[0m\u001b[0;34m)\u001b[0m\u001b[0;34m[\u001b[0m\u001b[0misnull\u001b[0m\u001b[0;34m(\u001b[0m\u001b[0mself\u001b[0m\u001b[0;34m.\u001b[0m\u001b[0mitems\u001b[0m\u001b[0;34m)\u001b[0m\u001b[0;34m]\u001b[0m\u001b[0;34m\u001b[0m\u001b[0m\n",
      "\u001b[0;32m/app/software/anaconda3/lib/python3.6/site-packages/pandas/core/indexes/base.py\u001b[0m in \u001b[0;36mget_loc\u001b[0;34m(self, key, method, tolerance)\u001b[0m\n\u001b[1;32m   2393\u001b[0m                 \u001b[0;32mreturn\u001b[0m \u001b[0mself\u001b[0m\u001b[0;34m.\u001b[0m\u001b[0m_engine\u001b[0m\u001b[0;34m.\u001b[0m\u001b[0mget_loc\u001b[0m\u001b[0;34m(\u001b[0m\u001b[0mkey\u001b[0m\u001b[0;34m)\u001b[0m\u001b[0;34m\u001b[0m\u001b[0m\n\u001b[1;32m   2394\u001b[0m             \u001b[0;32mexcept\u001b[0m \u001b[0mKeyError\u001b[0m\u001b[0;34m:\u001b[0m\u001b[0;34m\u001b[0m\u001b[0m\n\u001b[0;32m-> 2395\u001b[0;31m                 \u001b[0;32mreturn\u001b[0m \u001b[0mself\u001b[0m\u001b[0;34m.\u001b[0m\u001b[0m_engine\u001b[0m\u001b[0;34m.\u001b[0m\u001b[0mget_loc\u001b[0m\u001b[0;34m(\u001b[0m\u001b[0mself\u001b[0m\u001b[0;34m.\u001b[0m\u001b[0m_maybe_cast_indexer\u001b[0m\u001b[0;34m(\u001b[0m\u001b[0mkey\u001b[0m\u001b[0;34m)\u001b[0m\u001b[0;34m)\u001b[0m\u001b[0;34m\u001b[0m\u001b[0m\n\u001b[0m\u001b[1;32m   2396\u001b[0m \u001b[0;34m\u001b[0m\u001b[0m\n\u001b[1;32m   2397\u001b[0m         \u001b[0mindexer\u001b[0m \u001b[0;34m=\u001b[0m \u001b[0mself\u001b[0m\u001b[0;34m.\u001b[0m\u001b[0mget_indexer\u001b[0m\u001b[0;34m(\u001b[0m\u001b[0;34m[\u001b[0m\u001b[0mkey\u001b[0m\u001b[0;34m]\u001b[0m\u001b[0;34m,\u001b[0m \u001b[0mmethod\u001b[0m\u001b[0;34m=\u001b[0m\u001b[0mmethod\u001b[0m\u001b[0;34m,\u001b[0m \u001b[0mtolerance\u001b[0m\u001b[0;34m=\u001b[0m\u001b[0mtolerance\u001b[0m\u001b[0;34m)\u001b[0m\u001b[0;34m\u001b[0m\u001b[0m\n",
      "\u001b[0;32mpandas/_libs/index.pyx\u001b[0m in \u001b[0;36mpandas._libs.index.IndexEngine.get_loc (pandas/_libs/index.c:5239)\u001b[0;34m()\u001b[0m\n",
      "\u001b[0;32mpandas/_libs/index.pyx\u001b[0m in \u001b[0;36mpandas._libs.index.IndexEngine.get_loc (pandas/_libs/index.c:5085)\u001b[0;34m()\u001b[0m\n",
      "\u001b[0;32mpandas/_libs/hashtable_class_helper.pxi\u001b[0m in \u001b[0;36mpandas._libs.hashtable.PyObjectHashTable.get_item (pandas/_libs/hashtable.c:20405)\u001b[0;34m()\u001b[0m\n",
      "\u001b[0;32mpandas/_libs/hashtable_class_helper.pxi\u001b[0m in \u001b[0;36mpandas._libs.hashtable.PyObjectHashTable.get_item (pandas/_libs/hashtable.c:20359)\u001b[0;34m()\u001b[0m\n",
      "\u001b[0;31mKeyError\u001b[0m: 'id_x'"
     ]
    }
   ],
   "source": [
    "df_features.set_index('id_x',inplace=True)"
   ]
  },
  {
   "cell_type": "code",
   "execution_count": 56,
   "metadata": {
    "ExecuteTime": {
     "end_time": "2018-04-08T11:27:39.570259Z",
     "start_time": "2018-04-08T11:27:39.489881Z"
    }
   },
   "outputs": [
    {
     "name": "stdout",
     "output_type": "stream",
     "text": [
      "993027\n",
      "id_x                                 int64\n",
      "dateofcall_cln              datetime64[ns]\n",
      "incidentnumber_cln                  object\n",
      "id_incident_type                     int64\n",
      "id_property                          int64\n",
      "id_postcode                          int64\n",
      "incident_station_ground             object\n",
      "postcode_full                       object\n",
      "postcode_district                   object\n",
      "incgeo_boroughname                  object\n",
      "frs                                 object\n",
      "propertycategory                    object\n",
      "propertytype                        object\n",
      "incidentgroup                       object\n",
      "stopcodedescription                 object\n",
      "is_malicious_false_alarm             int64\n",
      "incident_month                       int64\n",
      "incident_year                        int64\n",
      "incident_hour                        int64\n",
      "incident_day                         int64\n",
      "is_weekend                           int64\n",
      "dtype: object\n"
     ]
    },
    {
     "data": {
      "text/html": [
       "<div>\n",
       "<style>\n",
       "    .dataframe thead tr:only-child th {\n",
       "        text-align: right;\n",
       "    }\n",
       "\n",
       "    .dataframe thead th {\n",
       "        text-align: left;\n",
       "    }\n",
       "\n",
       "    .dataframe tbody tr th {\n",
       "        vertical-align: top;\n",
       "    }\n",
       "</style>\n",
       "<table border=\"1\" class=\"dataframe\">\n",
       "  <thead>\n",
       "    <tr style=\"text-align: right;\">\n",
       "      <th></th>\n",
       "      <th>id_x</th>\n",
       "      <th>dateofcall_cln</th>\n",
       "      <th>incidentnumber_cln</th>\n",
       "      <th>id_incident_type</th>\n",
       "      <th>id_property</th>\n",
       "      <th>id_postcode</th>\n",
       "      <th>incident_station_ground</th>\n",
       "      <th>postcode_full</th>\n",
       "      <th>postcode_district</th>\n",
       "      <th>incgeo_boroughname</th>\n",
       "      <th>...</th>\n",
       "      <th>propertycategory</th>\n",
       "      <th>propertytype</th>\n",
       "      <th>incidentgroup</th>\n",
       "      <th>stopcodedescription</th>\n",
       "      <th>is_malicious_false_alarm</th>\n",
       "      <th>incident_month</th>\n",
       "      <th>incident_year</th>\n",
       "      <th>incident_hour</th>\n",
       "      <th>incident_day</th>\n",
       "      <th>is_weekend</th>\n",
       "    </tr>\n",
       "  </thead>\n",
       "  <tbody>\n",
       "    <tr>\n",
       "      <th>0</th>\n",
       "      <td>1</td>\n",
       "      <td>2014-06-22 10:21:15</td>\n",
       "      <td>79398141</td>\n",
       "      <td>2</td>\n",
       "      <td>24</td>\n",
       "      <td>108386</td>\n",
       "      <td>OVERTHEBORDER</td>\n",
       "      <td>None</td>\n",
       "      <td>AL7</td>\n",
       "      <td>NOT GEO-CODED</td>\n",
       "      <td>...</td>\n",
       "      <td>Dwelling</td>\n",
       "      <td>House - single occupancy</td>\n",
       "      <td>False Alarm</td>\n",
       "      <td>False alarm - Good intent</td>\n",
       "      <td>0</td>\n",
       "      <td>6</td>\n",
       "      <td>2014</td>\n",
       "      <td>10</td>\n",
       "      <td>6</td>\n",
       "      <td>1</td>\n",
       "    </tr>\n",
       "    <tr>\n",
       "      <th>1</th>\n",
       "      <td>2</td>\n",
       "      <td>2013-12-07 04:29:07</td>\n",
       "      <td>168174131</td>\n",
       "      <td>6</td>\n",
       "      <td>24</td>\n",
       "      <td>108387</td>\n",
       "      <td>OVERTHEBORDER</td>\n",
       "      <td>None</td>\n",
       "      <td>AL8</td>\n",
       "      <td>NOT GEO-CODED</td>\n",
       "      <td>...</td>\n",
       "      <td>Dwelling</td>\n",
       "      <td>House - single occupancy</td>\n",
       "      <td>Fire</td>\n",
       "      <td>Primary Fire</td>\n",
       "      <td>0</td>\n",
       "      <td>12</td>\n",
       "      <td>2013</td>\n",
       "      <td>4</td>\n",
       "      <td>5</td>\n",
       "      <td>1</td>\n",
       "    </tr>\n",
       "    <tr>\n",
       "      <th>2</th>\n",
       "      <td>3</td>\n",
       "      <td>2011-10-16 12:20:54</td>\n",
       "      <td>168954111</td>\n",
       "      <td>1</td>\n",
       "      <td>32</td>\n",
       "      <td>108388</td>\n",
       "      <td>BROMLEY</td>\n",
       "      <td>None</td>\n",
       "      <td>BR1</td>\n",
       "      <td>BROMLEY</td>\n",
       "      <td>...</td>\n",
       "      <td>Dwelling</td>\n",
       "      <td>Self contained Sheltered Housing</td>\n",
       "      <td>False Alarm</td>\n",
       "      <td>AFA</td>\n",
       "      <td>0</td>\n",
       "      <td>10</td>\n",
       "      <td>2011</td>\n",
       "      <td>12</td>\n",
       "      <td>6</td>\n",
       "      <td>1</td>\n",
       "    </tr>\n",
       "    <tr>\n",
       "      <th>3</th>\n",
       "      <td>4</td>\n",
       "      <td>2017-12-17 13:06:19</td>\n",
       "      <td>168866-17122017</td>\n",
       "      <td>1</td>\n",
       "      <td>29</td>\n",
       "      <td>108388</td>\n",
       "      <td>BROMLEY</td>\n",
       "      <td>None</td>\n",
       "      <td>BR1</td>\n",
       "      <td>BROMLEY</td>\n",
       "      <td>...</td>\n",
       "      <td>Dwelling</td>\n",
       "      <td>Purpose Built Flats/Maisonettes - 4 to 9 storeys</td>\n",
       "      <td>False Alarm</td>\n",
       "      <td>AFA</td>\n",
       "      <td>0</td>\n",
       "      <td>12</td>\n",
       "      <td>2017</td>\n",
       "      <td>13</td>\n",
       "      <td>6</td>\n",
       "      <td>1</td>\n",
       "    </tr>\n",
       "    <tr>\n",
       "      <th>4</th>\n",
       "      <td>5</td>\n",
       "      <td>2011-10-14 11:58:03</td>\n",
       "      <td>167600111</td>\n",
       "      <td>1</td>\n",
       "      <td>24</td>\n",
       "      <td>108388</td>\n",
       "      <td>BROMLEY</td>\n",
       "      <td>None</td>\n",
       "      <td>BR1</td>\n",
       "      <td>BROMLEY</td>\n",
       "      <td>...</td>\n",
       "      <td>Dwelling</td>\n",
       "      <td>House - single occupancy</td>\n",
       "      <td>False Alarm</td>\n",
       "      <td>AFA</td>\n",
       "      <td>0</td>\n",
       "      <td>10</td>\n",
       "      <td>2011</td>\n",
       "      <td>11</td>\n",
       "      <td>4</td>\n",
       "      <td>0</td>\n",
       "    </tr>\n",
       "    <tr>\n",
       "      <th>5</th>\n",
       "      <td>6</td>\n",
       "      <td>2010-12-05 16:40:52</td>\n",
       "      <td>205145101</td>\n",
       "      <td>1</td>\n",
       "      <td>32</td>\n",
       "      <td>108388</td>\n",
       "      <td>BROMLEY</td>\n",
       "      <td>None</td>\n",
       "      <td>BR1</td>\n",
       "      <td>BROMLEY</td>\n",
       "      <td>...</td>\n",
       "      <td>Dwelling</td>\n",
       "      <td>Self contained Sheltered Housing</td>\n",
       "      <td>False Alarm</td>\n",
       "      <td>AFA</td>\n",
       "      <td>0</td>\n",
       "      <td>12</td>\n",
       "      <td>2010</td>\n",
       "      <td>16</td>\n",
       "      <td>6</td>\n",
       "      <td>1</td>\n",
       "    </tr>\n",
       "    <tr>\n",
       "      <th>6</th>\n",
       "      <td>7</td>\n",
       "      <td>2010-12-04 16:34:10</td>\n",
       "      <td>204529101</td>\n",
       "      <td>1</td>\n",
       "      <td>32</td>\n",
       "      <td>108388</td>\n",
       "      <td>BROMLEY</td>\n",
       "      <td>None</td>\n",
       "      <td>BR1</td>\n",
       "      <td>BROMLEY</td>\n",
       "      <td>...</td>\n",
       "      <td>Dwelling</td>\n",
       "      <td>Self contained Sheltered Housing</td>\n",
       "      <td>False Alarm</td>\n",
       "      <td>AFA</td>\n",
       "      <td>0</td>\n",
       "      <td>12</td>\n",
       "      <td>2010</td>\n",
       "      <td>16</td>\n",
       "      <td>5</td>\n",
       "      <td>1</td>\n",
       "    </tr>\n",
       "    <tr>\n",
       "      <th>7</th>\n",
       "      <td>8</td>\n",
       "      <td>2010-11-29 03:30:21</td>\n",
       "      <td>201106101</td>\n",
       "      <td>1</td>\n",
       "      <td>32</td>\n",
       "      <td>108388</td>\n",
       "      <td>BROMLEY</td>\n",
       "      <td>None</td>\n",
       "      <td>BR1</td>\n",
       "      <td>BROMLEY</td>\n",
       "      <td>...</td>\n",
       "      <td>Dwelling</td>\n",
       "      <td>Self contained Sheltered Housing</td>\n",
       "      <td>False Alarm</td>\n",
       "      <td>AFA</td>\n",
       "      <td>0</td>\n",
       "      <td>11</td>\n",
       "      <td>2010</td>\n",
       "      <td>3</td>\n",
       "      <td>0</td>\n",
       "      <td>0</td>\n",
       "    </tr>\n",
       "    <tr>\n",
       "      <th>8</th>\n",
       "      <td>9</td>\n",
       "      <td>2010-02-06 14:47:24</td>\n",
       "      <td>20245101</td>\n",
       "      <td>1</td>\n",
       "      <td>32</td>\n",
       "      <td>108388</td>\n",
       "      <td>BROMLEY</td>\n",
       "      <td>None</td>\n",
       "      <td>BR1</td>\n",
       "      <td>BROMLEY</td>\n",
       "      <td>...</td>\n",
       "      <td>Dwelling</td>\n",
       "      <td>Self contained Sheltered Housing</td>\n",
       "      <td>False Alarm</td>\n",
       "      <td>AFA</td>\n",
       "      <td>0</td>\n",
       "      <td>2</td>\n",
       "      <td>2010</td>\n",
       "      <td>14</td>\n",
       "      <td>5</td>\n",
       "      <td>1</td>\n",
       "    </tr>\n",
       "    <tr>\n",
       "      <th>9</th>\n",
       "      <td>10</td>\n",
       "      <td>2014-02-17 13:20:43</td>\n",
       "      <td>20170141</td>\n",
       "      <td>1</td>\n",
       "      <td>24</td>\n",
       "      <td>108388</td>\n",
       "      <td>BROMLEY</td>\n",
       "      <td>None</td>\n",
       "      <td>BR1</td>\n",
       "      <td>BROMLEY</td>\n",
       "      <td>...</td>\n",
       "      <td>Dwelling</td>\n",
       "      <td>House - single occupancy</td>\n",
       "      <td>False Alarm</td>\n",
       "      <td>AFA</td>\n",
       "      <td>0</td>\n",
       "      <td>2</td>\n",
       "      <td>2014</td>\n",
       "      <td>13</td>\n",
       "      <td>0</td>\n",
       "      <td>0</td>\n",
       "    </tr>\n",
       "  </tbody>\n",
       "</table>\n",
       "<p>10 rows × 21 columns</p>\n",
       "</div>"
      ],
      "text/plain": [
       "   id_x      dateofcall_cln incidentnumber_cln  id_incident_type  id_property  \\\n",
       "0     1 2014-06-22 10:21:15           79398141                 2           24   \n",
       "1     2 2013-12-07 04:29:07          168174131                 6           24   \n",
       "2     3 2011-10-16 12:20:54          168954111                 1           32   \n",
       "3     4 2017-12-17 13:06:19    168866-17122017                 1           29   \n",
       "4     5 2011-10-14 11:58:03          167600111                 1           24   \n",
       "5     6 2010-12-05 16:40:52          205145101                 1           32   \n",
       "6     7 2010-12-04 16:34:10          204529101                 1           32   \n",
       "7     8 2010-11-29 03:30:21          201106101                 1           32   \n",
       "8     9 2010-02-06 14:47:24           20245101                 1           32   \n",
       "9    10 2014-02-17 13:20:43           20170141                 1           24   \n",
       "\n",
       "   id_postcode incident_station_ground postcode_full postcode_district  \\\n",
       "0       108386           OVERTHEBORDER          None               AL7   \n",
       "1       108387           OVERTHEBORDER          None               AL8   \n",
       "2       108388                 BROMLEY          None               BR1   \n",
       "3       108388                 BROMLEY          None               BR1   \n",
       "4       108388                 BROMLEY          None               BR1   \n",
       "5       108388                 BROMLEY          None               BR1   \n",
       "6       108388                 BROMLEY          None               BR1   \n",
       "7       108388                 BROMLEY          None               BR1   \n",
       "8       108388                 BROMLEY          None               BR1   \n",
       "9       108388                 BROMLEY          None               BR1   \n",
       "\n",
       "  incgeo_boroughname     ...     propertycategory  \\\n",
       "0      NOT GEO-CODED     ...             Dwelling   \n",
       "1      NOT GEO-CODED     ...             Dwelling   \n",
       "2            BROMLEY     ...             Dwelling   \n",
       "3            BROMLEY     ...             Dwelling   \n",
       "4            BROMLEY     ...             Dwelling   \n",
       "5            BROMLEY     ...             Dwelling   \n",
       "6            BROMLEY     ...             Dwelling   \n",
       "7            BROMLEY     ...             Dwelling   \n",
       "8            BROMLEY     ...             Dwelling   \n",
       "9            BROMLEY     ...             Dwelling   \n",
       "\n",
       "                                        propertytype incidentgroup  \\\n",
       "0                          House - single occupancy    False Alarm   \n",
       "1                          House - single occupancy           Fire   \n",
       "2                  Self contained Sheltered Housing    False Alarm   \n",
       "3  Purpose Built Flats/Maisonettes - 4 to 9 storeys    False Alarm   \n",
       "4                          House - single occupancy    False Alarm   \n",
       "5                  Self contained Sheltered Housing    False Alarm   \n",
       "6                  Self contained Sheltered Housing    False Alarm   \n",
       "7                  Self contained Sheltered Housing    False Alarm   \n",
       "8                  Self contained Sheltered Housing    False Alarm   \n",
       "9                          House - single occupancy    False Alarm   \n",
       "\n",
       "         stopcodedescription is_malicious_false_alarm  incident_month  \\\n",
       "0  False alarm - Good intent                        0               6   \n",
       "1               Primary Fire                        0              12   \n",
       "2                        AFA                        0              10   \n",
       "3                        AFA                        0              12   \n",
       "4                        AFA                        0              10   \n",
       "5                        AFA                        0              12   \n",
       "6                        AFA                        0              12   \n",
       "7                        AFA                        0              11   \n",
       "8                        AFA                        0               2   \n",
       "9                        AFA                        0               2   \n",
       "\n",
       "   incident_year  incident_hour  incident_day  is_weekend  \n",
       "0           2014             10             6           1  \n",
       "1           2013              4             5           1  \n",
       "2           2011             12             6           1  \n",
       "3           2017             13             6           1  \n",
       "4           2011             11             4           0  \n",
       "5           2010             16             6           1  \n",
       "6           2010             16             5           1  \n",
       "7           2010              3             0           0  \n",
       "8           2010             14             5           1  \n",
       "9           2014             13             0           0  \n",
       "\n",
       "[10 rows x 21 columns]"
      ]
     },
     "execution_count": 56,
     "metadata": {},
     "output_type": "execute_result"
    }
   ],
   "source": [
    "print(len(df_features))\n",
    "print(df_features.dtypes)\n",
    "df_features.head(10)"
   ]
  },
  {
   "cell_type": "markdown",
   "metadata": {},
   "source": [
    "Drop columns and rows we won't need"
   ]
  },
  {
   "cell_type": "code",
   "execution_count": 57,
   "metadata": {
    "ExecuteTime": {
     "end_time": "2018-04-08T11:27:51.174508Z",
     "start_time": "2018-04-08T11:27:50.342114Z"
    }
   },
   "outputs": [
    {
     "name": "stdout",
     "output_type": "stream",
     "text": [
      "   id_x postcode_district incgeo_boroughname propertycategory  \\\n",
      "0     1               AL7      NOT GEO-CODED         Dwelling   \n",
      "1     2               AL8      NOT GEO-CODED         Dwelling   \n",
      "2     3               BR1            BROMLEY         Dwelling   \n",
      "3     4               BR1            BROMLEY         Dwelling   \n",
      "4     5               BR1            BROMLEY         Dwelling   \n",
      "\n",
      "                                        propertytype  \\\n",
      "0                          House - single occupancy    \n",
      "1                          House - single occupancy    \n",
      "2                  Self contained Sheltered Housing    \n",
      "3  Purpose Built Flats/Maisonettes - 4 to 9 storeys    \n",
      "4                          House - single occupancy    \n",
      "\n",
      "   is_malicious_false_alarm  incident_month  incident_year  incident_hour  \\\n",
      "0                         0               6           2014             10   \n",
      "1                         0              12           2013              4   \n",
      "2                         0              10           2011             12   \n",
      "3                         0              12           2017             13   \n",
      "4                         0              10           2011             11   \n",
      "\n",
      "   incident_day  is_weekend  \n",
      "0             6           1  \n",
      "1             5           1  \n",
      "2             6           1  \n",
      "3             6           1  \n",
      "4             4           0  \n"
     ]
    }
   ],
   "source": [
    "df_algorithm = df_features.drop(['incidentnumber_cln','incident_station_ground','id_postcode','postcode_full','frs','dateofcall_cln','id_incident_type','id_property'],axis =1)\n",
    "\n",
    "# Drop the label variables\n",
    "df_algorithm = df_algorithm.drop(['incidentgroup','stopcodedescription'],axis=1)\n",
    "\n",
    "print(df_algorithm.head(5))\n",
    "\n",
    "df_algorithm=df_algorithm.dropna()"
   ]
  },
  {
   "cell_type": "markdown",
   "metadata": {},
   "source": [
    "## Prepare the training and test sets"
   ]
  },
  {
   "cell_type": "markdown",
   "metadata": {},
   "source": [
    "### Encode all the categorical variables"
   ]
  },
  {
   "cell_type": "code",
   "execution_count": 58,
   "metadata": {
    "ExecuteTime": {
     "end_time": "2018-04-08T11:28:00.691511Z",
     "start_time": "2018-04-08T11:27:56.922365Z"
    }
   },
   "outputs": [
    {
     "data": {
      "text/html": [
       "<div>\n",
       "<style>\n",
       "    .dataframe thead tr:only-child th {\n",
       "        text-align: right;\n",
       "    }\n",
       "\n",
       "    .dataframe thead th {\n",
       "        text-align: left;\n",
       "    }\n",
       "\n",
       "    .dataframe tbody tr th {\n",
       "        vertical-align: top;\n",
       "    }\n",
       "</style>\n",
       "<table border=\"1\" class=\"dataframe\">\n",
       "  <thead>\n",
       "    <tr style=\"text-align: right;\">\n",
       "      <th></th>\n",
       "      <th>id_x</th>\n",
       "      <th>postcode_district</th>\n",
       "      <th>incgeo_boroughname</th>\n",
       "      <th>propertycategory</th>\n",
       "      <th>propertytype</th>\n",
       "      <th>is_malicious_false_alarm</th>\n",
       "      <th>incident_month</th>\n",
       "      <th>incident_year</th>\n",
       "      <th>incident_hour</th>\n",
       "      <th>incident_day</th>\n",
       "      <th>...</th>\n",
       "      <th>Veterinary surgery</th>\n",
       "      <th>Warehouse</th>\n",
       "      <th>Wasteland</th>\n",
       "      <th>Water works</th>\n",
       "      <th>Wheelie bin (domestic size)</th>\n",
       "      <th>Woodland/forest - broadleaf/hardwood</th>\n",
       "      <th>Woodland/forest - conifers/softwood</th>\n",
       "      <th>Young offenders unit</th>\n",
       "      <th>Youth hostel</th>\n",
       "      <th>Zoo</th>\n",
       "    </tr>\n",
       "  </thead>\n",
       "  <tbody>\n",
       "    <tr>\n",
       "      <th>0</th>\n",
       "      <td>1</td>\n",
       "      <td>AL7</td>\n",
       "      <td>NOT GEO-CODED</td>\n",
       "      <td>Dwelling</td>\n",
       "      <td>House - single occupancy</td>\n",
       "      <td>0</td>\n",
       "      <td>6</td>\n",
       "      <td>2014</td>\n",
       "      <td>10</td>\n",
       "      <td>6</td>\n",
       "      <td>...</td>\n",
       "      <td>0</td>\n",
       "      <td>0</td>\n",
       "      <td>0</td>\n",
       "      <td>0</td>\n",
       "      <td>0</td>\n",
       "      <td>0</td>\n",
       "      <td>0</td>\n",
       "      <td>0</td>\n",
       "      <td>0</td>\n",
       "      <td>0</td>\n",
       "    </tr>\n",
       "    <tr>\n",
       "      <th>1</th>\n",
       "      <td>2</td>\n",
       "      <td>AL8</td>\n",
       "      <td>NOT GEO-CODED</td>\n",
       "      <td>Dwelling</td>\n",
       "      <td>House - single occupancy</td>\n",
       "      <td>0</td>\n",
       "      <td>12</td>\n",
       "      <td>2013</td>\n",
       "      <td>4</td>\n",
       "      <td>5</td>\n",
       "      <td>...</td>\n",
       "      <td>0</td>\n",
       "      <td>0</td>\n",
       "      <td>0</td>\n",
       "      <td>0</td>\n",
       "      <td>0</td>\n",
       "      <td>0</td>\n",
       "      <td>0</td>\n",
       "      <td>0</td>\n",
       "      <td>0</td>\n",
       "      <td>0</td>\n",
       "    </tr>\n",
       "    <tr>\n",
       "      <th>2</th>\n",
       "      <td>3</td>\n",
       "      <td>BR1</td>\n",
       "      <td>BROMLEY</td>\n",
       "      <td>Dwelling</td>\n",
       "      <td>Self contained Sheltered Housing</td>\n",
       "      <td>0</td>\n",
       "      <td>10</td>\n",
       "      <td>2011</td>\n",
       "      <td>12</td>\n",
       "      <td>6</td>\n",
       "      <td>...</td>\n",
       "      <td>0</td>\n",
       "      <td>0</td>\n",
       "      <td>0</td>\n",
       "      <td>0</td>\n",
       "      <td>0</td>\n",
       "      <td>0</td>\n",
       "      <td>0</td>\n",
       "      <td>0</td>\n",
       "      <td>0</td>\n",
       "      <td>0</td>\n",
       "    </tr>\n",
       "    <tr>\n",
       "      <th>3</th>\n",
       "      <td>4</td>\n",
       "      <td>BR1</td>\n",
       "      <td>BROMLEY</td>\n",
       "      <td>Dwelling</td>\n",
       "      <td>Purpose Built Flats/Maisonettes - 4 to 9 storeys</td>\n",
       "      <td>0</td>\n",
       "      <td>12</td>\n",
       "      <td>2017</td>\n",
       "      <td>13</td>\n",
       "      <td>6</td>\n",
       "      <td>...</td>\n",
       "      <td>0</td>\n",
       "      <td>0</td>\n",
       "      <td>0</td>\n",
       "      <td>0</td>\n",
       "      <td>0</td>\n",
       "      <td>0</td>\n",
       "      <td>0</td>\n",
       "      <td>0</td>\n",
       "      <td>0</td>\n",
       "      <td>0</td>\n",
       "    </tr>\n",
       "    <tr>\n",
       "      <th>4</th>\n",
       "      <td>5</td>\n",
       "      <td>BR1</td>\n",
       "      <td>BROMLEY</td>\n",
       "      <td>Dwelling</td>\n",
       "      <td>House - single occupancy</td>\n",
       "      <td>0</td>\n",
       "      <td>10</td>\n",
       "      <td>2011</td>\n",
       "      <td>11</td>\n",
       "      <td>4</td>\n",
       "      <td>...</td>\n",
       "      <td>0</td>\n",
       "      <td>0</td>\n",
       "      <td>0</td>\n",
       "      <td>0</td>\n",
       "      <td>0</td>\n",
       "      <td>0</td>\n",
       "      <td>0</td>\n",
       "      <td>0</td>\n",
       "      <td>0</td>\n",
       "      <td>0</td>\n",
       "    </tr>\n",
       "  </tbody>\n",
       "</table>\n",
       "<p>5 rows × 302 columns</p>\n",
       "</div>"
      ],
      "text/plain": [
       "   id_x postcode_district incgeo_boroughname propertycategory  \\\n",
       "0     1               AL7      NOT GEO-CODED         Dwelling   \n",
       "1     2               AL8      NOT GEO-CODED         Dwelling   \n",
       "2     3               BR1            BROMLEY         Dwelling   \n",
       "3     4               BR1            BROMLEY         Dwelling   \n",
       "4     5               BR1            BROMLEY         Dwelling   \n",
       "\n",
       "                                        propertytype  \\\n",
       "0                          House - single occupancy    \n",
       "1                          House - single occupancy    \n",
       "2                  Self contained Sheltered Housing    \n",
       "3  Purpose Built Flats/Maisonettes - 4 to 9 storeys    \n",
       "4                          House - single occupancy    \n",
       "\n",
       "   is_malicious_false_alarm  incident_month  incident_year  incident_hour  \\\n",
       "0                         0               6           2014             10   \n",
       "1                         0              12           2013              4   \n",
       "2                         0              10           2011             12   \n",
       "3                         0              12           2017             13   \n",
       "4                         0              10           2011             11   \n",
       "\n",
       "   incident_day  ...   Veterinary surgery  Warehouse   Wasteland   \\\n",
       "0             6  ...                    0           0           0   \n",
       "1             5  ...                    0           0           0   \n",
       "2             6  ...                    0           0           0   \n",
       "3             6  ...                    0           0           0   \n",
       "4             4  ...                    0           0           0   \n",
       "\n",
       "   Water works   Wheelie bin (domestic size)  \\\n",
       "0             0                            0   \n",
       "1             0                            0   \n",
       "2             0                            0   \n",
       "3             0                            0   \n",
       "4             0                            0   \n",
       "\n",
       "   Woodland/forest - broadleaf/hardwood   \\\n",
       "0                                      0   \n",
       "1                                      0   \n",
       "2                                      0   \n",
       "3                                      0   \n",
       "4                                      0   \n",
       "\n",
       "   Woodland/forest - conifers/softwood   Young offenders unit   Youth hostel   \\\n",
       "0                                     0                      0              0   \n",
       "1                                     0                      0              0   \n",
       "2                                     0                      0              0   \n",
       "3                                     0                      0              0   \n",
       "4                                     0                      0              0   \n",
       "\n",
       "   Zoo   \n",
       "0     0  \n",
       "1     0  \n",
       "2     0  \n",
       "3     0  \n",
       "4     0  \n",
       "\n",
       "[5 rows x 302 columns]"
      ]
     },
     "execution_count": 58,
     "metadata": {},
     "output_type": "execute_result"
    }
   ],
   "source": [
    "# # TODO complete encoding first\n",
    "df_propertytype_one_hot = pd.get_dummies( df_algorithm['propertytype'])\n",
    "\n",
    "# df_algorithm.drop('propertytype', inplace=True,axis=1)\n",
    "df_algorithm=df_algorithm.join(df_propertytype_one_hot)\n",
    "\n",
    "df_algorithm.head()"
   ]
  },
  {
   "cell_type": "markdown",
   "metadata": {},
   "source": [
    "### Property category"
   ]
  },
  {
   "cell_type": "code",
   "execution_count": 59,
   "metadata": {
    "ExecuteTime": {
     "end_time": "2018-04-08T11:28:04.849444Z",
     "start_time": "2018-04-08T11:28:03.341911Z"
    },
    "collapsed": true
   },
   "outputs": [],
   "source": [
    "# TODO complete encoding first\n",
    "df_propertycategory_one_hot = pd.get_dummies( df_algorithm['propertycategory'])\n",
    "df_algorithm=df_algorithm.join(df_propertycategory_one_hot)\n",
    "# df_algorithm.drop('propertycategory', inplace=True,axis=1)"
   ]
  },
  {
   "cell_type": "code",
   "execution_count": 60,
   "metadata": {
    "ExecuteTime": {
     "end_time": "2018-04-08T11:28:05.392986Z",
     "start_time": "2018-04-08T11:28:05.265048Z"
    }
   },
   "outputs": [
    {
     "data": {
      "text/html": [
       "<div>\n",
       "<style>\n",
       "    .dataframe thead tr:only-child th {\n",
       "        text-align: right;\n",
       "    }\n",
       "\n",
       "    .dataframe thead th {\n",
       "        text-align: left;\n",
       "    }\n",
       "\n",
       "    .dataframe tbody tr th {\n",
       "        vertical-align: top;\n",
       "    }\n",
       "</style>\n",
       "<table border=\"1\" class=\"dataframe\">\n",
       "  <thead>\n",
       "    <tr style=\"text-align: right;\">\n",
       "      <th></th>\n",
       "      <th>id_x</th>\n",
       "      <th>postcode_district</th>\n",
       "      <th>incgeo_boroughname</th>\n",
       "      <th>propertycategory</th>\n",
       "      <th>propertytype</th>\n",
       "      <th>is_malicious_false_alarm</th>\n",
       "      <th>incident_month</th>\n",
       "      <th>incident_year</th>\n",
       "      <th>incident_hour</th>\n",
       "      <th>incident_day</th>\n",
       "      <th>...</th>\n",
       "      <th>Zoo</th>\n",
       "      <th>Aircraft</th>\n",
       "      <th>Boat</th>\n",
       "      <th>Dwelling</th>\n",
       "      <th>Non Residential</th>\n",
       "      <th>Other Residential</th>\n",
       "      <th>Outdoor</th>\n",
       "      <th>Outdoor Structure</th>\n",
       "      <th>Rail Vehicle</th>\n",
       "      <th>Road Vehicle</th>\n",
       "    </tr>\n",
       "  </thead>\n",
       "  <tbody>\n",
       "    <tr>\n",
       "      <th>0</th>\n",
       "      <td>1</td>\n",
       "      <td>AL7</td>\n",
       "      <td>NOT GEO-CODED</td>\n",
       "      <td>Dwelling</td>\n",
       "      <td>House - single occupancy</td>\n",
       "      <td>0</td>\n",
       "      <td>6</td>\n",
       "      <td>2014</td>\n",
       "      <td>10</td>\n",
       "      <td>6</td>\n",
       "      <td>...</td>\n",
       "      <td>0</td>\n",
       "      <td>0</td>\n",
       "      <td>0</td>\n",
       "      <td>1</td>\n",
       "      <td>0</td>\n",
       "      <td>0</td>\n",
       "      <td>0</td>\n",
       "      <td>0</td>\n",
       "      <td>0</td>\n",
       "      <td>0</td>\n",
       "    </tr>\n",
       "    <tr>\n",
       "      <th>1</th>\n",
       "      <td>2</td>\n",
       "      <td>AL8</td>\n",
       "      <td>NOT GEO-CODED</td>\n",
       "      <td>Dwelling</td>\n",
       "      <td>House - single occupancy</td>\n",
       "      <td>0</td>\n",
       "      <td>12</td>\n",
       "      <td>2013</td>\n",
       "      <td>4</td>\n",
       "      <td>5</td>\n",
       "      <td>...</td>\n",
       "      <td>0</td>\n",
       "      <td>0</td>\n",
       "      <td>0</td>\n",
       "      <td>1</td>\n",
       "      <td>0</td>\n",
       "      <td>0</td>\n",
       "      <td>0</td>\n",
       "      <td>0</td>\n",
       "      <td>0</td>\n",
       "      <td>0</td>\n",
       "    </tr>\n",
       "    <tr>\n",
       "      <th>2</th>\n",
       "      <td>3</td>\n",
       "      <td>BR1</td>\n",
       "      <td>BROMLEY</td>\n",
       "      <td>Dwelling</td>\n",
       "      <td>Self contained Sheltered Housing</td>\n",
       "      <td>0</td>\n",
       "      <td>10</td>\n",
       "      <td>2011</td>\n",
       "      <td>12</td>\n",
       "      <td>6</td>\n",
       "      <td>...</td>\n",
       "      <td>0</td>\n",
       "      <td>0</td>\n",
       "      <td>0</td>\n",
       "      <td>1</td>\n",
       "      <td>0</td>\n",
       "      <td>0</td>\n",
       "      <td>0</td>\n",
       "      <td>0</td>\n",
       "      <td>0</td>\n",
       "      <td>0</td>\n",
       "    </tr>\n",
       "    <tr>\n",
       "      <th>3</th>\n",
       "      <td>4</td>\n",
       "      <td>BR1</td>\n",
       "      <td>BROMLEY</td>\n",
       "      <td>Dwelling</td>\n",
       "      <td>Purpose Built Flats/Maisonettes - 4 to 9 storeys</td>\n",
       "      <td>0</td>\n",
       "      <td>12</td>\n",
       "      <td>2017</td>\n",
       "      <td>13</td>\n",
       "      <td>6</td>\n",
       "      <td>...</td>\n",
       "      <td>0</td>\n",
       "      <td>0</td>\n",
       "      <td>0</td>\n",
       "      <td>1</td>\n",
       "      <td>0</td>\n",
       "      <td>0</td>\n",
       "      <td>0</td>\n",
       "      <td>0</td>\n",
       "      <td>0</td>\n",
       "      <td>0</td>\n",
       "    </tr>\n",
       "    <tr>\n",
       "      <th>4</th>\n",
       "      <td>5</td>\n",
       "      <td>BR1</td>\n",
       "      <td>BROMLEY</td>\n",
       "      <td>Dwelling</td>\n",
       "      <td>House - single occupancy</td>\n",
       "      <td>0</td>\n",
       "      <td>10</td>\n",
       "      <td>2011</td>\n",
       "      <td>11</td>\n",
       "      <td>4</td>\n",
       "      <td>...</td>\n",
       "      <td>0</td>\n",
       "      <td>0</td>\n",
       "      <td>0</td>\n",
       "      <td>1</td>\n",
       "      <td>0</td>\n",
       "      <td>0</td>\n",
       "      <td>0</td>\n",
       "      <td>0</td>\n",
       "      <td>0</td>\n",
       "      <td>0</td>\n",
       "    </tr>\n",
       "  </tbody>\n",
       "</table>\n",
       "<p>5 rows × 311 columns</p>\n",
       "</div>"
      ],
      "text/plain": [
       "   id_x postcode_district incgeo_boroughname propertycategory  \\\n",
       "0     1               AL7      NOT GEO-CODED         Dwelling   \n",
       "1     2               AL8      NOT GEO-CODED         Dwelling   \n",
       "2     3               BR1            BROMLEY         Dwelling   \n",
       "3     4               BR1            BROMLEY         Dwelling   \n",
       "4     5               BR1            BROMLEY         Dwelling   \n",
       "\n",
       "                                        propertytype  \\\n",
       "0                          House - single occupancy    \n",
       "1                          House - single occupancy    \n",
       "2                  Self contained Sheltered Housing    \n",
       "3  Purpose Built Flats/Maisonettes - 4 to 9 storeys    \n",
       "4                          House - single occupancy    \n",
       "\n",
       "   is_malicious_false_alarm  incident_month  incident_year  incident_hour  \\\n",
       "0                         0               6           2014             10   \n",
       "1                         0              12           2013              4   \n",
       "2                         0              10           2011             12   \n",
       "3                         0              12           2017             13   \n",
       "4                         0              10           2011             11   \n",
       "\n",
       "   incident_day      ...       Zoo   Aircraft  Boat  Dwelling  \\\n",
       "0             6      ...          0         0     0         1   \n",
       "1             5      ...          0         0     0         1   \n",
       "2             6      ...          0         0     0         1   \n",
       "3             6      ...          0         0     0         1   \n",
       "4             4      ...          0         0     0         1   \n",
       "\n",
       "   Non Residential  Other Residential  Outdoor  Outdoor Structure  \\\n",
       "0                0                  0        0                  0   \n",
       "1                0                  0        0                  0   \n",
       "2                0                  0        0                  0   \n",
       "3                0                  0        0                  0   \n",
       "4                0                  0        0                  0   \n",
       "\n",
       "   Rail Vehicle  Road Vehicle  \n",
       "0             0             0  \n",
       "1             0             0  \n",
       "2             0             0  \n",
       "3             0             0  \n",
       "4             0             0  \n",
       "\n",
       "[5 rows x 311 columns]"
      ]
     },
     "execution_count": 60,
     "metadata": {},
     "output_type": "execute_result"
    }
   ],
   "source": [
    "df_algorithm.head()\n"
   ]
  },
  {
   "cell_type": "markdown",
   "metadata": {},
   "source": [
    "### Borough name"
   ]
  },
  {
   "cell_type": "code",
   "execution_count": 61,
   "metadata": {
    "ExecuteTime": {
     "end_time": "2018-04-08T11:28:12.268805Z",
     "start_time": "2018-04-08T11:28:09.643811Z"
    }
   },
   "outputs": [
    {
     "data": {
      "text/html": [
       "<div>\n",
       "<style>\n",
       "    .dataframe thead tr:only-child th {\n",
       "        text-align: right;\n",
       "    }\n",
       "\n",
       "    .dataframe thead th {\n",
       "        text-align: left;\n",
       "    }\n",
       "\n",
       "    .dataframe tbody tr th {\n",
       "        vertical-align: top;\n",
       "    }\n",
       "</style>\n",
       "<table border=\"1\" class=\"dataframe\">\n",
       "  <thead>\n",
       "    <tr style=\"text-align: right;\">\n",
       "      <th></th>\n",
       "      <th>id_x</th>\n",
       "      <th>postcode_district</th>\n",
       "      <th>incgeo_boroughname</th>\n",
       "      <th>propertycategory</th>\n",
       "      <th>propertytype</th>\n",
       "      <th>is_malicious_false_alarm</th>\n",
       "      <th>incident_month</th>\n",
       "      <th>incident_year</th>\n",
       "      <th>incident_hour</th>\n",
       "      <th>incident_day</th>\n",
       "      <th>...</th>\n",
       "      <th>MERTON</th>\n",
       "      <th>NEWHAM</th>\n",
       "      <th>REDBRIDGE</th>\n",
       "      <th>RICHMOND UPON THAMES</th>\n",
       "      <th>SOUTHWARK</th>\n",
       "      <th>SUTTON</th>\n",
       "      <th>TOWER HAMLETS</th>\n",
       "      <th>WALTHAM FOREST</th>\n",
       "      <th>WANDSWORTH</th>\n",
       "      <th>WESTMINSTER</th>\n",
       "    </tr>\n",
       "  </thead>\n",
       "  <tbody>\n",
       "    <tr>\n",
       "      <th>0</th>\n",
       "      <td>1</td>\n",
       "      <td>AL7</td>\n",
       "      <td>NOT GEO-CODED</td>\n",
       "      <td>Dwelling</td>\n",
       "      <td>House - single occupancy</td>\n",
       "      <td>0</td>\n",
       "      <td>6</td>\n",
       "      <td>2014</td>\n",
       "      <td>10</td>\n",
       "      <td>6</td>\n",
       "      <td>...</td>\n",
       "      <td>0</td>\n",
       "      <td>0</td>\n",
       "      <td>0</td>\n",
       "      <td>0</td>\n",
       "      <td>0</td>\n",
       "      <td>0</td>\n",
       "      <td>0</td>\n",
       "      <td>0</td>\n",
       "      <td>0</td>\n",
       "      <td>0</td>\n",
       "    </tr>\n",
       "    <tr>\n",
       "      <th>1</th>\n",
       "      <td>2</td>\n",
       "      <td>AL8</td>\n",
       "      <td>NOT GEO-CODED</td>\n",
       "      <td>Dwelling</td>\n",
       "      <td>House - single occupancy</td>\n",
       "      <td>0</td>\n",
       "      <td>12</td>\n",
       "      <td>2013</td>\n",
       "      <td>4</td>\n",
       "      <td>5</td>\n",
       "      <td>...</td>\n",
       "      <td>0</td>\n",
       "      <td>0</td>\n",
       "      <td>0</td>\n",
       "      <td>0</td>\n",
       "      <td>0</td>\n",
       "      <td>0</td>\n",
       "      <td>0</td>\n",
       "      <td>0</td>\n",
       "      <td>0</td>\n",
       "      <td>0</td>\n",
       "    </tr>\n",
       "    <tr>\n",
       "      <th>2</th>\n",
       "      <td>3</td>\n",
       "      <td>BR1</td>\n",
       "      <td>BROMLEY</td>\n",
       "      <td>Dwelling</td>\n",
       "      <td>Self contained Sheltered Housing</td>\n",
       "      <td>0</td>\n",
       "      <td>10</td>\n",
       "      <td>2011</td>\n",
       "      <td>12</td>\n",
       "      <td>6</td>\n",
       "      <td>...</td>\n",
       "      <td>0</td>\n",
       "      <td>0</td>\n",
       "      <td>0</td>\n",
       "      <td>0</td>\n",
       "      <td>0</td>\n",
       "      <td>0</td>\n",
       "      <td>0</td>\n",
       "      <td>0</td>\n",
       "      <td>0</td>\n",
       "      <td>0</td>\n",
       "    </tr>\n",
       "    <tr>\n",
       "      <th>3</th>\n",
       "      <td>4</td>\n",
       "      <td>BR1</td>\n",
       "      <td>BROMLEY</td>\n",
       "      <td>Dwelling</td>\n",
       "      <td>Purpose Built Flats/Maisonettes - 4 to 9 storeys</td>\n",
       "      <td>0</td>\n",
       "      <td>12</td>\n",
       "      <td>2017</td>\n",
       "      <td>13</td>\n",
       "      <td>6</td>\n",
       "      <td>...</td>\n",
       "      <td>0</td>\n",
       "      <td>0</td>\n",
       "      <td>0</td>\n",
       "      <td>0</td>\n",
       "      <td>0</td>\n",
       "      <td>0</td>\n",
       "      <td>0</td>\n",
       "      <td>0</td>\n",
       "      <td>0</td>\n",
       "      <td>0</td>\n",
       "    </tr>\n",
       "    <tr>\n",
       "      <th>4</th>\n",
       "      <td>5</td>\n",
       "      <td>BR1</td>\n",
       "      <td>BROMLEY</td>\n",
       "      <td>Dwelling</td>\n",
       "      <td>House - single occupancy</td>\n",
       "      <td>0</td>\n",
       "      <td>10</td>\n",
       "      <td>2011</td>\n",
       "      <td>11</td>\n",
       "      <td>4</td>\n",
       "      <td>...</td>\n",
       "      <td>0</td>\n",
       "      <td>0</td>\n",
       "      <td>0</td>\n",
       "      <td>0</td>\n",
       "      <td>0</td>\n",
       "      <td>0</td>\n",
       "      <td>0</td>\n",
       "      <td>0</td>\n",
       "      <td>0</td>\n",
       "      <td>0</td>\n",
       "    </tr>\n",
       "  </tbody>\n",
       "</table>\n",
       "<p>5 rows × 345 columns</p>\n",
       "</div>"
      ],
      "text/plain": [
       "   id_x postcode_district incgeo_boroughname propertycategory  \\\n",
       "0     1               AL7      NOT GEO-CODED         Dwelling   \n",
       "1     2               AL8      NOT GEO-CODED         Dwelling   \n",
       "2     3               BR1            BROMLEY         Dwelling   \n",
       "3     4               BR1            BROMLEY         Dwelling   \n",
       "4     5               BR1            BROMLEY         Dwelling   \n",
       "\n",
       "                                        propertytype  \\\n",
       "0                          House - single occupancy    \n",
       "1                          House - single occupancy    \n",
       "2                  Self contained Sheltered Housing    \n",
       "3  Purpose Built Flats/Maisonettes - 4 to 9 storeys    \n",
       "4                          House - single occupancy    \n",
       "\n",
       "   is_malicious_false_alarm  incident_month  incident_year  incident_hour  \\\n",
       "0                         0               6           2014             10   \n",
       "1                         0              12           2013              4   \n",
       "2                         0              10           2011             12   \n",
       "3                         0              12           2017             13   \n",
       "4                         0              10           2011             11   \n",
       "\n",
       "   incident_day     ...       MERTON  NEWHAM  REDBRIDGE  RICHMOND UPON THAMES  \\\n",
       "0             6     ...            0       0          0                     0   \n",
       "1             5     ...            0       0          0                     0   \n",
       "2             6     ...            0       0          0                     0   \n",
       "3             6     ...            0       0          0                     0   \n",
       "4             4     ...            0       0          0                     0   \n",
       "\n",
       "   SOUTHWARK  SUTTON  TOWER HAMLETS  WALTHAM FOREST  WANDSWORTH  WESTMINSTER  \n",
       "0          0       0              0               0           0            0  \n",
       "1          0       0              0               0           0            0  \n",
       "2          0       0              0               0           0            0  \n",
       "3          0       0              0               0           0            0  \n",
       "4          0       0              0               0           0            0  \n",
       "\n",
       "[5 rows x 345 columns]"
      ]
     },
     "execution_count": 61,
     "metadata": {},
     "output_type": "execute_result"
    }
   ],
   "source": [
    "df_borough_one_hot = pd.get_dummies( df_algorithm['incgeo_boroughname'])\n",
    "\n",
    "#df_algorithm.drop('incgeo_boroughname', inplace=True,axis=1)\n",
    "df_algorithm=df_algorithm.join(df_borough_one_hot)\n",
    "\n",
    "df_algorithm.head()"
   ]
  },
  {
   "cell_type": "markdown",
   "metadata": {},
   "source": [
    "### Clean up"
   ]
  },
  {
   "cell_type": "code",
   "execution_count": null,
   "metadata": {
    "ExecuteTime": {
     "start_time": "2018-04-08T11:29:40.990Z"
    },
    "collapsed": true
   },
   "outputs": [],
   "source": [
    "df_algorithm.drop(['propertycategory','propertytype','incgeo_boroughname'], inplace=True,axis=1)\n",
    "\n",
    "df_algorithm.dtypes"
   ]
  },
  {
   "cell_type": "code",
   "execution_count": null,
   "metadata": {
    "collapsed": true
   },
   "outputs": [],
   "source": []
  },
  {
   "cell_type": "markdown",
   "metadata": {},
   "source": [
    "## Rebalance the class by downsampling the majority"
   ]
  },
  {
   "cell_type": "code",
   "execution_count": 123,
   "metadata": {},
   "outputs": [
    {
     "name": "stdout",
     "output_type": "stream",
     "text": [
      "is_malicious_false_alarm\n",
      "0    977237\n",
      "1     15790\n",
      "dtype: int64\n",
      "is_malicious_false_alarm\n",
      "0    15790\n",
      "1    15790\n",
      "dtype: int64\n"
     ]
    }
   ],
   "source": [
    "print(df_algorithm.groupby(['is_malicious_false_alarm']).size())\n",
    "\n",
    "from sklearn.utils import resample\n",
    "df_majority = df_algorithm[df_algorithm.is_malicious_false_alarm==0]\n",
    "df_minority = df_algorithm[df_algorithm.is_malicious_false_alarm==1]\n",
    "\n",
    "# Downsample majority class\n",
    "df_majority_downsampled = resample(df_majority, \n",
    "                                 replace=False,    # sample without replacement\n",
    "                                 n_samples=15790,     # to match minority class\n",
    "                                 random_state=123) # reproducible results\n",
    "\n",
    "# Combine minority class with downsampled majority class\n",
    "df_downsampled = pd.concat([df_majority_downsampled, df_minority])\n",
    "\n",
    "print(df_downsampled.groupby(['is_malicious_false_alarm']).size())\n"
   ]
  },
  {
   "cell_type": "markdown",
   "metadata": {},
   "source": [
    "## Fit the model"
   ]
  },
  {
   "cell_type": "code",
   "execution_count": 124,
   "metadata": {
    "collapsed": true
   },
   "outputs": [],
   "source": [
    "X = df_downsampled.drop('is_malicious_false_alarm', axis=1)\n",
    "y = df_downsampled['is_malicious_false_alarm']"
   ]
  },
  {
   "cell_type": "code",
   "execution_count": 125,
   "metadata": {},
   "outputs": [
    {
     "name": "stderr",
     "output_type": "stream",
     "text": [
      "/app/software/anaconda3/lib/python3.6/site-packages/sklearn/model_selection/_split.py:2026: FutureWarning: From version 0.21, test_size will always complement train_size unless both are specified.\n",
      "  FutureWarning)\n"
     ]
    }
   ],
   "source": [
    "from sklearn.model_selection import train_test_split\n",
    "\n",
    "X_train, X_test, y_train, y_test = train_test_split(X, y, train_size=0.8, random_state=101, shuffle=True)"
   ]
  },
  {
   "cell_type": "code",
   "execution_count": 76,
   "metadata": {},
   "outputs": [
    {
     "name": "stdout",
     "output_type": "stream",
     "text": [
      "        incident_month  incident_year  incident_hour  incident_day  \\\n",
      "966550               4           2017              1             2   \n",
      "165596               4           2017              2             1   \n",
      "467837               3           2010             19             1   \n",
      "698275               8           2017             13             3   \n",
      "430482               3           2011              1             0   \n",
      "\n",
      "        is_weekend  Aircraft  Boat  Dwelling  Non Residential  \\\n",
      "966550           0         0     0         0                0   \n",
      "165596           0         0     0         1                0   \n",
      "467837           0         0     0         0                0   \n",
      "698275           0         0     0         0                0   \n",
      "430482           0         0     0         1                0   \n",
      "\n",
      "        Other Residential     ...       MERTON  NEWHAM  REDBRIDGE  \\\n",
      "966550                  1     ...            0       0          0   \n",
      "165596                  0     ...            0       0          0   \n",
      "467837                  0     ...            0       0          0   \n",
      "698275                  0     ...            0       0          0   \n",
      "430482                  0     ...            0       0          0   \n",
      "\n",
      "        RICHMOND UPON THAMES  SOUTHWARK  SUTTON  TOWER HAMLETS  \\\n",
      "966550                     0          0       0              0   \n",
      "165596                     0          0       0              0   \n",
      "467837                     0          0       0              0   \n",
      "698275                     0          0       0              0   \n",
      "430482                     0          0       0              0   \n",
      "\n",
      "        WALTHAM FOREST  WANDSWORTH  WESTMINSTER  \n",
      "966550               0           0            0  \n",
      "165596               0           0            0  \n",
      "467837               0           0            0  \n",
      "698275               0           0            0  \n",
      "430482               0           0            1  \n",
      "\n",
      "[5 rows x 48 columns]\n",
      "\n",
      "966550    0\n",
      "165596    1\n",
      "467837    1\n",
      "698275    0\n",
      "430482    0\n",
      "Name: is_malicious_false_alarm, dtype: int64\n"
     ]
    }
   ],
   "source": [
    "print(X_train.head())\n",
    "print(\"\")\n",
    "print(y_train.head())"
   ]
  },
  {
   "cell_type": "code",
   "execution_count": 126,
   "metadata": {},
   "outputs": [
    {
     "data": {
      "text/plain": [
       "DecisionTreeClassifier(class_weight=None, criterion='gini', max_depth=None,\n",
       "            max_features=None, max_leaf_nodes=None,\n",
       "            min_impurity_decrease=0.0, min_impurity_split=None,\n",
       "            min_samples_leaf=1, min_samples_split=2,\n",
       "            min_weight_fraction_leaf=0.0, presort=False, random_state=None,\n",
       "            splitter='best')"
      ]
     },
     "execution_count": 126,
     "metadata": {},
     "output_type": "execute_result"
    }
   ],
   "source": [
    "from sklearn import tree\n",
    "\n",
    "\n",
    "model_tree = tree.DecisionTreeClassifier()\n",
    "model_tree"
   ]
  },
  {
   "cell_type": "code",
   "execution_count": 127,
   "metadata": {
    "collapsed": true
   },
   "outputs": [],
   "source": [
    "from sklearn.ensemble import RandomForestClassifier\n",
    "\n",
    "# Train model\n",
    "model_rf = RandomForestClassifier()"
   ]
  },
  {
   "cell_type": "code",
   "execution_count": 128,
   "metadata": {},
   "outputs": [
    {
     "data": {
      "text/plain": [
       "DecisionTreeClassifier(class_weight=None, criterion='gini', max_depth=None,\n",
       "            max_features=None, max_leaf_nodes=None,\n",
       "            min_impurity_decrease=0.0, min_impurity_split=None,\n",
       "            min_samples_leaf=1, min_samples_split=2,\n",
       "            min_weight_fraction_leaf=0.0, presort=False, random_state=None,\n",
       "            splitter='best')"
      ]
     },
     "execution_count": 128,
     "metadata": {},
     "output_type": "execute_result"
    }
   ],
   "source": [
    "model_tree.fit(X_train, y_train)"
   ]
  },
  {
   "cell_type": "code",
   "execution_count": 129,
   "metadata": {},
   "outputs": [
    {
     "data": {
      "text/plain": [
       "RandomForestClassifier(bootstrap=True, class_weight=None, criterion='gini',\n",
       "            max_depth=None, max_features='auto', max_leaf_nodes=None,\n",
       "            min_impurity_decrease=0.0, min_impurity_split=None,\n",
       "            min_samples_leaf=1, min_samples_split=2,\n",
       "            min_weight_fraction_leaf=0.0, n_estimators=10, n_jobs=1,\n",
       "            oob_score=False, random_state=None, verbose=0,\n",
       "            warm_start=False)"
      ]
     },
     "execution_count": 129,
     "metadata": {},
     "output_type": "execute_result"
    }
   ],
   "source": [
    "model_rf.fit(X_train,y_train)"
   ]
  },
  {
   "cell_type": "markdown",
   "metadata": {},
   "source": [
    "## Test the model"
   ]
  },
  {
   "cell_type": "code",
   "execution_count": 130,
   "metadata": {},
   "outputs": [
    {
     "data": {
      "text/plain": [
       "array([1, 1, 1, ..., 0, 1, 0])"
      ]
     },
     "execution_count": 130,
     "metadata": {},
     "output_type": "execute_result"
    }
   ],
   "source": [
    "y_predict_tree = model_tree.predict(X_test)\n",
    "\n",
    "y_predict_tree"
   ]
  },
  {
   "cell_type": "code",
   "execution_count": 131,
   "metadata": {},
   "outputs": [
    {
     "data": {
      "text/plain": [
       "array([1, 0, 0, ..., 0, 1, 0])"
      ]
     },
     "execution_count": 131,
     "metadata": {},
     "output_type": "execute_result"
    }
   ],
   "source": [
    "y_predict_rf = model_rf.predict(X_test)\n",
    "y_predict_rf"
   ]
  },
  {
   "cell_type": "code",
   "execution_count": 132,
   "metadata": {},
   "outputs": [
    {
     "name": "stdout",
     "output_type": "stream",
     "text": [
      "0.575205826472\n",
      "0.608138062065\n"
     ]
    }
   ],
   "source": [
    "from sklearn.metrics import accuracy_score\n",
    "\n",
    "print(accuracy_score(y_test, y_predict_tree))\n",
    "print(accuracy_score(y_test,y_predict_rf))"
   ]
  },
  {
   "cell_type": "markdown",
   "metadata": {},
   "source": [
    "Is the model always predicting the majority class and inflating accuracy?"
   ]
  },
  {
   "cell_type": "code",
   "execution_count": 133,
   "metadata": {},
   "outputs": [
    {
     "data": {
      "text/plain": [
       "predictions\n",
       "0    3119\n",
       "1    3197\n",
       "Name: predictions, dtype: int64"
      ]
     },
     "execution_count": 133,
     "metadata": {},
     "output_type": "execute_result"
    }
   ],
   "source": [
    "df=pd.DataFrame(y_predict , columns=['predictions'])\n",
    "df.groupby('predictions')['predictions'].count()"
   ]
  },
  {
   "cell_type": "code",
   "execution_count": 134,
   "metadata": {},
   "outputs": [
    {
     "data": {
      "text/html": [
       "<div>\n",
       "<style>\n",
       "    .dataframe thead tr:only-child th {\n",
       "        text-align: right;\n",
       "    }\n",
       "\n",
       "    .dataframe thead th {\n",
       "        text-align: left;\n",
       "    }\n",
       "\n",
       "    .dataframe tbody tr th {\n",
       "        vertical-align: top;\n",
       "    }\n",
       "</style>\n",
       "<table border=\"1\" class=\"dataframe\">\n",
       "  <thead>\n",
       "    <tr style=\"text-align: right;\">\n",
       "      <th></th>\n",
       "      <th>Predicted Not Malicious</th>\n",
       "      <th>Predicted Malicious</th>\n",
       "    </tr>\n",
       "  </thead>\n",
       "  <tbody>\n",
       "    <tr>\n",
       "      <th>True Not Malicious</th>\n",
       "      <td>1788</td>\n",
       "      <td>1293</td>\n",
       "    </tr>\n",
       "    <tr>\n",
       "      <th>True Malicious</th>\n",
       "      <td>1390</td>\n",
       "      <td>1845</td>\n",
       "    </tr>\n",
       "  </tbody>\n",
       "</table>\n",
       "</div>"
      ],
      "text/plain": [
       "                    Predicted Not Malicious  Predicted Malicious\n",
       "True Not Malicious                     1788                 1293\n",
       "True Malicious                         1390                 1845"
      ]
     },
     "execution_count": 134,
     "metadata": {},
     "output_type": "execute_result"
    }
   ],
   "source": [
    "from sklearn.metrics import confusion_matrix\n",
    "\n",
    "pd.DataFrame(\n",
    "    confusion_matrix(y_test, y_predict_tree),\n",
    "    columns=['Predicted Not Malicious', 'Predicted Malicious'],\n",
    "    index=['True Not Malicious', 'True Malicious']\n",
    ")"
   ]
  },
  {
   "cell_type": "code",
   "execution_count": 135,
   "metadata": {},
   "outputs": [
    {
     "data": {
      "text/html": [
       "<div>\n",
       "<style>\n",
       "    .dataframe thead tr:only-child th {\n",
       "        text-align: right;\n",
       "    }\n",
       "\n",
       "    .dataframe thead th {\n",
       "        text-align: left;\n",
       "    }\n",
       "\n",
       "    .dataframe tbody tr th {\n",
       "        vertical-align: top;\n",
       "    }\n",
       "</style>\n",
       "<table border=\"1\" class=\"dataframe\">\n",
       "  <thead>\n",
       "    <tr style=\"text-align: right;\">\n",
       "      <th></th>\n",
       "      <th>Predicted Not Malicious</th>\n",
       "      <th>Predicted Malicious</th>\n",
       "    </tr>\n",
       "  </thead>\n",
       "  <tbody>\n",
       "    <tr>\n",
       "      <th>True Not Malicious</th>\n",
       "      <td>2129</td>\n",
       "      <td>952</td>\n",
       "    </tr>\n",
       "    <tr>\n",
       "      <th>True Malicious</th>\n",
       "      <td>1523</td>\n",
       "      <td>1712</td>\n",
       "    </tr>\n",
       "  </tbody>\n",
       "</table>\n",
       "</div>"
      ],
      "text/plain": [
       "                    Predicted Not Malicious  Predicted Malicious\n",
       "True Not Malicious                     2129                  952\n",
       "True Malicious                         1523                 1712"
      ]
     },
     "execution_count": 135,
     "metadata": {},
     "output_type": "execute_result"
    }
   ],
   "source": [
    "pd.DataFrame(\n",
    "    confusion_matrix(y_test, y_predict_rf),\n",
    "    columns=['Predicted Not Malicious', 'Predicted Malicious'],\n",
    "    index=['True Not Malicious', 'True Malicious']\n",
    ")"
   ]
  },
  {
   "cell_type": "code",
   "execution_count": 146,
   "metadata": {},
   "outputs": [
    {
     "name": "stdout",
     "output_type": "stream",
     "text": [
      "Feature ranking:\n",
      "1. feature 2 (0.172553)\n",
      "2. feature 0 (0.148914)\n",
      "3. feature 1 (0.123311)\n",
      "4. feature 3 (0.096644)\n",
      "5. feature 4 (0.016749)\n",
      "6. feature 108 (0.012931)\n",
      "7. feature 80 (0.011724)\n",
      "8. feature 335 (0.009559)\n",
      "9. feature 333 (0.008558)\n",
      "10. feature 328 (0.008270)\n"
     ]
    },
    {
     "ename": "IndexError",
     "evalue": "index 10 is out of bounds for axis 0 with size 10",
     "output_type": "error",
     "traceback": [
      "\u001b[0;31m---------------------------------------------------------------------------\u001b[0m",
      "\u001b[0;31mIndexError\u001b[0m                                Traceback (most recent call last)",
      "\u001b[0;32m<ipython-input-146-f63020314edd>\u001b[0m in \u001b[0;36m<module>\u001b[0;34m()\u001b[0m\n\u001b[1;32m      8\u001b[0m \u001b[0;34m\u001b[0m\u001b[0m\n\u001b[1;32m      9\u001b[0m \u001b[0;32mfor\u001b[0m \u001b[0mf\u001b[0m \u001b[0;32min\u001b[0m \u001b[0mrange\u001b[0m\u001b[0;34m(\u001b[0m\u001b[0mX\u001b[0m\u001b[0;34m.\u001b[0m\u001b[0mshape\u001b[0m\u001b[0;34m[\u001b[0m\u001b[0;36m1\u001b[0m\u001b[0;34m]\u001b[0m\u001b[0;34m)\u001b[0m\u001b[0;34m:\u001b[0m\u001b[0;34m\u001b[0m\u001b[0m\n\u001b[0;32m---> 10\u001b[0;31m     \u001b[0mprint\u001b[0m\u001b[0;34m(\u001b[0m\u001b[0;34m\"%d. feature %d (%f)\"\u001b[0m \u001b[0;34m%\u001b[0m \u001b[0;34m(\u001b[0m\u001b[0mf\u001b[0m \u001b[0;34m+\u001b[0m \u001b[0;36m1\u001b[0m\u001b[0;34m,\u001b[0m \u001b[0mindices\u001b[0m\u001b[0;34m[\u001b[0m\u001b[0mf\u001b[0m\u001b[0;34m]\u001b[0m\u001b[0;34m,\u001b[0m \u001b[0mimportances\u001b[0m\u001b[0;34m[\u001b[0m\u001b[0mindices\u001b[0m\u001b[0;34m[\u001b[0m\u001b[0mf\u001b[0m\u001b[0;34m]\u001b[0m\u001b[0;34m]\u001b[0m\u001b[0;34m)\u001b[0m\u001b[0;34m)\u001b[0m\u001b[0;34m\u001b[0m\u001b[0m\n\u001b[0m\u001b[1;32m     11\u001b[0m \u001b[0;34m\u001b[0m\u001b[0m\n",
      "\u001b[0;31mIndexError\u001b[0m: index 10 is out of bounds for axis 0 with size 10"
     ]
    }
   ],
   "source": [
    "importances = model_rf.feature_importances_\n",
    "std = np.std([tree.feature_importances_ for tree in model_rf.estimators_],\n",
    "             axis=0)\n",
    "indices = np.argsort(importances)[::-1]\n",
    "indices = indices[0:10]\n",
    "# Print the feature ranking\n",
    "print(\"Feature ranking:\")\n",
    "\n",
    "for f in range(X.shape[1]):\n",
    "    print(\"%d. feature %d (%f)\" % (f + 1, indices[f], importances[indices[f]]))\n",
    "\n"
   ]
  },
  {
   "cell_type": "code",
   "execution_count": 143,
   "metadata": {},
   "outputs": [
    {
     "data": {
      "text/plain": [
       "numpy.ndarray"
      ]
     },
     "execution_count": 143,
     "metadata": {},
     "output_type": "execute_result"
    }
   ],
   "source": [
    "type(indices)"
   ]
  },
  {
   "cell_type": "code",
   "execution_count": 149,
   "metadata": {},
   "outputs": [
    {
     "data": {
      "image/png": "[encoded data removed]",
      "text/plain": [
       "<matplotlib.figure.Figure at 0x7fe2809a4470>"
      ]
     },
     "metadata": {},
     "output_type": "display_data"
    }
   ],
   "source": [
    "import matplotlib.pyplot as plt\n",
    "\n",
    "plt.figure()\n",
    "plt.title(\"Feature importances\")\n",
    "plt.bar(range(0,10), importances[indices],\n",
    "       color=\"r\", yerr=std[indices], align=\"center\")\n",
    "plt.xticks(range(X.shape[1]), indices)\n",
    "plt.xlim([-1, X.shape[1]])\n",
    "plt.show()"
   ]
  }
 ],
 "metadata": {
  "kernelspec": {
   "display_name": "Python [conda env:proj001_lfb]",
   "language": "python",
   "name": "conda-env-proj001_lfb-py"
  },
  "language_info": {
   "codemirror_mode": {
    "name": "ipython",
    "version": 3
   },
   "file_extension": ".py",
   "mimetype": "text/x-python",
   "name": "python",
   "nbconvert_exporter": "python",
   "pygments_lexer": "ipython3",
   "version": "3.5.5"
  }
 },
 "nbformat": 4,
 "nbformat_minor": 1
}
