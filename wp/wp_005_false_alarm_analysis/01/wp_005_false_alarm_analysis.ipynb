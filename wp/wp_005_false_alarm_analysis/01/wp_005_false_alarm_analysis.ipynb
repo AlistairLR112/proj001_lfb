{
 "cells": [
  {
   "cell_type": "code",
   "execution_count": 1,
   "metadata": {
    "collapsed": true
   },
   "outputs": [],
   "source": [
    "import psycopg2\n",
    "\n",
    "from sqlalchemy import create_engine\n",
    "from sqlalchemy import text\n",
    "\n",
    "import pandas as pd\n",
    "import seaborn as sns\n",
    "import numpy as np\n",
    "import matplotlib.pyplot as plt\n",
    "import seaborn as sns\n",
    "%matplotlib inline"
   ]
  },
  {
   "cell_type": "code",
   "execution_count": 2,
   "metadata": {
    "collapsed": true
   },
   "outputs": [],
   "source": [
    "database_host='localhost'"
   ]
  },
  {
   "cell_type": "code",
   "execution_count": 3,
   "metadata": {
    "collapsed": true
   },
   "outputs": [],
   "source": [
    "def get_connection(host = \"localhost\",schema=\"\" ):\n",
    "    \n",
    "    conn = psycopg2.connect(\"dbname='proj001_lfb' user='postgres' \"\n",
    "                            \"host=\" + host )\n",
    "    if schema:\n",
    "        cur = conn.cursor()\n",
    "        query = \"SET search_path TO {}\".format(schema)\n",
    "        cur.execute(query)\n",
    "\n",
    "    return conn"
   ]
  },
  {
   "cell_type": "markdown",
   "metadata": {},
   "source": [
    "# Create a feature dataset"
   ]
  },
  {
   "cell_type": "markdown",
   "metadata": {},
   "source": [
    "## Incidents"
   ]
  },
  {
   "cell_type": "code",
   "execution_count": 4,
   "metadata": {},
   "outputs": [
    {
     "data": {
      "text/html": [
       "<div>\n",
       "<style>\n",
       "    .dataframe thead tr:only-child th {\n",
       "        text-align: right;\n",
       "    }\n",
       "\n",
       "    .dataframe thead th {\n",
       "        text-align: left;\n",
       "    }\n",
       "\n",
       "    .dataframe tbody tr th {\n",
       "        vertical-align: top;\n",
       "    }\n",
       "</style>\n",
       "<table border=\"1\" class=\"dataframe\">\n",
       "  <thead>\n",
       "    <tr style=\"text-align: right;\">\n",
       "      <th></th>\n",
       "      <th>id</th>\n",
       "      <th>incidentnumber_cln</th>\n",
       "      <th>dateofcall_cln</th>\n",
       "      <th>id_incident_type</th>\n",
       "      <th>id_property</th>\n",
       "      <th>id_postcode</th>\n",
       "      <th>incident_station_ground</th>\n",
       "      <th>incidentgroup</th>\n",
       "      <th>stopcodedescription</th>\n",
       "    </tr>\n",
       "  </thead>\n",
       "  <tbody>\n",
       "    <tr>\n",
       "      <th>0</th>\n",
       "      <td>1</td>\n",
       "      <td>79398141</td>\n",
       "      <td>2014-06-22 10:21:15</td>\n",
       "      <td>2</td>\n",
       "      <td>24</td>\n",
       "      <td>108386</td>\n",
       "      <td>OVERTHEBORDER</td>\n",
       "      <td>False Alarm</td>\n",
       "      <td>False alarm - Good intent</td>\n",
       "    </tr>\n",
       "    <tr>\n",
       "      <th>1</th>\n",
       "      <td>2</td>\n",
       "      <td>168174131</td>\n",
       "      <td>2013-12-07 04:29:07</td>\n",
       "      <td>6</td>\n",
       "      <td>24</td>\n",
       "      <td>108387</td>\n",
       "      <td>OVERTHEBORDER</td>\n",
       "      <td>Fire</td>\n",
       "      <td>Primary Fire</td>\n",
       "    </tr>\n",
       "    <tr>\n",
       "      <th>2</th>\n",
       "      <td>3</td>\n",
       "      <td>168954111</td>\n",
       "      <td>2011-10-16 12:20:54</td>\n",
       "      <td>1</td>\n",
       "      <td>32</td>\n",
       "      <td>108388</td>\n",
       "      <td>BROMLEY</td>\n",
       "      <td>False Alarm</td>\n",
       "      <td>AFA</td>\n",
       "    </tr>\n",
       "    <tr>\n",
       "      <th>3</th>\n",
       "      <td>4</td>\n",
       "      <td>168866-17122017</td>\n",
       "      <td>2017-12-17 13:06:19</td>\n",
       "      <td>1</td>\n",
       "      <td>29</td>\n",
       "      <td>108388</td>\n",
       "      <td>BROMLEY</td>\n",
       "      <td>False Alarm</td>\n",
       "      <td>AFA</td>\n",
       "    </tr>\n",
       "    <tr>\n",
       "      <th>4</th>\n",
       "      <td>5</td>\n",
       "      <td>167600111</td>\n",
       "      <td>2011-10-14 11:58:03</td>\n",
       "      <td>1</td>\n",
       "      <td>24</td>\n",
       "      <td>108388</td>\n",
       "      <td>BROMLEY</td>\n",
       "      <td>False Alarm</td>\n",
       "      <td>AFA</td>\n",
       "    </tr>\n",
       "  </tbody>\n",
       "</table>\n",
       "</div>"
      ],
      "text/plain": [
       "   id incidentnumber_cln      dateofcall_cln  id_incident_type  id_property  \\\n",
       "0   1           79398141 2014-06-22 10:21:15                 2           24   \n",
       "1   2          168174131 2013-12-07 04:29:07                 6           24   \n",
       "2   3          168954111 2011-10-16 12:20:54                 1           32   \n",
       "3   4    168866-17122017 2017-12-17 13:06:19                 1           29   \n",
       "4   5          167600111 2011-10-14 11:58:03                 1           24   \n",
       "\n",
       "   id_postcode incident_station_ground incidentgroup  \\\n",
       "0       108386           OVERTHEBORDER   False Alarm   \n",
       "1       108387           OVERTHEBORDER          Fire   \n",
       "2       108388                 BROMLEY   False Alarm   \n",
       "3       108388                 BROMLEY   False Alarm   \n",
       "4       108388                 BROMLEY   False Alarm   \n",
       "\n",
       "         stopcodedescription  \n",
       "0  False alarm - Good intent  \n",
       "1               Primary Fire  \n",
       "2                        AFA  \n",
       "3                        AFA  \n",
       "4                        AFA  "
      ]
     },
     "execution_count": 4,
     "metadata": {},
     "output_type": "execute_result"
    }
   ],
   "source": [
    "conn = get_connection(host=database_host)\n",
    "qry = (\"select incidents.*, types.incidentgroup, types.stopcodedescription \"\n",
    "          \"from proj001_lfb_1_0_0.l3_incidents incidents \"\n",
    "           \"left join \"\n",
    "           \"proj001_lfb_1_0_0.l3_incident_types types \"\n",
    "           \"on \"\n",
    "           \"incidents.id_incident_type = types.id\"\n",
    "          \";\")\n",
    "#data = pd.read_sql(qry, conn).drop(['store_no','store_type'], axis=1)  \n",
    "df_incidents = pd.read_sql(qry, conn)  \n",
    "conn.close()\n",
    "\n",
    "# drop some columns that won't be features\n",
    "df_incidents.drop(['num_stations_with_pumps_attending', 'num_pumps_attending'], axis =1 ,inplace=True)\n",
    "df_incidents.head()"
   ]
  },
  {
   "cell_type": "markdown",
   "metadata": {},
   "source": [
    "## Postcodes"
   ]
  },
  {
   "cell_type": "code",
   "execution_count": 6,
   "metadata": {},
   "outputs": [],
   "source": [
    "conn = get_connection(host=database_host)\n",
    "qry = ('select *'\n",
    "          'from proj001_lfb_1_0_0.l3_postcodes '\n",
    "          ';')\n",
    "#data = pd.read_sql(qry, conn).drop(['store_no','store_type'], axis=1)  \n",
    "df_postcodes = pd.read_sql(qry, conn)  \n",
    "conn.close()\n",
    "df_postcodes.head()\n",
    "conn.close()"
   ]
  },
  {
   "cell_type": "markdown",
   "metadata": {},
   "source": [
    "Here we discover that fields may need to be stripped of trailing spaces in the pipeline code and that a proportion of the postcodes are unlabelled."
   ]
  },
  {
   "cell_type": "code",
   "execution_count": 7,
   "metadata": {},
   "outputs": [
    {
     "name": "stdout",
     "output_type": "stream",
     "text": [
      "Unlabeled postcodes: 1669\n",
      "Total postcodes: 110157\n"
     ]
    }
   ],
   "source": [
    "df_empty_pcodes = df_postcodes[df_postcodes['incgeo_boroughname']\n",
    "             .map(lambda x: x.strip()) == 'NOT GEO-CODED'][['postcode_full','incgeo_boroughname']]['postcode_full'].unique()\n",
    "print(\"Unlabeled postcodes: \" + str(len(pd.DataFrame(df_empty_pcodes)) ))\n",
    "print(\"Total postcodes: \" + str(len(df_postcodes) ))"
   ]
  },
  {
   "cell_type": "code",
   "execution_count": 8,
   "metadata": {},
   "outputs": [
    {
     "data": {
      "text/html": [
       "<div>\n",
       "<style>\n",
       "    .dataframe thead tr:only-child th {\n",
       "        text-align: right;\n",
       "    }\n",
       "\n",
       "    .dataframe thead th {\n",
       "        text-align: left;\n",
       "    }\n",
       "\n",
       "    .dataframe tbody tr th {\n",
       "        vertical-align: top;\n",
       "    }\n",
       "</style>\n",
       "<table border=\"1\" class=\"dataframe\">\n",
       "  <thead>\n",
       "    <tr style=\"text-align: right;\">\n",
       "      <th></th>\n",
       "      <th>id</th>\n",
       "      <th>postcode_full</th>\n",
       "      <th>incgeo_boroughname</th>\n",
       "      <th>frs</th>\n",
       "    </tr>\n",
       "  </thead>\n",
       "  <tbody>\n",
       "    <tr>\n",
       "      <th>0</th>\n",
       "      <td>1</td>\n",
       "      <td>AL1 3EA</td>\n",
       "      <td>NOT GEO-CODED</td>\n",
       "      <td>OVERTHEBORDER</td>\n",
       "    </tr>\n",
       "    <tr>\n",
       "      <th>1</th>\n",
       "      <td>2</td>\n",
       "      <td>AL2 1QY</td>\n",
       "      <td>NOT GEO-CODED</td>\n",
       "      <td>OVERTHEBORDER</td>\n",
       "    </tr>\n",
       "  </tbody>\n",
       "</table>\n",
       "</div>"
      ],
      "text/plain": [
       "   id postcode_full incgeo_boroughname            frs\n",
       "0   1       AL1 3EA      NOT GEO-CODED  OVERTHEBORDER\n",
       "1   2       AL2 1QY      NOT GEO-CODED  OVERTHEBORDER"
      ]
     },
     "execution_count": 8,
     "metadata": {},
     "output_type": "execute_result"
    }
   ],
   "source": [
    "df_postcodes.drop(['postcode_district','incgeo_wardname','incgeo_wardnamenew'], inplace=True, axis =1 )\n",
    "df_postcodes.head(2)"
   ]
  },
  {
   "cell_type": "markdown",
   "metadata": {},
   "source": [
    "## Property details"
   ]
  },
  {
   "cell_type": "code",
   "execution_count": 9,
   "metadata": {},
   "outputs": [
    {
     "data": {
      "text/html": [
       "<div>\n",
       "<style>\n",
       "    .dataframe thead tr:only-child th {\n",
       "        text-align: right;\n",
       "    }\n",
       "\n",
       "    .dataframe thead th {\n",
       "        text-align: left;\n",
       "    }\n",
       "\n",
       "    .dataframe tbody tr th {\n",
       "        vertical-align: top;\n",
       "    }\n",
       "</style>\n",
       "<table border=\"1\" class=\"dataframe\">\n",
       "  <thead>\n",
       "    <tr style=\"text-align: right;\">\n",
       "      <th></th>\n",
       "      <th>id</th>\n",
       "      <th>propertycategory</th>\n",
       "      <th>propertytype</th>\n",
       "    </tr>\n",
       "  </thead>\n",
       "  <tbody>\n",
       "    <tr>\n",
       "      <th>0</th>\n",
       "      <td>1</td>\n",
       "      <td>Aircraft</td>\n",
       "      <td>Freight plane</td>\n",
       "    </tr>\n",
       "    <tr>\n",
       "      <th>1</th>\n",
       "      <td>2</td>\n",
       "      <td>Aircraft</td>\n",
       "      <td>Helicopter</td>\n",
       "    </tr>\n",
       "    <tr>\n",
       "      <th>2</th>\n",
       "      <td>3</td>\n",
       "      <td>Aircraft</td>\n",
       "      <td>Light aircraft</td>\n",
       "    </tr>\n",
       "  </tbody>\n",
       "</table>\n",
       "</div>"
      ],
      "text/plain": [
       "   id propertycategory     propertytype\n",
       "0   1         Aircraft   Freight plane \n",
       "1   2         Aircraft      Helicopter \n",
       "2   3         Aircraft  Light aircraft "
      ]
     },
     "execution_count": 9,
     "metadata": {},
     "output_type": "execute_result"
    }
   ],
   "source": [
    "conn = get_connection(host=database_host)\n",
    "qry = ('select *'\n",
    "          'from proj001_lfb_1_0_0.l3_property '\n",
    "          ';')\n",
    "#data = pd.read_sql(qry, conn).drop(['store_no','store_type'], axis=1)  \n",
    "df_property = pd.read_sql(qry, conn)  \n",
    "conn.close()\n",
    "df_property.head(3)"
   ]
  },
  {
   "cell_type": "markdown",
   "metadata": {},
   "source": [
    "# Features dataset\n",
    "Join together the relevant datasets and drop unnecessary columns."
   ]
  },
  {
   "cell_type": "code",
   "execution_count": 10,
   "metadata": {},
   "outputs": [
    {
     "data": {
      "text/html": [
       "<div>\n",
       "<style>\n",
       "    .dataframe thead tr:only-child th {\n",
       "        text-align: right;\n",
       "    }\n",
       "\n",
       "    .dataframe thead th {\n",
       "        text-align: left;\n",
       "    }\n",
       "\n",
       "    .dataframe tbody tr th {\n",
       "        vertical-align: top;\n",
       "    }\n",
       "</style>\n",
       "<table border=\"1\" class=\"dataframe\">\n",
       "  <thead>\n",
       "    <tr style=\"text-align: right;\">\n",
       "      <th></th>\n",
       "      <th>id_x</th>\n",
       "      <th>incidentnumber_cln</th>\n",
       "      <th>dateofcall_cln</th>\n",
       "      <th>id_incident_type</th>\n",
       "      <th>id_property</th>\n",
       "      <th>id_postcode</th>\n",
       "      <th>incident_station_ground</th>\n",
       "      <th>incidentgroup</th>\n",
       "      <th>stopcodedescription</th>\n",
       "      <th>postcode_full</th>\n",
       "      <th>incgeo_boroughname</th>\n",
       "      <th>frs</th>\n",
       "      <th>propertycategory</th>\n",
       "      <th>propertytype</th>\n",
       "    </tr>\n",
       "  </thead>\n",
       "  <tbody>\n",
       "    <tr>\n",
       "      <th>0</th>\n",
       "      <td>1</td>\n",
       "      <td>79398141</td>\n",
       "      <td>2014-06-22 10:21:15</td>\n",
       "      <td>2</td>\n",
       "      <td>24</td>\n",
       "      <td>108386</td>\n",
       "      <td>OVERTHEBORDER</td>\n",
       "      <td>False Alarm</td>\n",
       "      <td>False alarm - Good intent</td>\n",
       "      <td>None</td>\n",
       "      <td>NOT GEO-CODED</td>\n",
       "      <td>OVERTHEBORDER</td>\n",
       "      <td>Dwelling</td>\n",
       "      <td>House - single occupancy</td>\n",
       "    </tr>\n",
       "    <tr>\n",
       "      <th>1</th>\n",
       "      <td>2</td>\n",
       "      <td>168174131</td>\n",
       "      <td>2013-12-07 04:29:07</td>\n",
       "      <td>6</td>\n",
       "      <td>24</td>\n",
       "      <td>108387</td>\n",
       "      <td>OVERTHEBORDER</td>\n",
       "      <td>Fire</td>\n",
       "      <td>Primary Fire</td>\n",
       "      <td>None</td>\n",
       "      <td>NOT GEO-CODED</td>\n",
       "      <td>OVERTHEBORDER</td>\n",
       "      <td>Dwelling</td>\n",
       "      <td>House - single occupancy</td>\n",
       "    </tr>\n",
       "    <tr>\n",
       "      <th>2</th>\n",
       "      <td>3</td>\n",
       "      <td>168954111</td>\n",
       "      <td>2011-10-16 12:20:54</td>\n",
       "      <td>1</td>\n",
       "      <td>32</td>\n",
       "      <td>108388</td>\n",
       "      <td>BROMLEY</td>\n",
       "      <td>False Alarm</td>\n",
       "      <td>AFA</td>\n",
       "      <td>None</td>\n",
       "      <td>BROMLEY</td>\n",
       "      <td>LONDON</td>\n",
       "      <td>Dwelling</td>\n",
       "      <td>Self contained Sheltered Housing</td>\n",
       "    </tr>\n",
       "    <tr>\n",
       "      <th>3</th>\n",
       "      <td>4</td>\n",
       "      <td>168866-17122017</td>\n",
       "      <td>2017-12-17 13:06:19</td>\n",
       "      <td>1</td>\n",
       "      <td>29</td>\n",
       "      <td>108388</td>\n",
       "      <td>BROMLEY</td>\n",
       "      <td>False Alarm</td>\n",
       "      <td>AFA</td>\n",
       "      <td>None</td>\n",
       "      <td>BROMLEY</td>\n",
       "      <td>LONDON</td>\n",
       "      <td>Dwelling</td>\n",
       "      <td>Purpose Built Flats/Maisonettes - 4 to 9 storeys</td>\n",
       "    </tr>\n",
       "    <tr>\n",
       "      <th>4</th>\n",
       "      <td>5</td>\n",
       "      <td>167600111</td>\n",
       "      <td>2011-10-14 11:58:03</td>\n",
       "      <td>1</td>\n",
       "      <td>24</td>\n",
       "      <td>108388</td>\n",
       "      <td>BROMLEY</td>\n",
       "      <td>False Alarm</td>\n",
       "      <td>AFA</td>\n",
       "      <td>None</td>\n",
       "      <td>BROMLEY</td>\n",
       "      <td>LONDON</td>\n",
       "      <td>Dwelling</td>\n",
       "      <td>House - single occupancy</td>\n",
       "    </tr>\n",
       "  </tbody>\n",
       "</table>\n",
       "</div>"
      ],
      "text/plain": [
       "   id_x incidentnumber_cln      dateofcall_cln  id_incident_type  id_property  \\\n",
       "0     1           79398141 2014-06-22 10:21:15                 2           24   \n",
       "1     2          168174131 2013-12-07 04:29:07                 6           24   \n",
       "2     3          168954111 2011-10-16 12:20:54                 1           32   \n",
       "3     4    168866-17122017 2017-12-17 13:06:19                 1           29   \n",
       "4     5          167600111 2011-10-14 11:58:03                 1           24   \n",
       "\n",
       "   id_postcode incident_station_ground incidentgroup  \\\n",
       "0       108386           OVERTHEBORDER   False Alarm   \n",
       "1       108387           OVERTHEBORDER          Fire   \n",
       "2       108388                 BROMLEY   False Alarm   \n",
       "3       108388                 BROMLEY   False Alarm   \n",
       "4       108388                 BROMLEY   False Alarm   \n",
       "\n",
       "         stopcodedescription postcode_full incgeo_boroughname            frs  \\\n",
       "0  False alarm - Good intent          None      NOT GEO-CODED  OVERTHEBORDER   \n",
       "1               Primary Fire          None      NOT GEO-CODED  OVERTHEBORDER   \n",
       "2                        AFA          None            BROMLEY         LONDON   \n",
       "3                        AFA          None            BROMLEY         LONDON   \n",
       "4                        AFA          None            BROMLEY         LONDON   \n",
       "\n",
       "  propertycategory                                       propertytype  \n",
       "0         Dwelling                          House - single occupancy   \n",
       "1         Dwelling                          House - single occupancy   \n",
       "2         Dwelling                  Self contained Sheltered Housing   \n",
       "3         Dwelling  Purpose Built Flats/Maisonettes - 4 to 9 storeys   \n",
       "4         Dwelling                          House - single occupancy   "
      ]
     },
     "execution_count": 10,
     "metadata": {},
     "output_type": "execute_result"
    }
   ],
   "source": [
    "df_features = pd.merge(pd.merge(df_incidents,df_postcodes,left_on='id_postcode',right_on='id', how='left') , \n",
    "                       df_property,left_on='id_property',right_on='id',how='left')\n",
    "df_features.drop(['id','id_y'], inplace=True, axis =1)\n",
    "df_features.head()"
   ]
  },
  {
   "cell_type": "markdown",
   "metadata": {},
   "source": [
    "Reorder columns into tidydata format"
   ]
  },
  {
   "cell_type": "code",
   "execution_count": 11,
   "metadata": {},
   "outputs": [
    {
     "data": {
      "text/html": [
       "<div>\n",
       "<style>\n",
       "    .dataframe thead tr:only-child th {\n",
       "        text-align: right;\n",
       "    }\n",
       "\n",
       "    .dataframe thead th {\n",
       "        text-align: left;\n",
       "    }\n",
       "\n",
       "    .dataframe tbody tr th {\n",
       "        vertical-align: top;\n",
       "    }\n",
       "</style>\n",
       "<table border=\"1\" class=\"dataframe\">\n",
       "  <thead>\n",
       "    <tr style=\"text-align: right;\">\n",
       "      <th></th>\n",
       "      <th>id_x</th>\n",
       "      <th>dateofcall_cln</th>\n",
       "      <th>incidentnumber_cln</th>\n",
       "      <th>id_incident_type</th>\n",
       "      <th>id_property</th>\n",
       "      <th>id_postcode</th>\n",
       "      <th>incident_station_ground</th>\n",
       "      <th>postcode_full</th>\n",
       "      <th>incgeo_boroughname</th>\n",
       "      <th>frs</th>\n",
       "      <th>propertycategory</th>\n",
       "      <th>propertytype</th>\n",
       "      <th>incidentgroup</th>\n",
       "      <th>stopcodedescription</th>\n",
       "    </tr>\n",
       "  </thead>\n",
       "  <tbody>\n",
       "    <tr>\n",
       "      <th>0</th>\n",
       "      <td>1</td>\n",
       "      <td>2014-06-22 10:21:15</td>\n",
       "      <td>79398141</td>\n",
       "      <td>2</td>\n",
       "      <td>24</td>\n",
       "      <td>108386</td>\n",
       "      <td>OVERTHEBORDER</td>\n",
       "      <td>None</td>\n",
       "      <td>NOT GEO-CODED</td>\n",
       "      <td>OVERTHEBORDER</td>\n",
       "      <td>Dwelling</td>\n",
       "      <td>House - single occupancy</td>\n",
       "      <td>False Alarm</td>\n",
       "      <td>False alarm - Good intent</td>\n",
       "    </tr>\n",
       "    <tr>\n",
       "      <th>1</th>\n",
       "      <td>2</td>\n",
       "      <td>2013-12-07 04:29:07</td>\n",
       "      <td>168174131</td>\n",
       "      <td>6</td>\n",
       "      <td>24</td>\n",
       "      <td>108387</td>\n",
       "      <td>OVERTHEBORDER</td>\n",
       "      <td>None</td>\n",
       "      <td>NOT GEO-CODED</td>\n",
       "      <td>OVERTHEBORDER</td>\n",
       "      <td>Dwelling</td>\n",
       "      <td>House - single occupancy</td>\n",
       "      <td>Fire</td>\n",
       "      <td>Primary Fire</td>\n",
       "    </tr>\n",
       "    <tr>\n",
       "      <th>2</th>\n",
       "      <td>3</td>\n",
       "      <td>2011-10-16 12:20:54</td>\n",
       "      <td>168954111</td>\n",
       "      <td>1</td>\n",
       "      <td>32</td>\n",
       "      <td>108388</td>\n",
       "      <td>BROMLEY</td>\n",
       "      <td>None</td>\n",
       "      <td>BROMLEY</td>\n",
       "      <td>LONDON</td>\n",
       "      <td>Dwelling</td>\n",
       "      <td>Self contained Sheltered Housing</td>\n",
       "      <td>False Alarm</td>\n",
       "      <td>AFA</td>\n",
       "    </tr>\n",
       "    <tr>\n",
       "      <th>3</th>\n",
       "      <td>4</td>\n",
       "      <td>2017-12-17 13:06:19</td>\n",
       "      <td>168866-17122017</td>\n",
       "      <td>1</td>\n",
       "      <td>29</td>\n",
       "      <td>108388</td>\n",
       "      <td>BROMLEY</td>\n",
       "      <td>None</td>\n",
       "      <td>BROMLEY</td>\n",
       "      <td>LONDON</td>\n",
       "      <td>Dwelling</td>\n",
       "      <td>Purpose Built Flats/Maisonettes - 4 to 9 storeys</td>\n",
       "      <td>False Alarm</td>\n",
       "      <td>AFA</td>\n",
       "    </tr>\n",
       "    <tr>\n",
       "      <th>4</th>\n",
       "      <td>5</td>\n",
       "      <td>2011-10-14 11:58:03</td>\n",
       "      <td>167600111</td>\n",
       "      <td>1</td>\n",
       "      <td>24</td>\n",
       "      <td>108388</td>\n",
       "      <td>BROMLEY</td>\n",
       "      <td>None</td>\n",
       "      <td>BROMLEY</td>\n",
       "      <td>LONDON</td>\n",
       "      <td>Dwelling</td>\n",
       "      <td>House - single occupancy</td>\n",
       "      <td>False Alarm</td>\n",
       "      <td>AFA</td>\n",
       "    </tr>\n",
       "  </tbody>\n",
       "</table>\n",
       "</div>"
      ],
      "text/plain": [
       "   id_x      dateofcall_cln incidentnumber_cln  id_incident_type  id_property  \\\n",
       "0     1 2014-06-22 10:21:15           79398141                 2           24   \n",
       "1     2 2013-12-07 04:29:07          168174131                 6           24   \n",
       "2     3 2011-10-16 12:20:54          168954111                 1           32   \n",
       "3     4 2017-12-17 13:06:19    168866-17122017                 1           29   \n",
       "4     5 2011-10-14 11:58:03          167600111                 1           24   \n",
       "\n",
       "   id_postcode incident_station_ground postcode_full incgeo_boroughname  \\\n",
       "0       108386           OVERTHEBORDER          None      NOT GEO-CODED   \n",
       "1       108387           OVERTHEBORDER          None      NOT GEO-CODED   \n",
       "2       108388                 BROMLEY          None            BROMLEY   \n",
       "3       108388                 BROMLEY          None            BROMLEY   \n",
       "4       108388                 BROMLEY          None            BROMLEY   \n",
       "\n",
       "             frs propertycategory  \\\n",
       "0  OVERTHEBORDER         Dwelling   \n",
       "1  OVERTHEBORDER         Dwelling   \n",
       "2         LONDON         Dwelling   \n",
       "3         LONDON         Dwelling   \n",
       "4         LONDON         Dwelling   \n",
       "\n",
       "                                        propertytype incidentgroup  \\\n",
       "0                          House - single occupancy    False Alarm   \n",
       "1                          House - single occupancy           Fire   \n",
       "2                  Self contained Sheltered Housing    False Alarm   \n",
       "3  Purpose Built Flats/Maisonettes - 4 to 9 storeys    False Alarm   \n",
       "4                          House - single occupancy    False Alarm   \n",
       "\n",
       "         stopcodedescription  \n",
       "0  False alarm - Good intent  \n",
       "1               Primary Fire  \n",
       "2                        AFA  \n",
       "3                        AFA  \n",
       "4                        AFA  "
      ]
     },
     "execution_count": 11,
     "metadata": {},
     "output_type": "execute_result"
    }
   ],
   "source": [
    "df_features.columns.tolist\n",
    "cols = ['id_x', 'dateofcall_cln','incidentnumber_cln', 'id_incident_type',\n",
    "       'id_property', 'id_postcode', 'incident_station_ground',\n",
    "     'postcode_full',\n",
    "       'incgeo_boroughname', 'frs', 'propertycategory', 'propertytype', 'incidentgroup','stopcodedescription']\n",
    "df_features=df_features[cols]\n",
    "df_features.head()"
   ]
  },
  {
   "cell_type": "markdown",
   "metadata": {},
   "source": [
    "# Create the event label\n",
    "First let's look at the different types of false alarms. AFA is an automatic alarm system. "
   ]
  },
  {
   "cell_type": "code",
   "execution_count": 12,
   "metadata": {
    "scrolled": true
   },
   "outputs": [
    {
     "data": {
      "text/html": [
       "<div>\n",
       "<style>\n",
       "    .dataframe thead tr:only-child th {\n",
       "        text-align: right;\n",
       "    }\n",
       "\n",
       "    .dataframe thead th {\n",
       "        text-align: left;\n",
       "    }\n",
       "\n",
       "    .dataframe tbody tr th {\n",
       "        vertical-align: top;\n",
       "    }\n",
       "</style>\n",
       "<table border=\"1\" class=\"dataframe\">\n",
       "  <thead>\n",
       "    <tr style=\"text-align: right;\">\n",
       "      <th></th>\n",
       "      <th>incidentgroup</th>\n",
       "      <th>stopcodedescription</th>\n",
       "    </tr>\n",
       "  </thead>\n",
       "  <tbody>\n",
       "    <tr>\n",
       "      <th>0</th>\n",
       "      <td>False Alarm</td>\n",
       "      <td>False alarm - Good intent</td>\n",
       "    </tr>\n",
       "    <tr>\n",
       "      <th>2</th>\n",
       "      <td>False Alarm</td>\n",
       "      <td>AFA</td>\n",
       "    </tr>\n",
       "    <tr>\n",
       "      <th>65</th>\n",
       "      <td>False Alarm</td>\n",
       "      <td>False alarm - Malicious</td>\n",
       "    </tr>\n",
       "    <tr>\n",
       "      <th>1</th>\n",
       "      <td>Fire</td>\n",
       "      <td>Primary Fire</td>\n",
       "    </tr>\n",
       "    <tr>\n",
       "      <th>14</th>\n",
       "      <td>Fire</td>\n",
       "      <td>Chimney Fire</td>\n",
       "    </tr>\n",
       "    <tr>\n",
       "      <th>571</th>\n",
       "      <td>Fire</td>\n",
       "      <td>Secondary Fire</td>\n",
       "    </tr>\n",
       "    <tr>\n",
       "      <th>3127</th>\n",
       "      <td>Fire</td>\n",
       "      <td>Late Call</td>\n",
       "    </tr>\n",
       "    <tr>\n",
       "      <th>452853</th>\n",
       "      <td>NULL</td>\n",
       "      <td>NULL</td>\n",
       "    </tr>\n",
       "    <tr>\n",
       "      <th>11</th>\n",
       "      <td>Special Service</td>\n",
       "      <td>Special Service</td>\n",
       "    </tr>\n",
       "    <tr>\n",
       "      <th>42</th>\n",
       "      <td>Special Service</td>\n",
       "      <td>Flood call attended - Batch mobilised</td>\n",
       "    </tr>\n",
       "    <tr>\n",
       "      <th>36700</th>\n",
       "      <td>Special Service</td>\n",
       "      <td>Use of Special Operations Room</td>\n",
       "    </tr>\n",
       "  </tbody>\n",
       "</table>\n",
       "</div>"
      ],
      "text/plain": [
       "          incidentgroup                    stopcodedescription\n",
       "0           False Alarm              False alarm - Good intent\n",
       "2           False Alarm                                    AFA\n",
       "65          False Alarm                False alarm - Malicious\n",
       "1                  Fire                           Primary Fire\n",
       "14                 Fire                           Chimney Fire\n",
       "571                Fire                         Secondary Fire\n",
       "3127               Fire                              Late Call\n",
       "452853             NULL                                   NULL\n",
       "11      Special Service                        Special Service\n",
       "42      Special Service  Flood call attended - Batch mobilised\n",
       "36700   Special Service         Use of Special Operations Room"
      ]
     },
     "execution_count": 12,
     "metadata": {},
     "output_type": "execute_result"
    }
   ],
   "source": [
    "df_features[['incidentgroup','stopcodedescription']].drop_duplicates().sort_values(by='incidentgroup')"
   ]
  },
  {
   "cell_type": "markdown",
   "metadata": {},
   "source": [
    "NULL alarm types are not significant so we will drop them"
   ]
  },
  {
   "cell_type": "code",
   "execution_count": 13,
   "metadata": {},
   "outputs": [
    {
     "name": "stdout",
     "output_type": "stream",
     "text": [
      "Rows before drop: 993030\n",
      "Rows after drop: 993027\n"
     ]
    }
   ],
   "source": [
    "df_null_incidents=df_features.groupby(['incidentgroup','stopcodedescription']).count().reset_index()\n",
    "print(\"Rows before drop: \" + str(len(df_features)))\n",
    "df_features=df_features.drop(df_features[df_features['incidentgroup'] == 'NULL'].index)\n",
    "print(\"Rows after drop: \" + str(len(df_features)))"
   ]
  },
  {
   "cell_type": "markdown",
   "metadata": {},
   "source": [
    "Create the label variable"
   ]
  },
  {
   "cell_type": "code",
   "execution_count": 14,
   "metadata": {
    "scrolled": true
   },
   "outputs": [
    {
     "data": {
      "text/html": [
       "<div>\n",
       "<style>\n",
       "    .dataframe thead tr:only-child th {\n",
       "        text-align: right;\n",
       "    }\n",
       "\n",
       "    .dataframe thead th {\n",
       "        text-align: left;\n",
       "    }\n",
       "\n",
       "    .dataframe tbody tr th {\n",
       "        vertical-align: top;\n",
       "    }\n",
       "</style>\n",
       "<table border=\"1\" class=\"dataframe\">\n",
       "  <thead>\n",
       "    <tr style=\"text-align: right;\">\n",
       "      <th></th>\n",
       "      <th>incidentgroup</th>\n",
       "      <th>stopcodedescription</th>\n",
       "      <th>is_malicious_false_alarm</th>\n",
       "    </tr>\n",
       "  </thead>\n",
       "  <tbody>\n",
       "    <tr>\n",
       "      <th>0</th>\n",
       "      <td>False Alarm</td>\n",
       "      <td>False alarm - Good intent</td>\n",
       "      <td>0</td>\n",
       "    </tr>\n",
       "    <tr>\n",
       "      <th>2</th>\n",
       "      <td>False Alarm</td>\n",
       "      <td>AFA</td>\n",
       "      <td>0</td>\n",
       "    </tr>\n",
       "    <tr>\n",
       "      <th>65</th>\n",
       "      <td>False Alarm</td>\n",
       "      <td>False alarm - Malicious</td>\n",
       "      <td>1</td>\n",
       "    </tr>\n",
       "    <tr>\n",
       "      <th>1</th>\n",
       "      <td>Fire</td>\n",
       "      <td>Primary Fire</td>\n",
       "      <td>0</td>\n",
       "    </tr>\n",
       "    <tr>\n",
       "      <th>14</th>\n",
       "      <td>Fire</td>\n",
       "      <td>Chimney Fire</td>\n",
       "      <td>0</td>\n",
       "    </tr>\n",
       "    <tr>\n",
       "      <th>571</th>\n",
       "      <td>Fire</td>\n",
       "      <td>Secondary Fire</td>\n",
       "      <td>0</td>\n",
       "    </tr>\n",
       "    <tr>\n",
       "      <th>3127</th>\n",
       "      <td>Fire</td>\n",
       "      <td>Late Call</td>\n",
       "      <td>0</td>\n",
       "    </tr>\n",
       "    <tr>\n",
       "      <th>11</th>\n",
       "      <td>Special Service</td>\n",
       "      <td>Special Service</td>\n",
       "      <td>0</td>\n",
       "    </tr>\n",
       "    <tr>\n",
       "      <th>42</th>\n",
       "      <td>Special Service</td>\n",
       "      <td>Flood call attended - Batch mobilised</td>\n",
       "      <td>0</td>\n",
       "    </tr>\n",
       "    <tr>\n",
       "      <th>36700</th>\n",
       "      <td>Special Service</td>\n",
       "      <td>Use of Special Operations Room</td>\n",
       "      <td>0</td>\n",
       "    </tr>\n",
       "  </tbody>\n",
       "</table>\n",
       "</div>"
      ],
      "text/plain": [
       "         incidentgroup                    stopcodedescription  \\\n",
       "0          False Alarm              False alarm - Good intent   \n",
       "2          False Alarm                                    AFA   \n",
       "65         False Alarm                False alarm - Malicious   \n",
       "1                 Fire                           Primary Fire   \n",
       "14                Fire                           Chimney Fire   \n",
       "571               Fire                         Secondary Fire   \n",
       "3127              Fire                              Late Call   \n",
       "11     Special Service                        Special Service   \n",
       "42     Special Service  Flood call attended - Batch mobilised   \n",
       "36700  Special Service         Use of Special Operations Room   \n",
       "\n",
       "       is_malicious_false_alarm  \n",
       "0                             0  \n",
       "2                             0  \n",
       "65                            1  \n",
       "1                             0  \n",
       "14                            0  \n",
       "571                           0  \n",
       "3127                          0  \n",
       "11                            0  \n",
       "42                            0  \n",
       "36700                         0  "
      ]
     },
     "execution_count": 14,
     "metadata": {},
     "output_type": "execute_result"
    }
   ],
   "source": [
    "df_features['is_malicious_false_alarm'] = np.where(df_features['stopcodedescription'] == 'False alarm - Malicious', 1,0)\n",
    "df_features[['incidentgroup','stopcodedescription','is_malicious_false_alarm']].drop_duplicates().sort_values(by='incidentgroup')\n"
   ]
  },
  {
   "cell_type": "markdown",
   "metadata": {},
   "source": [
    "# Create derived variables"
   ]
  },
  {
   "cell_type": "code",
   "execution_count": 15,
   "metadata": {},
   "outputs": [
    {
     "ename": "KeyboardInterrupt",
     "evalue": "",
     "output_type": "error",
     "traceback": [
      "\u001b[0;31m---------------------------------------------------------------------------\u001b[0m",
      "\u001b[0;31mKeyboardInterrupt\u001b[0m                         Traceback (most recent call last)",
      "\u001b[0;32m<ipython-input-15-1ef8bba8b07d>\u001b[0m in \u001b[0;36m<module>\u001b[0;34m()\u001b[0m\n\u001b[1;32m     14\u001b[0m         \u001b[0;32mreturn\u001b[0m \u001b[0;36m0\u001b[0m\u001b[0;34m\u001b[0m\u001b[0m\n\u001b[1;32m     15\u001b[0m \u001b[0;34m\u001b[0m\u001b[0m\n\u001b[0;32m---> 16\u001b[0;31m \u001b[0mdf_features\u001b[0m\u001b[0;34m[\u001b[0m\u001b[0;34m'is_weekend'\u001b[0m\u001b[0;34m]\u001b[0m \u001b[0;34m=\u001b[0m \u001b[0mdf_features\u001b[0m\u001b[0;34m.\u001b[0m\u001b[0mapply\u001b[0m\u001b[0;34m(\u001b[0m\u001b[0mis_weekend\u001b[0m\u001b[0;34m,\u001b[0m\u001b[0maxis\u001b[0m \u001b[0;34m=\u001b[0m\u001b[0;36m1\u001b[0m\u001b[0;34m)\u001b[0m\u001b[0;34m\u001b[0m\u001b[0m\n\u001b[0m\u001b[1;32m     17\u001b[0m \u001b[0mprint\u001b[0m\u001b[0;34m(\u001b[0m\u001b[0mdf_features\u001b[0m\u001b[0;34m.\u001b[0m\u001b[0mdtypes\u001b[0m\u001b[0;34m)\u001b[0m\u001b[0;34m\u001b[0m\u001b[0m\n\u001b[1;32m     18\u001b[0m \u001b[0mdf_features\u001b[0m\u001b[0;34m.\u001b[0m\u001b[0mhead\u001b[0m\u001b[0;34m(\u001b[0m\u001b[0;34m)\u001b[0m\u001b[0;34m\u001b[0m\u001b[0m\n",
      "\u001b[0;32m/app/software/anaconda3/lib/python3.6/site-packages/pandas/core/frame.py\u001b[0m in \u001b[0;36mapply\u001b[0;34m(self, func, axis, broadcast, raw, reduce, args, **kwds)\u001b[0m\n\u001b[1;32m   4358\u001b[0m                         \u001b[0mf\u001b[0m\u001b[0;34m,\u001b[0m \u001b[0maxis\u001b[0m\u001b[0;34m,\u001b[0m\u001b[0;34m\u001b[0m\u001b[0m\n\u001b[1;32m   4359\u001b[0m                         \u001b[0mreduce\u001b[0m\u001b[0;34m=\u001b[0m\u001b[0mreduce\u001b[0m\u001b[0;34m,\u001b[0m\u001b[0;34m\u001b[0m\u001b[0m\n\u001b[0;32m-> 4360\u001b[0;31m                         ignore_failures=ignore_failures)\n\u001b[0m\u001b[1;32m   4361\u001b[0m             \u001b[0;32melse\u001b[0m\u001b[0;34m:\u001b[0m\u001b[0;34m\u001b[0m\u001b[0m\n\u001b[1;32m   4362\u001b[0m                 \u001b[0;32mreturn\u001b[0m \u001b[0mself\u001b[0m\u001b[0;34m.\u001b[0m\u001b[0m_apply_broadcast\u001b[0m\u001b[0;34m(\u001b[0m\u001b[0mf\u001b[0m\u001b[0;34m,\u001b[0m \u001b[0maxis\u001b[0m\u001b[0;34m)\u001b[0m\u001b[0;34m\u001b[0m\u001b[0m\n",
      "\u001b[0;32m/app/software/anaconda3/lib/python3.6/site-packages/pandas/core/frame.py\u001b[0m in \u001b[0;36m_apply_standard\u001b[0;34m(self, func, axis, ignore_failures, reduce)\u001b[0m\n\u001b[1;32m   4453\u001b[0m         \u001b[0;32melse\u001b[0m\u001b[0;34m:\u001b[0m\u001b[0;34m\u001b[0m\u001b[0m\n\u001b[1;32m   4454\u001b[0m             \u001b[0;32mtry\u001b[0m\u001b[0;34m:\u001b[0m\u001b[0;34m\u001b[0m\u001b[0m\n\u001b[0;32m-> 4455\u001b[0;31m                 \u001b[0;32mfor\u001b[0m \u001b[0mi\u001b[0m\u001b[0;34m,\u001b[0m \u001b[0mv\u001b[0m \u001b[0;32min\u001b[0m \u001b[0menumerate\u001b[0m\u001b[0;34m(\u001b[0m\u001b[0mseries_gen\u001b[0m\u001b[0;34m)\u001b[0m\u001b[0;34m:\u001b[0m\u001b[0;34m\u001b[0m\u001b[0m\n\u001b[0m\u001b[1;32m   4456\u001b[0m                     \u001b[0mresults\u001b[0m\u001b[0;34m[\u001b[0m\u001b[0mi\u001b[0m\u001b[0;34m]\u001b[0m \u001b[0;34m=\u001b[0m \u001b[0mfunc\u001b[0m\u001b[0;34m(\u001b[0m\u001b[0mv\u001b[0m\u001b[0;34m)\u001b[0m\u001b[0;34m\u001b[0m\u001b[0m\n\u001b[1;32m   4457\u001b[0m                     \u001b[0mkeys\u001b[0m\u001b[0;34m.\u001b[0m\u001b[0mappend\u001b[0m\u001b[0;34m(\u001b[0m\u001b[0mv\u001b[0m\u001b[0;34m.\u001b[0m\u001b[0mname\u001b[0m\u001b[0;34m)\u001b[0m\u001b[0;34m\u001b[0m\u001b[0m\n",
      "\u001b[0;32m/app/software/anaconda3/lib/python3.6/site-packages/pandas/core/frame.py\u001b[0m in \u001b[0;36m<genexpr>\u001b[0;34m(.0)\u001b[0m\n\u001b[1;32m   4431\u001b[0m             series_gen = (Series.from_array(arr, index=res_columns, name=name,\n\u001b[1;32m   4432\u001b[0m                                             dtype=dtype)\n\u001b[0;32m-> 4433\u001b[0;31m                           for i, (arr, name) in enumerate(zip(values,\n\u001b[0m\u001b[1;32m   4434\u001b[0m                                                               res_index)))\n\u001b[1;32m   4435\u001b[0m         \u001b[0;32melse\u001b[0m\u001b[0;34m:\u001b[0m  \u001b[0;31m# pragma : no cover\u001b[0m\u001b[0;34m\u001b[0m\u001b[0m\n",
      "\u001b[0;32m/app/software/anaconda3/lib/python3.6/site-packages/pandas/core/series.py\u001b[0m in \u001b[0;36mfrom_array\u001b[0;34m(cls, arr, index, name, dtype, copy, fastpath)\u001b[0m\n\u001b[1;32m    264\u001b[0m \u001b[0;34m\u001b[0m\u001b[0m\n\u001b[1;32m    265\u001b[0m         return cls(arr, index=index, name=name, dtype=dtype, copy=copy,\n\u001b[0;32m--> 266\u001b[0;31m                    fastpath=fastpath)\n\u001b[0m\u001b[1;32m    267\u001b[0m \u001b[0;34m\u001b[0m\u001b[0m\n\u001b[1;32m    268\u001b[0m     \u001b[0;34m@\u001b[0m\u001b[0mproperty\u001b[0m\u001b[0;34m\u001b[0m\u001b[0m\n",
      "\u001b[0;32m/app/software/anaconda3/lib/python3.6/site-packages/pandas/core/series.py\u001b[0m in \u001b[0;36m__init__\u001b[0;34m(self, data, index, dtype, name, copy, fastpath)\u001b[0m\n\u001b[1;32m    246\u001b[0m             \u001b[0;32melse\u001b[0m\u001b[0;34m:\u001b[0m\u001b[0;34m\u001b[0m\u001b[0m\n\u001b[1;32m    247\u001b[0m                 data = _sanitize_array(data, index, dtype, copy,\n\u001b[0;32m--> 248\u001b[0;31m                                        raise_cast_failure=True)\n\u001b[0m\u001b[1;32m    249\u001b[0m \u001b[0;34m\u001b[0m\u001b[0m\n\u001b[1;32m    250\u001b[0m                 \u001b[0mdata\u001b[0m \u001b[0;34m=\u001b[0m \u001b[0mSingleBlockManager\u001b[0m\u001b[0;34m(\u001b[0m\u001b[0mdata\u001b[0m\u001b[0;34m,\u001b[0m \u001b[0mindex\u001b[0m\u001b[0;34m,\u001b[0m \u001b[0mfastpath\u001b[0m\u001b[0;34m=\u001b[0m\u001b[0;32mTrue\u001b[0m\u001b[0;34m)\u001b[0m\u001b[0;34m\u001b[0m\u001b[0m\n",
      "\u001b[0;32m/app/software/anaconda3/lib/python3.6/site-packages/pandas/core/series.py\u001b[0m in \u001b[0;36m_sanitize_array\u001b[0;34m(data, index, dtype, copy, raise_cast_failure)\u001b[0m\n\u001b[1;32m   2942\u001b[0m                     \u001b[0msubarr\u001b[0m \u001b[0;34m=\u001b[0m \u001b[0mdata\u001b[0m\u001b[0;34m.\u001b[0m\u001b[0mcopy\u001b[0m\u001b[0;34m(\u001b[0m\u001b[0;34m)\u001b[0m\u001b[0;34m\u001b[0m\u001b[0m\n\u001b[1;32m   2943\u001b[0m             \u001b[0;32melse\u001b[0m\u001b[0;34m:\u001b[0m\u001b[0;34m\u001b[0m\u001b[0m\n\u001b[0;32m-> 2944\u001b[0;31m                 \u001b[0msubarr\u001b[0m \u001b[0;34m=\u001b[0m \u001b[0m_try_cast\u001b[0m\u001b[0;34m(\u001b[0m\u001b[0mdata\u001b[0m\u001b[0;34m,\u001b[0m \u001b[0;32mTrue\u001b[0m\u001b[0;34m)\u001b[0m\u001b[0;34m\u001b[0m\u001b[0m\n\u001b[0m\u001b[1;32m   2945\u001b[0m         \u001b[0;32melif\u001b[0m \u001b[0misinstance\u001b[0m\u001b[0;34m(\u001b[0m\u001b[0mdata\u001b[0m\u001b[0;34m,\u001b[0m \u001b[0mIndex\u001b[0m\u001b[0;34m)\u001b[0m\u001b[0;34m:\u001b[0m\u001b[0;34m\u001b[0m\u001b[0m\n\u001b[1;32m   2946\u001b[0m             \u001b[0;31m# don't coerce Index types\u001b[0m\u001b[0;34m\u001b[0m\u001b[0;34m\u001b[0m\u001b[0m\n",
      "\u001b[0;32m/app/software/anaconda3/lib/python3.6/site-packages/pandas/core/series.py\u001b[0m in \u001b[0;36m_try_cast\u001b[0;34m(arr, take_fast_path)\u001b[0m\n\u001b[1;32m   2918\u001b[0m         \u001b[0;32mtry\u001b[0m\u001b[0;34m:\u001b[0m\u001b[0;34m\u001b[0m\u001b[0m\n\u001b[1;32m   2919\u001b[0m             \u001b[0msubarr\u001b[0m \u001b[0;34m=\u001b[0m \u001b[0mmaybe_cast_to_datetime\u001b[0m\u001b[0;34m(\u001b[0m\u001b[0marr\u001b[0m\u001b[0;34m,\u001b[0m \u001b[0mdtype\u001b[0m\u001b[0;34m)\u001b[0m\u001b[0;34m\u001b[0m\u001b[0m\n\u001b[0;32m-> 2920\u001b[0;31m             \u001b[0;32mif\u001b[0m \u001b[0;32mnot\u001b[0m \u001b[0mis_extension_type\u001b[0m\u001b[0;34m(\u001b[0m\u001b[0msubarr\u001b[0m\u001b[0;34m)\u001b[0m\u001b[0;34m:\u001b[0m\u001b[0;34m\u001b[0m\u001b[0m\n\u001b[0m\u001b[1;32m   2921\u001b[0m                 \u001b[0msubarr\u001b[0m \u001b[0;34m=\u001b[0m \u001b[0mnp\u001b[0m\u001b[0;34m.\u001b[0m\u001b[0marray\u001b[0m\u001b[0;34m(\u001b[0m\u001b[0msubarr\u001b[0m\u001b[0;34m,\u001b[0m \u001b[0mdtype\u001b[0m\u001b[0;34m=\u001b[0m\u001b[0mdtype\u001b[0m\u001b[0;34m,\u001b[0m \u001b[0mcopy\u001b[0m\u001b[0;34m=\u001b[0m\u001b[0mcopy\u001b[0m\u001b[0;34m)\u001b[0m\u001b[0;34m\u001b[0m\u001b[0m\n\u001b[1;32m   2922\u001b[0m         \u001b[0;32mexcept\u001b[0m \u001b[0;34m(\u001b[0m\u001b[0mValueError\u001b[0m\u001b[0;34m,\u001b[0m \u001b[0mTypeError\u001b[0m\u001b[0;34m)\u001b[0m\u001b[0;34m:\u001b[0m\u001b[0;34m\u001b[0m\u001b[0m\n",
      "\u001b[0;32m/app/software/anaconda3/lib/python3.6/site-packages/pandas/core/dtypes/common.py\u001b[0m in \u001b[0;36mis_extension_type\u001b[0;34m(arr)\u001b[0m\n\u001b[1;32m   1598\u001b[0m     \u001b[0;32melif\u001b[0m \u001b[0mis_sparse\u001b[0m\u001b[0;34m(\u001b[0m\u001b[0marr\u001b[0m\u001b[0;34m)\u001b[0m\u001b[0;34m:\u001b[0m\u001b[0;34m\u001b[0m\u001b[0m\n\u001b[1;32m   1599\u001b[0m         \u001b[0;32mreturn\u001b[0m \u001b[0;32mTrue\u001b[0m\u001b[0;34m\u001b[0m\u001b[0m\n\u001b[0;32m-> 1600\u001b[0;31m     \u001b[0;32melif\u001b[0m \u001b[0mis_datetimetz\u001b[0m\u001b[0;34m(\u001b[0m\u001b[0marr\u001b[0m\u001b[0;34m)\u001b[0m\u001b[0;34m:\u001b[0m\u001b[0;34m\u001b[0m\u001b[0m\n\u001b[0m\u001b[1;32m   1601\u001b[0m         \u001b[0;32mreturn\u001b[0m \u001b[0;32mTrue\u001b[0m\u001b[0;34m\u001b[0m\u001b[0m\n\u001b[1;32m   1602\u001b[0m     \u001b[0;32mreturn\u001b[0m \u001b[0;32mFalse\u001b[0m\u001b[0;34m\u001b[0m\u001b[0m\n",
      "\u001b[0;32m/app/software/anaconda3/lib/python3.6/site-packages/pandas/core/dtypes/common.py\u001b[0m in \u001b[0;36mis_datetimetz\u001b[0;34m(arr)\u001b[0m\n\u001b[1;32m    263\u001b[0m     return ((isinstance(arr, ABCDatetimeIndex) and\n\u001b[1;32m    264\u001b[0m              getattr(arr, 'tz', None) is not None) or\n\u001b[0;32m--> 265\u001b[0;31m             is_datetime64tz_dtype(arr))\n\u001b[0m\u001b[1;32m    266\u001b[0m \u001b[0;34m\u001b[0m\u001b[0m\n\u001b[1;32m    267\u001b[0m \u001b[0;34m\u001b[0m\u001b[0m\n",
      "\u001b[0;32m/app/software/anaconda3/lib/python3.6/site-packages/pandas/core/dtypes/common.py\u001b[0m in \u001b[0;36mis_datetime64tz_dtype\u001b[0;34m(arr_or_dtype)\u001b[0m\n\u001b[1;32m    366\u001b[0m     \u001b[0;32mif\u001b[0m \u001b[0marr_or_dtype\u001b[0m \u001b[0;32mis\u001b[0m \u001b[0;32mNone\u001b[0m\u001b[0;34m:\u001b[0m\u001b[0;34m\u001b[0m\u001b[0m\n\u001b[1;32m    367\u001b[0m         \u001b[0;32mreturn\u001b[0m \u001b[0;32mFalse\u001b[0m\u001b[0;34m\u001b[0m\u001b[0m\n\u001b[0;32m--> 368\u001b[0;31m     \u001b[0;32mreturn\u001b[0m \u001b[0mDatetimeTZDtype\u001b[0m\u001b[0;34m.\u001b[0m\u001b[0mis_dtype\u001b[0m\u001b[0;34m(\u001b[0m\u001b[0marr_or_dtype\u001b[0m\u001b[0;34m)\u001b[0m\u001b[0;34m\u001b[0m\u001b[0m\n\u001b[0m\u001b[1;32m    369\u001b[0m \u001b[0;34m\u001b[0m\u001b[0m\n\u001b[1;32m    370\u001b[0m \u001b[0;34m\u001b[0m\u001b[0m\n",
      "\u001b[0;32m/app/software/anaconda3/lib/python3.6/site-packages/pandas/core/dtypes/dtypes.py\u001b[0m in \u001b[0;36mis_dtype\u001b[0;34m(cls, dtype)\u001b[0m\n\u001b[1;32m     87\u001b[0m         \u001b[0mwe\u001b[0m \u001b[0mcan\u001b[0m \u001b[0mmatch\u001b[0m \u001b[0;34m(\u001b[0m\u001b[0mvia\u001b[0m \u001b[0mstring\u001b[0m \u001b[0;32mor\u001b[0m \u001b[0mtype\u001b[0m\u001b[0;34m)\u001b[0m\u001b[0;34m\u001b[0m\u001b[0m\n\u001b[1;32m     88\u001b[0m         \"\"\"\n\u001b[0;32m---> 89\u001b[0;31m         \u001b[0;32mif\u001b[0m \u001b[0mhasattr\u001b[0m\u001b[0;34m(\u001b[0m\u001b[0mdtype\u001b[0m\u001b[0;34m,\u001b[0m \u001b[0;34m'dtype'\u001b[0m\u001b[0;34m)\u001b[0m\u001b[0;34m:\u001b[0m\u001b[0;34m\u001b[0m\u001b[0m\n\u001b[0m\u001b[1;32m     90\u001b[0m             \u001b[0mdtype\u001b[0m \u001b[0;34m=\u001b[0m \u001b[0mdtype\u001b[0m\u001b[0;34m.\u001b[0m\u001b[0mdtype\u001b[0m\u001b[0;34m\u001b[0m\u001b[0m\n\u001b[1;32m     91\u001b[0m         \u001b[0;32mif\u001b[0m \u001b[0misinstance\u001b[0m\u001b[0;34m(\u001b[0m\u001b[0mdtype\u001b[0m\u001b[0;34m,\u001b[0m \u001b[0mcls\u001b[0m\u001b[0;34m)\u001b[0m\u001b[0;34m:\u001b[0m\u001b[0;34m\u001b[0m\u001b[0m\n",
      "\u001b[0;31mKeyboardInterrupt\u001b[0m: "
     ]
    }
   ],
   "source": [
    "df_features['incident_month']=df_features['dateofcall_cln'].dt.month\n",
    "df_features['incident_year']=df_features['dateofcall_cln'].dt.year\n",
    "df_features['incident_hour']=df_features['dateofcall_cln'].dt.hour\n",
    "df_features['incident_day']=df_features['dateofcall_cln'].dt.dayofweek\n",
    "\n",
    "def is_weekend(df):\n",
    "    \"\"\"Determine if a callout was at the weekend. By weekend we really mean from Friday evening onwards\"\"\"\n",
    "    \n",
    "    if df['incident_day'] == 6 or df['incident_day'] == 5:\n",
    "        return 1\n",
    "    elif df['incident_day'] == 4 and df['incident_hour']>=18:\n",
    "        return 1 \n",
    "    else:\n",
    "        return 0\n",
    "    \n",
    "df_features['is_weekend'] = df_features.apply(is_weekend,axis =1)\n",
    "print(df_features.dtypes)\n",
    "df_features.head()"
   ]
  },
  {
   "cell_type": "markdown",
   "metadata": {},
   "source": [
    "Weekends or particular times of night might be a good predictor of malicious false alarms."
   ]
  },
  {
   "cell_type": "code",
   "execution_count": null,
   "metadata": {},
   "outputs": [],
   "source": [
    "df_events=df_features.groupby(['is_malicious_false_alarm','incident_day'])['is_malicious_false_alarm'].count()\n",
    "print(df_events)\n"
   ]
  },
  {
   "cell_type": "markdown",
   "metadata": {},
   "source": [
    "Here is a sample of when malicious false alarms happen. There seem to be more malicious calls on weekends than during the week."
   ]
  },
  {
   "cell_type": "code",
   "execution_count": null,
   "metadata": {},
   "outputs": [],
   "source": [
    "df_plot=df_features.loc[ df_features['is_malicious_false_alarm']==1 ]['incident_day']\n",
    "print(df_plot.head())\n",
    "\n",
    "chosen_idx = np.random.choice(len(df_plot), replace=False, size=1000)\n",
    "df_plot = df_plot.iloc[chosen_idx]\n",
    "\n",
    "sns.distplot(df_plot, hist=True, rug=False,bins=7);"
   ]
  },
  {
   "cell_type": "code",
   "execution_count": null,
   "metadata": {},
   "outputs": [],
   "source": [
    "df_plot=df_features.loc[ df_features['is_malicious_false_alarm']==0 ]['incident_day']\n",
    "print(df_plot.head())\n",
    "\n",
    "chosen_idx = np.random.choice(len(df_plot), replace=False, size=1000)\n",
    "df_plot = df_plot.iloc[chosen_idx]\n",
    "\n",
    "sns.distplot(df_plot, hist=True, rug=False,bins=7);"
   ]
  },
  {
   "cell_type": "markdown",
   "metadata": {},
   "source": [
    "# Is hour of day a good predictor?\n",
    "It doesn't seem like hour of day is a good predictor"
   ]
  },
  {
   "cell_type": "code",
   "execution_count": null,
   "metadata": {},
   "outputs": [],
   "source": [
    "df_plot=df_features.loc[ df_features['is_malicious_false_alarm']==1 ]['incident_hour']\n",
    "print(df_plot.head())\n",
    "\n",
    "chosen_idx = np.random.choice(len(df_plot), replace=False, size=1000)\n",
    "df_plot = df_plot.iloc[chosen_idx]\n",
    "\n",
    "plt=sns.distplot(df_plot, bins=24,hist=True, rug=False);\n",
    "plt.set_title('Malicious False Alarms')"
   ]
  },
  {
   "cell_type": "code",
   "execution_count": null,
   "metadata": {},
   "outputs": [],
   "source": [
    "df_plot=df_features.loc[ df_features['is_malicious_false_alarm']==0 ]['incident_hour']\n",
    "print(df_plot.head())\n",
    "\n",
    "chosen_idx = np.random.choice(len(df_plot), replace=False, size=1000)\n",
    "df_plot = df_plot.iloc[chosen_idx]\n",
    "\n",
    "plt=sns.distplot(df_plot, bins=24,hist=True, rug=False);\n",
    "plt.set_title('Not Malicious False Alarms')"
   ]
  },
  {
   "cell_type": "markdown",
   "metadata": {},
   "source": [
    "# Save features dataset\n",
    "This dataset was time consuming to create. We might like to pick up our work from here so let's save the dataset to the workproduct namespace. "
   ]
  },
  {
   "cell_type": "code",
   "execution_count": 22,
   "metadata": {},
   "outputs": [
    {
     "data": {
      "text/plain": [
       "<sqlalchemy.engine.result.ResultProxy at 0x7efeed6be748>"
      ]
     },
     "execution_count": 22,
     "metadata": {},
     "output_type": "execute_result"
    }
   ],
   "source": [
    "import psycopg2\n",
    "import sqlalchemy\n",
    "\n",
    "database_host='localhost'\n",
    "engine = create_engine('postgresql://postgres@'+database_host+':5432/proj001_lfb')\n",
    "conn = engine.connect()\n",
    "\n",
    "sql = text('drop schema if exists wp_005_false_alarm_analysis_01 cascade;')\n",
    "conn.execute(sql)\n",
    "\n",
    "sql = text('create schema if not exists wp_005_false_alarm_analysis_01;' )\n",
    "conn.execute(sql)"
   ]
  },
  {
   "cell_type": "code",
   "execution_count": 23,
   "metadata": {},
   "outputs": [],
   "source": [
    "df_features.to_sql(name='df_features',con= conn,schema ='wp_005_false_alarm_analysis_01')"
   ]
  },
  {
   "cell_type": "code",
   "execution_count": 24,
   "metadata": {
    "collapsed": true
   },
   "outputs": [],
   "source": [
    "conn.close()"
   ]
  },
  {
   "cell_type": "markdown",
   "metadata": {},
   "source": [
    "# Prepare data for algorithm"
   ]
  },
  {
   "cell_type": "markdown",
   "metadata": {},
   "source": [
    "First retrieve the features dataset from our datastore"
   ]
  },
  {
   "cell_type": "code",
   "execution_count": 53,
   "metadata": {},
   "outputs": [
    {
     "name": "stdout",
     "output_type": "stream",
     "text": [
      "level_0                              int64\n",
      "id_x                                 int64\n",
      "dateofcall_cln              datetime64[ns]\n",
      "incidentnumber_cln                  object\n",
      "id_incident_type                     int64\n",
      "id_property                          int64\n",
      "id_postcode                          int64\n",
      "incident_station_ground             object\n",
      "postcode_full                       object\n",
      "incgeo_boroughname                  object\n",
      "frs                                 object\n",
      "propertycategory                    object\n",
      "propertytype                        object\n",
      "incidentgroup                       object\n",
      "stopcodedescription                 object\n",
      "is_malicious_false_alarm             int64\n",
      "incident_month                       int64\n",
      "incident_year                        int64\n",
      "incident_hour                        int64\n",
      "incident_day                         int64\n",
      "dtype: object\n"
     ]
    }
   ],
   "source": [
    "engine = create_engine('postgresql://postgres@'+database_host+':5432/proj001_lfb')\n",
    "conn = engine.connect()\n",
    "\n",
    "sql = \"select * from wp_005_false_alarm_analysis_01.df_features;\"\n",
    "df_features = pd.read_sql(sql,conn)\n",
    "df_features.set_index('index',inplace=True)\n",
    "df_features.head()\n",
    "print(df_features.dtypes)\n"
   ]
  },
  {
   "cell_type": "code",
   "execution_count": 54,
   "metadata": {},
   "outputs": [
    {
     "name": "stdout",
     "output_type": "stream",
     "text": [
      "level_0                              int64\n",
      "id_x                                 int64\n",
      "dateofcall_cln              datetime64[ns]\n",
      "incidentnumber_cln                  object\n",
      "id_incident_type                     int64\n",
      "id_property                          int64\n",
      "id_postcode                          int64\n",
      "incident_station_ground             object\n",
      "postcode_full                       object\n",
      "incgeo_boroughname                  object\n",
      "frs                                 object\n",
      "propertycategory                    object\n",
      "propertytype                        object\n",
      "incidentgroup                       object\n",
      "stopcodedescription                 object\n",
      "is_malicious_false_alarm             int64\n",
      "incident_month                       int64\n",
      "incident_year                        int64\n",
      "incident_hour                        int64\n",
      "incident_day                         int64\n",
      "dtype: object\n"
     ]
    },
    {
     "data": {
      "text/html": [
       "<div>\n",
       "<style>\n",
       "    .dataframe thead tr:only-child th {\n",
       "        text-align: right;\n",
       "    }\n",
       "\n",
       "    .dataframe thead th {\n",
       "        text-align: left;\n",
       "    }\n",
       "\n",
       "    .dataframe tbody tr th {\n",
       "        vertical-align: top;\n",
       "    }\n",
       "</style>\n",
       "<table border=\"1\" class=\"dataframe\">\n",
       "  <thead>\n",
       "    <tr style=\"text-align: right;\">\n",
       "      <th></th>\n",
       "      <th>level_0</th>\n",
       "      <th>id_x</th>\n",
       "      <th>dateofcall_cln</th>\n",
       "      <th>incidentnumber_cln</th>\n",
       "      <th>id_incident_type</th>\n",
       "      <th>id_property</th>\n",
       "      <th>id_postcode</th>\n",
       "      <th>incident_station_ground</th>\n",
       "      <th>postcode_full</th>\n",
       "      <th>incgeo_boroughname</th>\n",
       "      <th>frs</th>\n",
       "      <th>propertycategory</th>\n",
       "      <th>propertytype</th>\n",
       "      <th>incidentgroup</th>\n",
       "      <th>stopcodedescription</th>\n",
       "      <th>is_malicious_false_alarm</th>\n",
       "      <th>incident_month</th>\n",
       "      <th>incident_year</th>\n",
       "      <th>incident_hour</th>\n",
       "      <th>incident_day</th>\n",
       "    </tr>\n",
       "    <tr>\n",
       "      <th>index</th>\n",
       "      <th></th>\n",
       "      <th></th>\n",
       "      <th></th>\n",
       "      <th></th>\n",
       "      <th></th>\n",
       "      <th></th>\n",
       "      <th></th>\n",
       "      <th></th>\n",
       "      <th></th>\n",
       "      <th></th>\n",
       "      <th></th>\n",
       "      <th></th>\n",
       "      <th></th>\n",
       "      <th></th>\n",
       "      <th></th>\n",
       "      <th></th>\n",
       "      <th></th>\n",
       "      <th></th>\n",
       "      <th></th>\n",
       "      <th></th>\n",
       "    </tr>\n",
       "  </thead>\n",
       "  <tbody>\n",
       "    <tr>\n",
       "      <th>0</th>\n",
       "      <td>0</td>\n",
       "      <td>1</td>\n",
       "      <td>2014-06-22 10:21:15</td>\n",
       "      <td>79398141</td>\n",
       "      <td>2</td>\n",
       "      <td>24</td>\n",
       "      <td>108386</td>\n",
       "      <td>OVERTHEBORDER</td>\n",
       "      <td>None</td>\n",
       "      <td>NOT GEO-CODED</td>\n",
       "      <td>OVERTHEBORDER</td>\n",
       "      <td>Dwelling</td>\n",
       "      <td>House - single occupancy</td>\n",
       "      <td>False Alarm</td>\n",
       "      <td>False alarm - Good intent</td>\n",
       "      <td>0</td>\n",
       "      <td>6</td>\n",
       "      <td>2014</td>\n",
       "      <td>10</td>\n",
       "      <td>6</td>\n",
       "    </tr>\n",
       "    <tr>\n",
       "      <th>1</th>\n",
       "      <td>1</td>\n",
       "      <td>2</td>\n",
       "      <td>2013-12-07 04:29:07</td>\n",
       "      <td>168174131</td>\n",
       "      <td>6</td>\n",
       "      <td>24</td>\n",
       "      <td>108387</td>\n",
       "      <td>OVERTHEBORDER</td>\n",
       "      <td>None</td>\n",
       "      <td>NOT GEO-CODED</td>\n",
       "      <td>OVERTHEBORDER</td>\n",
       "      <td>Dwelling</td>\n",
       "      <td>House - single occupancy</td>\n",
       "      <td>Fire</td>\n",
       "      <td>Primary Fire</td>\n",
       "      <td>0</td>\n",
       "      <td>12</td>\n",
       "      <td>2013</td>\n",
       "      <td>4</td>\n",
       "      <td>5</td>\n",
       "    </tr>\n",
       "    <tr>\n",
       "      <th>2</th>\n",
       "      <td>2</td>\n",
       "      <td>3</td>\n",
       "      <td>2011-10-16 12:20:54</td>\n",
       "      <td>168954111</td>\n",
       "      <td>1</td>\n",
       "      <td>32</td>\n",
       "      <td>108388</td>\n",
       "      <td>BROMLEY</td>\n",
       "      <td>None</td>\n",
       "      <td>BROMLEY</td>\n",
       "      <td>LONDON</td>\n",
       "      <td>Dwelling</td>\n",
       "      <td>Self contained Sheltered Housing</td>\n",
       "      <td>False Alarm</td>\n",
       "      <td>AFA</td>\n",
       "      <td>0</td>\n",
       "      <td>10</td>\n",
       "      <td>2011</td>\n",
       "      <td>12</td>\n",
       "      <td>6</td>\n",
       "    </tr>\n",
       "    <tr>\n",
       "      <th>3</th>\n",
       "      <td>3</td>\n",
       "      <td>4</td>\n",
       "      <td>2017-12-17 13:06:19</td>\n",
       "      <td>168866-17122017</td>\n",
       "      <td>1</td>\n",
       "      <td>29</td>\n",
       "      <td>108388</td>\n",
       "      <td>BROMLEY</td>\n",
       "      <td>None</td>\n",
       "      <td>BROMLEY</td>\n",
       "      <td>LONDON</td>\n",
       "      <td>Dwelling</td>\n",
       "      <td>Purpose Built Flats/Maisonettes - 4 to 9 storeys</td>\n",
       "      <td>False Alarm</td>\n",
       "      <td>AFA</td>\n",
       "      <td>0</td>\n",
       "      <td>12</td>\n",
       "      <td>2017</td>\n",
       "      <td>13</td>\n",
       "      <td>6</td>\n",
       "    </tr>\n",
       "    <tr>\n",
       "      <th>4</th>\n",
       "      <td>4</td>\n",
       "      <td>5</td>\n",
       "      <td>2011-10-14 11:58:03</td>\n",
       "      <td>167600111</td>\n",
       "      <td>1</td>\n",
       "      <td>24</td>\n",
       "      <td>108388</td>\n",
       "      <td>BROMLEY</td>\n",
       "      <td>None</td>\n",
       "      <td>BROMLEY</td>\n",
       "      <td>LONDON</td>\n",
       "      <td>Dwelling</td>\n",
       "      <td>House - single occupancy</td>\n",
       "      <td>False Alarm</td>\n",
       "      <td>AFA</td>\n",
       "      <td>0</td>\n",
       "      <td>10</td>\n",
       "      <td>2011</td>\n",
       "      <td>11</td>\n",
       "      <td>4</td>\n",
       "    </tr>\n",
       "  </tbody>\n",
       "</table>\n",
       "</div>"
      ],
      "text/plain": [
       "       level_0  id_x      dateofcall_cln incidentnumber_cln  id_incident_type  \\\n",
       "index                                                                           \n",
       "0            0     1 2014-06-22 10:21:15           79398141                 2   \n",
       "1            1     2 2013-12-07 04:29:07          168174131                 6   \n",
       "2            2     3 2011-10-16 12:20:54          168954111                 1   \n",
       "3            3     4 2017-12-17 13:06:19    168866-17122017                 1   \n",
       "4            4     5 2011-10-14 11:58:03          167600111                 1   \n",
       "\n",
       "       id_property  id_postcode incident_station_ground postcode_full  \\\n",
       "index                                                                   \n",
       "0               24       108386           OVERTHEBORDER          None   \n",
       "1               24       108387           OVERTHEBORDER          None   \n",
       "2               32       108388                 BROMLEY          None   \n",
       "3               29       108388                 BROMLEY          None   \n",
       "4               24       108388                 BROMLEY          None   \n",
       "\n",
       "      incgeo_boroughname            frs propertycategory  \\\n",
       "index                                                      \n",
       "0          NOT GEO-CODED  OVERTHEBORDER         Dwelling   \n",
       "1          NOT GEO-CODED  OVERTHEBORDER         Dwelling   \n",
       "2                BROMLEY         LONDON         Dwelling   \n",
       "3                BROMLEY         LONDON         Dwelling   \n",
       "4                BROMLEY         LONDON         Dwelling   \n",
       "\n",
       "                                            propertytype incidentgroup  \\\n",
       "index                                                                    \n",
       "0                              House - single occupancy    False Alarm   \n",
       "1                              House - single occupancy           Fire   \n",
       "2                      Self contained Sheltered Housing    False Alarm   \n",
       "3      Purpose Built Flats/Maisonettes - 4 to 9 storeys    False Alarm   \n",
       "4                              House - single occupancy    False Alarm   \n",
       "\n",
       "             stopcodedescription  is_malicious_false_alarm  incident_month  \\\n",
       "index                                                                        \n",
       "0      False alarm - Good intent                         0               6   \n",
       "1                   Primary Fire                         0              12   \n",
       "2                            AFA                         0              10   \n",
       "3                            AFA                         0              12   \n",
       "4                            AFA                         0              10   \n",
       "\n",
       "       incident_year  incident_hour  incident_day  \n",
       "index                                              \n",
       "0               2014             10             6  \n",
       "1               2013              4             5  \n",
       "2               2011             12             6  \n",
       "3               2017             13             6  \n",
       "4               2011             11             4  "
      ]
     },
     "execution_count": 54,
     "metadata": {},
     "output_type": "execute_result"
    }
   ],
   "source": [
    "print(df_features.dtypes)\n",
    "#df_features.drop(['level_0','index'],inplace=True,axis=1)\n",
    "df_features.head(10)"
   ]
  },
  {
   "cell_type": "markdown",
   "metadata": {},
   "source": [
    "Drop columns and rows we won't need"
   ]
  },
  {
   "cell_type": "code",
   "execution_count": 55,
   "metadata": {},
   "outputs": [
    {
     "name": "stdout",
     "output_type": "stream",
     "text": [
      "       level_0 incgeo_boroughname propertycategory  \\\n",
      "index                                                \n",
      "0            0      NOT GEO-CODED         Dwelling   \n",
      "1            1      NOT GEO-CODED         Dwelling   \n",
      "2            2            BROMLEY         Dwelling   \n",
      "3            3            BROMLEY         Dwelling   \n",
      "4            4            BROMLEY         Dwelling   \n",
      "\n",
      "                                            propertytype  \\\n",
      "index                                                      \n",
      "0                              House - single occupancy    \n",
      "1                              House - single occupancy    \n",
      "2                      Self contained Sheltered Housing    \n",
      "3      Purpose Built Flats/Maisonettes - 4 to 9 storeys    \n",
      "4                              House - single occupancy    \n",
      "\n",
      "       is_malicious_false_alarm  incident_month  incident_year  incident_hour  \\\n",
      "index                                                                           \n",
      "0                             0               6           2014             10   \n",
      "1                             0              12           2013              4   \n",
      "2                             0              10           2011             12   \n",
      "3                             0              12           2017             13   \n",
      "4                             0              10           2011             11   \n",
      "\n",
      "       incident_day  \n",
      "index                \n",
      "0                 6  \n",
      "1                 5  \n",
      "2                 6  \n",
      "3                 6  \n",
      "4                 4  \n"
     ]
    }
   ],
   "source": [
    "df_algorithm = df_features.drop(['id_x','incidentnumber_cln','incident_station_ground','id_postcode','postcode_full','frs','dateofcall_cln','id_incident_type','id_property'],axis =1)\n",
    "\n",
    "# Drop the label variables\n",
    "df_algorithm = df_algorithm.drop(['incidentgroup','stopcodedescription'],axis=1)\n",
    "\n",
    "print(df_algorithm.head(5))\n",
    "\n",
    "df_algorithm=df_algorithm.dropna()"
   ]
  },
  {
   "cell_type": "markdown",
   "metadata": {},
   "source": [
    "## Prepare the training and test sets"
   ]
  },
  {
   "cell_type": "markdown",
   "metadata": {},
   "source": [
    "### Need to encode all the categorical variables"
   ]
  },
  {
   "cell_type": "code",
   "execution_count": 56,
   "metadata": {
    "collapsed": true
   },
   "outputs": [],
   "source": [
    "# # TODO complete encoding first\n",
    "# df_propertytype_one_hot = pd.get_dummies( df_algorithm['propertytype'])\n",
    "\n",
    "df_algorithm.drop('propertytype', inplace=True,axis=1)\n",
    "# df_algorithm=df_algorithm.join(df_propertytype_one_hot)\n",
    "\n",
    "# df_algorithm.head()"
   ]
  },
  {
   "cell_type": "code",
   "execution_count": 57,
   "metadata": {},
   "outputs": [
    {
     "data": {
      "text/html": [
       "<div>\n",
       "<style>\n",
       "    .dataframe thead tr:only-child th {\n",
       "        text-align: right;\n",
       "    }\n",
       "\n",
       "    .dataframe thead th {\n",
       "        text-align: left;\n",
       "    }\n",
       "\n",
       "    .dataframe tbody tr th {\n",
       "        vertical-align: top;\n",
       "    }\n",
       "</style>\n",
       "<table border=\"1\" class=\"dataframe\">\n",
       "  <thead>\n",
       "    <tr style=\"text-align: right;\">\n",
       "      <th></th>\n",
       "      <th>level_0</th>\n",
       "      <th>incgeo_boroughname</th>\n",
       "      <th>is_malicious_false_alarm</th>\n",
       "      <th>incident_month</th>\n",
       "      <th>incident_year</th>\n",
       "      <th>incident_hour</th>\n",
       "      <th>incident_day</th>\n",
       "      <th>Dwelling</th>\n",
       "    </tr>\n",
       "    <tr>\n",
       "      <th>index</th>\n",
       "      <th></th>\n",
       "      <th></th>\n",
       "      <th></th>\n",
       "      <th></th>\n",
       "      <th></th>\n",
       "      <th></th>\n",
       "      <th></th>\n",
       "      <th></th>\n",
       "    </tr>\n",
       "  </thead>\n",
       "  <tbody>\n",
       "    <tr>\n",
       "      <th>0</th>\n",
       "      <td>0</td>\n",
       "      <td>NOT GEO-CODED</td>\n",
       "      <td>0</td>\n",
       "      <td>6</td>\n",
       "      <td>2014</td>\n",
       "      <td>10</td>\n",
       "      <td>6</td>\n",
       "      <td>1</td>\n",
       "    </tr>\n",
       "    <tr>\n",
       "      <th>1</th>\n",
       "      <td>1</td>\n",
       "      <td>NOT GEO-CODED</td>\n",
       "      <td>0</td>\n",
       "      <td>12</td>\n",
       "      <td>2013</td>\n",
       "      <td>4</td>\n",
       "      <td>5</td>\n",
       "      <td>1</td>\n",
       "    </tr>\n",
       "    <tr>\n",
       "      <th>2</th>\n",
       "      <td>2</td>\n",
       "      <td>BROMLEY</td>\n",
       "      <td>0</td>\n",
       "      <td>10</td>\n",
       "      <td>2011</td>\n",
       "      <td>12</td>\n",
       "      <td>6</td>\n",
       "      <td>1</td>\n",
       "    </tr>\n",
       "    <tr>\n",
       "      <th>3</th>\n",
       "      <td>3</td>\n",
       "      <td>BROMLEY</td>\n",
       "      <td>0</td>\n",
       "      <td>12</td>\n",
       "      <td>2017</td>\n",
       "      <td>13</td>\n",
       "      <td>6</td>\n",
       "      <td>1</td>\n",
       "    </tr>\n",
       "    <tr>\n",
       "      <th>4</th>\n",
       "      <td>4</td>\n",
       "      <td>BROMLEY</td>\n",
       "      <td>0</td>\n",
       "      <td>10</td>\n",
       "      <td>2011</td>\n",
       "      <td>11</td>\n",
       "      <td>4</td>\n",
       "      <td>1</td>\n",
       "    </tr>\n",
       "  </tbody>\n",
       "</table>\n",
       "</div>"
      ],
      "text/plain": [
       "       level_0 incgeo_boroughname  is_malicious_false_alarm  incident_month  \\\n",
       "index                                                                         \n",
       "0            0      NOT GEO-CODED                         0               6   \n",
       "1            1      NOT GEO-CODED                         0              12   \n",
       "2            2            BROMLEY                         0              10   \n",
       "3            3            BROMLEY                         0              12   \n",
       "4            4            BROMLEY                         0              10   \n",
       "\n",
       "       incident_year  incident_hour  incident_day  Dwelling  \n",
       "index                                                        \n",
       "0               2014             10             6         1  \n",
       "1               2013              4             5         1  \n",
       "2               2011             12             6         1  \n",
       "3               2017             13             6         1  \n",
       "4               2011             11             4         1  "
      ]
     },
     "execution_count": 57,
     "metadata": {},
     "output_type": "execute_result"
    }
   ],
   "source": [
    "# TODO complete encoding first\n",
    "df_propertycategory_one_hot = pd.get_dummies( df_algorithm['propertycategory'])\n",
    "\n",
    "df_algorithm.drop('propertycategory', inplace=True,axis=1)\n",
    "df_algorithm=df_algorithm.join(df_propertycategory_one_hot)\n",
    "\n",
    "df_algorithm.head()\n"
   ]
  },
  {
   "cell_type": "code",
   "execution_count": 58,
   "metadata": {},
   "outputs": [
    {
     "data": {
      "text/html": [
       "<div>\n",
       "<style>\n",
       "    .dataframe thead tr:only-child th {\n",
       "        text-align: right;\n",
       "    }\n",
       "\n",
       "    .dataframe thead th {\n",
       "        text-align: left;\n",
       "    }\n",
       "\n",
       "    .dataframe tbody tr th {\n",
       "        vertical-align: top;\n",
       "    }\n",
       "</style>\n",
       "<table border=\"1\" class=\"dataframe\">\n",
       "  <thead>\n",
       "    <tr style=\"text-align: right;\">\n",
       "      <th></th>\n",
       "      <th>level_0</th>\n",
       "      <th>is_malicious_false_alarm</th>\n",
       "      <th>incident_month</th>\n",
       "      <th>incident_year</th>\n",
       "      <th>incident_hour</th>\n",
       "      <th>incident_day</th>\n",
       "      <th>Dwelling</th>\n",
       "      <th>NOT GEO-CODED</th>\n",
       "      <th>BROMLEY</th>\n",
       "    </tr>\n",
       "    <tr>\n",
       "      <th>index</th>\n",
       "      <th></th>\n",
       "      <th></th>\n",
       "      <th></th>\n",
       "      <th></th>\n",
       "      <th></th>\n",
       "      <th></th>\n",
       "      <th></th>\n",
       "      <th></th>\n",
       "      <th></th>\n",
       "    </tr>\n",
       "  </thead>\n",
       "  <tbody>\n",
       "    <tr>\n",
       "      <th>0</th>\n",
       "      <td>0</td>\n",
       "      <td>0</td>\n",
       "      <td>6</td>\n",
       "      <td>2014</td>\n",
       "      <td>10</td>\n",
       "      <td>6</td>\n",
       "      <td>1</td>\n",
       "      <td>1</td>\n",
       "      <td>0</td>\n",
       "    </tr>\n",
       "    <tr>\n",
       "      <th>1</th>\n",
       "      <td>1</td>\n",
       "      <td>0</td>\n",
       "      <td>12</td>\n",
       "      <td>2013</td>\n",
       "      <td>4</td>\n",
       "      <td>5</td>\n",
       "      <td>1</td>\n",
       "      <td>1</td>\n",
       "      <td>0</td>\n",
       "    </tr>\n",
       "    <tr>\n",
       "      <th>2</th>\n",
       "      <td>2</td>\n",
       "      <td>0</td>\n",
       "      <td>10</td>\n",
       "      <td>2011</td>\n",
       "      <td>12</td>\n",
       "      <td>6</td>\n",
       "      <td>1</td>\n",
       "      <td>0</td>\n",
       "      <td>1</td>\n",
       "    </tr>\n",
       "    <tr>\n",
       "      <th>3</th>\n",
       "      <td>3</td>\n",
       "      <td>0</td>\n",
       "      <td>12</td>\n",
       "      <td>2017</td>\n",
       "      <td>13</td>\n",
       "      <td>6</td>\n",
       "      <td>1</td>\n",
       "      <td>0</td>\n",
       "      <td>1</td>\n",
       "    </tr>\n",
       "    <tr>\n",
       "      <th>4</th>\n",
       "      <td>4</td>\n",
       "      <td>0</td>\n",
       "      <td>10</td>\n",
       "      <td>2011</td>\n",
       "      <td>11</td>\n",
       "      <td>4</td>\n",
       "      <td>1</td>\n",
       "      <td>0</td>\n",
       "      <td>1</td>\n",
       "    </tr>\n",
       "  </tbody>\n",
       "</table>\n",
       "</div>"
      ],
      "text/plain": [
       "       level_0  is_malicious_false_alarm  incident_month  incident_year  \\\n",
       "index                                                                     \n",
       "0            0                         0               6           2014   \n",
       "1            1                         0              12           2013   \n",
       "2            2                         0              10           2011   \n",
       "3            3                         0              12           2017   \n",
       "4            4                         0              10           2011   \n",
       "\n",
       "       incident_hour  incident_day  Dwelling   NOT GEO-CODED  BROMLEY  \n",
       "index                                                                  \n",
       "0                 10             6         1               1        0  \n",
       "1                  4             5         1               1        0  \n",
       "2                 12             6         1               0        1  \n",
       "3                 13             6         1               0        1  \n",
       "4                 11             4         1               0        1  "
      ]
     },
     "execution_count": 58,
     "metadata": {},
     "output_type": "execute_result"
    }
   ],
   "source": [
    "df_borough_one_hot = pd.get_dummies( df_algorithm['incgeo_boroughname'])\n",
    "\n",
    "df_algorithm.drop('incgeo_boroughname', inplace=True,axis=1)\n",
    "df_algorithm=df_algorithm.join(df_borough_one_hot)\n",
    "\n",
    "df_algorithm.head()"
   ]
  },
  {
   "cell_type": "code",
   "execution_count": 59,
   "metadata": {},
   "outputs": [
    {
     "data": {
      "text/plain": [
       "level_0                     int64\n",
       "is_malicious_false_alarm    int64\n",
       "incident_month              int64\n",
       "incident_year               int64\n",
       "incident_hour               int64\n",
       "incident_day                int64\n",
       "Dwelling                    uint8\n",
       " NOT GEO-CODED              uint8\n",
       "BROMLEY                     uint8\n",
       "dtype: object"
      ]
     },
     "execution_count": 59,
     "metadata": {},
     "output_type": "execute_result"
    }
   ],
   "source": [
    "df_algorithm.dtypes"
   ]
  },
  {
   "cell_type": "markdown",
   "metadata": {},
   "source": [
    "## Fit the model"
   ]
  },
  {
   "cell_type": "code",
   "execution_count": 60,
   "metadata": {
    "collapsed": true
   },
   "outputs": [],
   "source": [
    "X = df_algorithm.drop('is_malicious_false_alarm', axis=1)\n",
    "y = df_algorithm['is_malicious_false_alarm']"
   ]
  },
  {
   "cell_type": "code",
   "execution_count": 61,
   "metadata": {},
   "outputs": [
    {
     "name": "stderr",
     "output_type": "stream",
     "text": [
      "/app/software/anaconda3/lib/python3.6/site-packages/sklearn/model_selection/_split.py:2026: FutureWarning: From version 0.21, test_size will always complement train_size unless both are specified.\n",
      "  FutureWarning)\n"
     ]
    }
   ],
   "source": [
    "from sklearn.model_selection import train_test_split\n",
    "\n",
    "X_train, X_test, y_train, y_test = train_test_split(X, y, train_size=0.8, random_state=101, shuffle=True)"
   ]
  },
  {
   "cell_type": "code",
   "execution_count": 62,
   "metadata": {},
   "outputs": [
    {
     "name": "stdout",
     "output_type": "stream",
     "text": [
      "       level_0  incident_month  incident_year  incident_hour  incident_day  \\\n",
      "index                                                                        \n",
      "4            4              10           2011             11             4   \n",
      "2            2              10           2011             12             6   \n",
      "1            1              12           2013              4             5   \n",
      "3            3              12           2017             13             6   \n",
      "\n",
      "       Dwelling   NOT GEO-CODED  BROMLEY  \n",
      "index                                     \n",
      "4             1               0        1  \n",
      "2             1               0        1  \n",
      "1             1               1        0  \n",
      "3             1               0        1  \n",
      "\n",
      "index\n",
      "4    0\n",
      "2    0\n",
      "1    0\n",
      "3    0\n",
      "Name: is_malicious_false_alarm, dtype: int64\n"
     ]
    }
   ],
   "source": [
    "print(X_train.head())\n",
    "print(\"\")\n",
    "print(y_train.head())"
   ]
  },
  {
   "cell_type": "code",
   "execution_count": 63,
   "metadata": {},
   "outputs": [
    {
     "data": {
      "text/plain": [
       "DecisionTreeClassifier(class_weight=None, criterion='gini', max_depth=None,\n",
       "            max_features=None, max_leaf_nodes=None,\n",
       "            min_impurity_decrease=0.0, min_impurity_split=None,\n",
       "            min_samples_leaf=1, min_samples_split=2,\n",
       "            min_weight_fraction_leaf=0.0, presort=False, random_state=None,\n",
       "            splitter='best')"
      ]
     },
     "execution_count": 63,
     "metadata": {},
     "output_type": "execute_result"
    }
   ],
   "source": [
    "from sklearn import tree\n",
    "\n",
    "model = tree.DecisionTreeClassifier()\n",
    "model"
   ]
  },
  {
   "cell_type": "code",
   "execution_count": 64,
   "metadata": {},
   "outputs": [
    {
     "data": {
      "text/plain": [
       "DecisionTreeClassifier(class_weight=None, criterion='gini', max_depth=None,\n",
       "            max_features=None, max_leaf_nodes=None,\n",
       "            min_impurity_decrease=0.0, min_impurity_split=None,\n",
       "            min_samples_leaf=1, min_samples_split=2,\n",
       "            min_weight_fraction_leaf=0.0, presort=False, random_state=None,\n",
       "            splitter='best')"
      ]
     },
     "execution_count": 64,
     "metadata": {},
     "output_type": "execute_result"
    }
   ],
   "source": [
    "model.fit(X_train, y_train)"
   ]
  },
  {
   "cell_type": "markdown",
   "metadata": {},
   "source": [
    "## Test the model"
   ]
  },
  {
   "cell_type": "code",
   "execution_count": 67,
   "metadata": {},
   "outputs": [
    {
     "data": {
      "text/plain": [
       "array([0])"
      ]
     },
     "execution_count": 67,
     "metadata": {},
     "output_type": "execute_result"
    }
   ],
   "source": [
    "y_predict = model.predict(X_test)\n",
    "\n",
    "y_predict"
   ]
  },
  {
   "cell_type": "code",
   "execution_count": null,
   "metadata": {
    "collapsed": true
   },
   "outputs": [],
   "source": [
    "from sklearn.metrics import accuracy_score\n",
    "\n",
    "accuracy_score(y_test, y_predict)"
   ]
  },
  {
   "cell_type": "code",
   "execution_count": 44,
   "metadata": {},
   "outputs": [
    {
     "ename": "ValueError",
     "evalue": "Shape of passed values is (1, 1), indices imply (2, 2)",
     "output_type": "error",
     "traceback": [
      "\u001b[0;31m---------------------------------------------------------------------------\u001b[0m",
      "\u001b[0;31mValueError\u001b[0m                                Traceback (most recent call last)",
      "\u001b[0;32m/app/software/anaconda3/lib/python3.6/site-packages/pandas/core/internals.py\u001b[0m in \u001b[0;36mcreate_block_manager_from_blocks\u001b[0;34m(blocks, axes)\u001b[0m\n\u001b[1;32m   4293\u001b[0m                 blocks = [make_block(values=blocks[0],\n\u001b[0;32m-> 4294\u001b[0;31m                                      placement=slice(0, len(axes[0])))]\n\u001b[0m\u001b[1;32m   4295\u001b[0m \u001b[0;34m\u001b[0m\u001b[0m\n",
      "\u001b[0;32m/app/software/anaconda3/lib/python3.6/site-packages/pandas/core/internals.py\u001b[0m in \u001b[0;36mmake_block\u001b[0;34m(values, placement, klass, ndim, dtype, fastpath)\u001b[0m\n\u001b[1;32m   2718\u001b[0m \u001b[0;34m\u001b[0m\u001b[0m\n\u001b[0;32m-> 2719\u001b[0;31m     \u001b[0;32mreturn\u001b[0m \u001b[0mklass\u001b[0m\u001b[0;34m(\u001b[0m\u001b[0mvalues\u001b[0m\u001b[0;34m,\u001b[0m \u001b[0mndim\u001b[0m\u001b[0;34m=\u001b[0m\u001b[0mndim\u001b[0m\u001b[0;34m,\u001b[0m \u001b[0mfastpath\u001b[0m\u001b[0;34m=\u001b[0m\u001b[0mfastpath\u001b[0m\u001b[0;34m,\u001b[0m \u001b[0mplacement\u001b[0m\u001b[0;34m=\u001b[0m\u001b[0mplacement\u001b[0m\u001b[0;34m)\u001b[0m\u001b[0;34m\u001b[0m\u001b[0m\n\u001b[0m\u001b[1;32m   2720\u001b[0m \u001b[0;34m\u001b[0m\u001b[0m\n",
      "\u001b[0;32m/app/software/anaconda3/lib/python3.6/site-packages/pandas/core/internals.py\u001b[0m in \u001b[0;36m__init__\u001b[0;34m(self, values, placement, ndim, fastpath)\u001b[0m\n\u001b[1;32m    114\u001b[0m                              'implies %d' % (len(self.values),\n\u001b[0;32m--> 115\u001b[0;31m                                              len(self.mgr_locs)))\n\u001b[0m\u001b[1;32m    116\u001b[0m \u001b[0;34m\u001b[0m\u001b[0m\n",
      "\u001b[0;31mValueError\u001b[0m: Wrong number of items passed 1, placement implies 2",
      "\nDuring handling of the above exception, another exception occurred:\n",
      "\u001b[0;31mValueError\u001b[0m                                Traceback (most recent call last)",
      "\u001b[0;32m<ipython-input-44-68026c461027>\u001b[0m in \u001b[0;36m<module>\u001b[0;34m()\u001b[0m\n\u001b[1;32m      4\u001b[0m     \u001b[0mconfusion_matrix\u001b[0m\u001b[0;34m(\u001b[0m\u001b[0my_test\u001b[0m\u001b[0;34m,\u001b[0m \u001b[0my_predict\u001b[0m\u001b[0;34m)\u001b[0m\u001b[0;34m,\u001b[0m\u001b[0;34m\u001b[0m\u001b[0m\n\u001b[1;32m      5\u001b[0m     \u001b[0mcolumns\u001b[0m\u001b[0;34m=\u001b[0m\u001b[0;34m[\u001b[0m\u001b[0;34m'Predicted Not Malicious'\u001b[0m\u001b[0;34m,\u001b[0m \u001b[0;34m'Predicted Malicious'\u001b[0m\u001b[0;34m]\u001b[0m\u001b[0;34m,\u001b[0m\u001b[0;34m\u001b[0m\u001b[0m\n\u001b[0;32m----> 6\u001b[0;31m     \u001b[0mindex\u001b[0m\u001b[0;34m=\u001b[0m\u001b[0;34m[\u001b[0m\u001b[0;34m'True Not Malicious'\u001b[0m\u001b[0;34m,\u001b[0m \u001b[0;34m'True Malicious'\u001b[0m\u001b[0;34m]\u001b[0m\u001b[0;34m\u001b[0m\u001b[0m\n\u001b[0m\u001b[1;32m      7\u001b[0m )\n",
      "\u001b[0;32m/app/software/anaconda3/lib/python3.6/site-packages/pandas/core/frame.py\u001b[0m in \u001b[0;36m__init__\u001b[0;34m(self, data, index, columns, dtype, copy)\u001b[0m\n\u001b[1;32m    304\u001b[0m             \u001b[0;32melse\u001b[0m\u001b[0;34m:\u001b[0m\u001b[0;34m\u001b[0m\u001b[0m\n\u001b[1;32m    305\u001b[0m                 mgr = self._init_ndarray(data, index, columns, dtype=dtype,\n\u001b[0;32m--> 306\u001b[0;31m                                          copy=copy)\n\u001b[0m\u001b[1;32m    307\u001b[0m         \u001b[0;32melif\u001b[0m \u001b[0misinstance\u001b[0m\u001b[0;34m(\u001b[0m\u001b[0mdata\u001b[0m\u001b[0;34m,\u001b[0m \u001b[0;34m(\u001b[0m\u001b[0mlist\u001b[0m\u001b[0;34m,\u001b[0m \u001b[0mtypes\u001b[0m\u001b[0;34m.\u001b[0m\u001b[0mGeneratorType\u001b[0m\u001b[0;34m)\u001b[0m\u001b[0;34m)\u001b[0m\u001b[0;34m:\u001b[0m\u001b[0;34m\u001b[0m\u001b[0m\n\u001b[1;32m    308\u001b[0m             \u001b[0;32mif\u001b[0m \u001b[0misinstance\u001b[0m\u001b[0;34m(\u001b[0m\u001b[0mdata\u001b[0m\u001b[0;34m,\u001b[0m \u001b[0mtypes\u001b[0m\u001b[0;34m.\u001b[0m\u001b[0mGeneratorType\u001b[0m\u001b[0;34m)\u001b[0m\u001b[0;34m:\u001b[0m\u001b[0;34m\u001b[0m\u001b[0m\n",
      "\u001b[0;32m/app/software/anaconda3/lib/python3.6/site-packages/pandas/core/frame.py\u001b[0m in \u001b[0;36m_init_ndarray\u001b[0;34m(self, values, index, columns, dtype, copy)\u001b[0m\n\u001b[1;32m    481\u001b[0m             \u001b[0mvalues\u001b[0m \u001b[0;34m=\u001b[0m \u001b[0mmaybe_infer_to_datetimelike\u001b[0m\u001b[0;34m(\u001b[0m\u001b[0mvalues\u001b[0m\u001b[0;34m)\u001b[0m\u001b[0;34m\u001b[0m\u001b[0m\n\u001b[1;32m    482\u001b[0m \u001b[0;34m\u001b[0m\u001b[0m\n\u001b[0;32m--> 483\u001b[0;31m         \u001b[0;32mreturn\u001b[0m \u001b[0mcreate_block_manager_from_blocks\u001b[0m\u001b[0;34m(\u001b[0m\u001b[0;34m[\u001b[0m\u001b[0mvalues\u001b[0m\u001b[0;34m]\u001b[0m\u001b[0;34m,\u001b[0m \u001b[0;34m[\u001b[0m\u001b[0mcolumns\u001b[0m\u001b[0;34m,\u001b[0m \u001b[0mindex\u001b[0m\u001b[0;34m]\u001b[0m\u001b[0;34m)\u001b[0m\u001b[0;34m\u001b[0m\u001b[0m\n\u001b[0m\u001b[1;32m    484\u001b[0m \u001b[0;34m\u001b[0m\u001b[0m\n\u001b[1;32m    485\u001b[0m     \u001b[0;34m@\u001b[0m\u001b[0mproperty\u001b[0m\u001b[0;34m\u001b[0m\u001b[0m\n",
      "\u001b[0;32m/app/software/anaconda3/lib/python3.6/site-packages/pandas/core/internals.py\u001b[0m in \u001b[0;36mcreate_block_manager_from_blocks\u001b[0;34m(blocks, axes)\u001b[0m\n\u001b[1;32m   4301\u001b[0m         \u001b[0mblocks\u001b[0m \u001b[0;34m=\u001b[0m \u001b[0;34m[\u001b[0m\u001b[0mgetattr\u001b[0m\u001b[0;34m(\u001b[0m\u001b[0mb\u001b[0m\u001b[0;34m,\u001b[0m \u001b[0;34m'values'\u001b[0m\u001b[0;34m,\u001b[0m \u001b[0mb\u001b[0m\u001b[0;34m)\u001b[0m \u001b[0;32mfor\u001b[0m \u001b[0mb\u001b[0m \u001b[0;32min\u001b[0m \u001b[0mblocks\u001b[0m\u001b[0;34m]\u001b[0m\u001b[0;34m\u001b[0m\u001b[0m\n\u001b[1;32m   4302\u001b[0m         \u001b[0mtot_items\u001b[0m \u001b[0;34m=\u001b[0m \u001b[0msum\u001b[0m\u001b[0;34m(\u001b[0m\u001b[0mb\u001b[0m\u001b[0;34m.\u001b[0m\u001b[0mshape\u001b[0m\u001b[0;34m[\u001b[0m\u001b[0;36m0\u001b[0m\u001b[0;34m]\u001b[0m \u001b[0;32mfor\u001b[0m \u001b[0mb\u001b[0m \u001b[0;32min\u001b[0m \u001b[0mblocks\u001b[0m\u001b[0;34m)\u001b[0m\u001b[0;34m\u001b[0m\u001b[0m\n\u001b[0;32m-> 4303\u001b[0;31m         \u001b[0mconstruction_error\u001b[0m\u001b[0;34m(\u001b[0m\u001b[0mtot_items\u001b[0m\u001b[0;34m,\u001b[0m \u001b[0mblocks\u001b[0m\u001b[0;34m[\u001b[0m\u001b[0;36m0\u001b[0m\u001b[0;34m]\u001b[0m\u001b[0;34m.\u001b[0m\u001b[0mshape\u001b[0m\u001b[0;34m[\u001b[0m\u001b[0;36m1\u001b[0m\u001b[0;34m:\u001b[0m\u001b[0;34m]\u001b[0m\u001b[0;34m,\u001b[0m \u001b[0maxes\u001b[0m\u001b[0;34m,\u001b[0m \u001b[0me\u001b[0m\u001b[0;34m)\u001b[0m\u001b[0;34m\u001b[0m\u001b[0m\n\u001b[0m\u001b[1;32m   4304\u001b[0m \u001b[0;34m\u001b[0m\u001b[0m\n\u001b[1;32m   4305\u001b[0m \u001b[0;34m\u001b[0m\u001b[0m\n",
      "\u001b[0;32m/app/software/anaconda3/lib/python3.6/site-packages/pandas/core/internals.py\u001b[0m in \u001b[0;36mconstruction_error\u001b[0;34m(tot_items, block_shape, axes, e)\u001b[0m\n\u001b[1;32m   4278\u001b[0m         \u001b[0;32mraise\u001b[0m \u001b[0mValueError\u001b[0m\u001b[0;34m(\u001b[0m\u001b[0;34m\"Empty data passed with indices specified.\"\u001b[0m\u001b[0;34m)\u001b[0m\u001b[0;34m\u001b[0m\u001b[0m\n\u001b[1;32m   4279\u001b[0m     raise ValueError(\"Shape of passed values is {0}, indices imply {1}\".format(\n\u001b[0;32m-> 4280\u001b[0;31m         passed, implied))\n\u001b[0m\u001b[1;32m   4281\u001b[0m \u001b[0;34m\u001b[0m\u001b[0m\n\u001b[1;32m   4282\u001b[0m \u001b[0;34m\u001b[0m\u001b[0m\n",
      "\u001b[0;31mValueError\u001b[0m: Shape of passed values is (1, 1), indices imply (2, 2)"
     ]
    }
   ],
   "source": [
    "from sklearn.metrics import confusion_matrix\n",
    "\n",
    "pd.DataFrame(\n",
    "    confusion_matrix(y_test, y_predict),\n",
    "    columns=['Predicted Not Malicious', 'Predicted Malicious'],\n",
    "    index=['True Not Malicious', 'True Malicious']\n",
    ")"
   ]
  },
  {
   "cell_type": "code",
   "execution_count": null,
   "metadata": {
    "collapsed": true
   },
   "outputs": [],
   "source": []
  }
 ],
 "metadata": {
  "kernelspec": {
   "display_name": "Python 3",
   "language": "python",
   "name": "python3"
  },
  "language_info": {
   "codemirror_mode": {
    "name": "ipython",
    "version": 3
   },
   "file_extension": ".py",
   "mimetype": "text/x-python",
   "name": "python",
   "nbconvert_exporter": "python",
   "pygments_lexer": "ipython3",
   "version": "3.6.1"
  }
 },
 "nbformat": 4,
 "nbformat_minor": 1
}
